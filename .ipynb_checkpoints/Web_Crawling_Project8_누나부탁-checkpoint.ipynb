{
 "cells": [
  {
   "cell_type": "markdown",
   "metadata": {},
   "source": [
    "# 1. 뉴스기사 정보 스크랩하기(기사내용 포함x)\n",
    "- Naver\n",
    "- 원하는 언론사 선택 가능\n",
    "- 날짜 선택 가능(시작과 끝)\n",
    "- Key_word 이용해서 원하는 키워드로 검색 가능(해당 단어가 완전히 포함된 기사)"
   ]
  },
  {
   "cell_type": "markdown",
   "metadata": {},
   "source": [
    "### 검색하기"
   ]
  },
  {
   "cell_type": "code",
   "execution_count": 33,
   "metadata": {
    "ExecuteTime": {
     "end_time": "2019-02-19T15:15:10.428795Z",
     "start_time": "2019-02-19T15:14:49.509769Z"
    }
   },
   "outputs": [],
   "source": [
    "from selenium import webdriver\n",
    "import pandas as pd\n",
    "import numpy as np\n",
    "import re\n",
    "import math\n",
    "import time\n",
    "\n",
    "# Input값\n",
    "key_word = '보장성강화'\n",
    "datestart = '20170801'\n",
    "dateend = '20181231'\n",
    "news = ['KBS', 'MBC', 'SBS', 'JTBC', '연합뉴스', '조선일보', '중앙일보', '동아일보', '한국경제', '매일경제']\n",
    "\n",
    "# chrome 드라이버 키고 naver 접속\n",
    "driver = webdriver.Chrome('chromedriver.exe')\n",
    "driver.get('http://naver.com')\n",
    "\n",
    "driver.find_element_by_id('query').send_keys(key_word) # 검색어 입력\n",
    "driver.find_element_by_id('search_btn').click() # 검색 클릭\n",
    "\n",
    "driver.find_element_by_css_selector('div.lnb_menu').find_element_by_link_text('뉴스').click() # 뉴스 카테고리 클릭\n",
    "\n",
    "# 검색옵션 클릭\n",
    "driver.find_element_by_id('_search_option_btn').click()\n",
    "\n",
    "# 기간 클릭\n",
    "driver.find_element_by_link_text('기간').click()\n",
    "\n",
    "# 기간 입력\n",
    "driver.find_element_by_id('news_input_period_begin').click()\n",
    "for i in datestart:\n",
    "    driver.find_element_by_id('news_input_period_begin').send_keys(i)\n",
    "    time.sleep(0.2)\n",
    "\n",
    "driver.find_element_by_id('news_input_period_end').click()\n",
    "for j in dateend:\n",
    "    driver.find_element_by_id('news_input_period_end').send_keys(j)\n",
    "    time.sleep(0.2)\n",
    "\n",
    "# 적용 클릭\n",
    "driver.find_element_by_css_selector('div.item_option.set_calendar').find_element_by_class_name('_btn_submit').click()\n",
    "\n",
    "# 언론사 선택\n",
    "driver.find_element_by_class_name('option_menu').find_element_by_link_text('언론사').click()\n",
    "\n",
    "driver.find_element_by_id('order_cat')\n",
    "for new in news:\n",
    "    driver.find_element_by_xpath('//label[@title=\"{}\"]'.format(new)).click()\n",
    "\n",
    "\n",
    "driver.find_element_by_class_name('view_btn').find_element_by_css_selector('button.impact._submit_btn').click()\n",
    "\n",
    "# 상세검색\n",
    "driver.find_element_by_id('snb').find_element_by_link_text('상세검색').click()\n",
    "\n",
    "driver.find_element_by_id('inpop1').send_keys(key_word)\n",
    "\n",
    "driver.find_element_by_css_selector('button.btn_ft.ty_green._search').click()\n",
    "\n",
    "# 오래된 순으로 정렬\n",
    "driver.find_element_by_link_text('오래된순').click()"
   ]
  },
  {
   "cell_type": "markdown",
   "metadata": {},
   "source": [
    "### 내용 가져오기 - 댓글 제외\n",
    "- 제목\n",
    "- URL\n",
    "- 날짜\n",
    "- 언론사 이름"
   ]
  },
  {
   "cell_type": "code",
   "execution_count": 186,
   "metadata": {
    "ExecuteTime": {
     "end_time": "2019-02-15T05:09:48.256452Z",
     "start_time": "2019-02-15T05:09:47.966991Z"
    }
   },
   "outputs": [],
   "source": [
    "# 내용 가져오기\n",
    "title_list = []\n",
    "url_list = []\n",
    "date_list = []\n",
    "reporter_list = []\n",
    "\n",
    "total_number_raw = driver.find_element_by_css_selector('div.title_desc.all_my').text\n",
    "total_number = int(re.search(r'/ (.*?$)', total_number_raw).group(1)[:-1].replace(',', ''))\n",
    "total_page = math.ceil(total_number/10)\n",
    "\n",
    "for c in range(total_page):\n",
    "    time.sleep(0.3)\n",
    "    print('\\r{}/{}---title({})/url({})/reporter({})/date({})'.format(c+1, total_page,len(title_list), len(url_list), len(reporter_list), len(date_list)), end = '')\n",
    "    new10 = driver.find_element_by_css_selector('ul.type01').find_elements_by_tag_name('li')\n",
    "    \n",
    "    for n in new10:\n",
    "        title_list.append(n.find_element_by_css_selector('a._sp_each_title').get_attribute('title'))\n",
    "        try:\n",
    "            link = n.find_element_by_link_text('네이버뉴스').get_attribute('href')\n",
    "            url_list.append(link)\n",
    "            \n",
    "            \n",
    "        except:\n",
    "            link = n.find_element_by_css_selector('a._sp_each_url._sp_each_title').get_attribute('href')\n",
    "            url_list.append(link)\n",
    "            \n",
    "        \n",
    "        for strings in n.find_element_by_css_selector('dd.txt_inline').text.split():\n",
    "            \n",
    "            for rep in news:\n",
    "                if re.match(rep, strings):\n",
    "                    reporter_list.append(rep)\n",
    "                \n",
    "            if re.search(r'^[0-9]+\\.[0-9]+\\.[0-9]+\\.$', strings):\n",
    "                date_list.append(strings[:-1].replace('.', '-'))\n",
    "                \n",
    "    if len(title_list) != len(reporter_list):\n",
    "        print(c)\n",
    "    driver.find_element_by_link_text('다음페이지').click()"
   ]
  },
  {
   "cell_type": "markdown",
   "metadata": {},
   "source": [
    "### 내용 가져오기 - 댓글 포함"
   ]
  },
  {
   "cell_type": "code",
   "execution_count": 34,
   "metadata": {
    "ExecuteTime": {
     "end_time": "2019-02-19T16:18:52.706184Z",
     "start_time": "2019-02-19T15:15:10.451782Z"
    },
    "scrolled": true
   },
   "outputs": [
    {
     "name": "stdout",
     "output_type": "stream",
     "text": [
      "숫자가 안 나왔엉0itle(930)/url(930)/reporter(930)/date(930)/comment(930))댓글창이 안 뜬다...\n",
      "댓글실패\n",
      "숫자가 안 나왔엉-title(1160)/url(1160)/reporter(1160)/date(1160)/comment(1160))"
     ]
    },
    {
     "ename": "NoSuchElementException",
     "evalue": "Message: no such element: Unable to locate element: {\"method\":\"link text\",\"selector\":\"다음페이지\"}\n  (Session info: chrome=72.0.3626.109)\n  (Driver info: chromedriver=2.41.578737 (49da6702b16031c40d63e5618de03a32ff6c197e),platform=Windows NT 10.0.17134 x86_64)\n",
     "output_type": "error",
     "traceback": [
      "\u001b[1;31m---------------------------------------------------------------------------\u001b[0m",
      "\u001b[1;31mNoSuchElementException\u001b[0m                    Traceback (most recent call last)",
      "\u001b[1;32m<ipython-input-34-582ec29f9a14>\u001b[0m in \u001b[0;36m<module>\u001b[1;34m()\u001b[0m\n\u001b[0;32m     90\u001b[0m     \u001b[1;32mif\u001b[0m \u001b[0mlen\u001b[0m\u001b[1;33m(\u001b[0m\u001b[0mtitle_list\u001b[0m\u001b[1;33m)\u001b[0m \u001b[1;33m!=\u001b[0m \u001b[0mlen\u001b[0m\u001b[1;33m(\u001b[0m\u001b[0mreporter_list\u001b[0m\u001b[1;33m)\u001b[0m\u001b[1;33m:\u001b[0m\u001b[1;33m\u001b[0m\u001b[0m\n\u001b[0;32m     91\u001b[0m         \u001b[0mprint\u001b[0m\u001b[1;33m(\u001b[0m\u001b[0mc\u001b[0m\u001b[1;33m)\u001b[0m\u001b[1;33m\u001b[0m\u001b[0m\n\u001b[1;32m---> 92\u001b[1;33m     \u001b[0mdriver\u001b[0m\u001b[1;33m.\u001b[0m\u001b[0mfind_element_by_link_text\u001b[0m\u001b[1;33m(\u001b[0m\u001b[1;34m'다음페이지'\u001b[0m\u001b[1;33m)\u001b[0m\u001b[1;33m.\u001b[0m\u001b[0mclick\u001b[0m\u001b[1;33m(\u001b[0m\u001b[1;33m)\u001b[0m\u001b[1;33m\u001b[0m\u001b[0m\n\u001b[0m",
      "\u001b[1;32mC:\\ProgramData\\Anaconda3\\lib\\site-packages\\selenium\\webdriver\\remote\\webdriver.py\u001b[0m in \u001b[0;36mfind_element_by_link_text\u001b[1;34m(self, link_text)\u001b[0m\n\u001b[0;32m    425\u001b[0m             \u001b[0melement\u001b[0m \u001b[1;33m=\u001b[0m \u001b[0mdriver\u001b[0m\u001b[1;33m.\u001b[0m\u001b[0mfind_element_by_link_text\u001b[0m\u001b[1;33m(\u001b[0m\u001b[1;34m'Sign In'\u001b[0m\u001b[1;33m)\u001b[0m\u001b[1;33m\u001b[0m\u001b[0m\n\u001b[0;32m    426\u001b[0m         \"\"\"\n\u001b[1;32m--> 427\u001b[1;33m         \u001b[1;32mreturn\u001b[0m \u001b[0mself\u001b[0m\u001b[1;33m.\u001b[0m\u001b[0mfind_element\u001b[0m\u001b[1;33m(\u001b[0m\u001b[0mby\u001b[0m\u001b[1;33m=\u001b[0m\u001b[0mBy\u001b[0m\u001b[1;33m.\u001b[0m\u001b[0mLINK_TEXT\u001b[0m\u001b[1;33m,\u001b[0m \u001b[0mvalue\u001b[0m\u001b[1;33m=\u001b[0m\u001b[0mlink_text\u001b[0m\u001b[1;33m)\u001b[0m\u001b[1;33m\u001b[0m\u001b[0m\n\u001b[0m\u001b[0;32m    428\u001b[0m \u001b[1;33m\u001b[0m\u001b[0m\n\u001b[0;32m    429\u001b[0m     \u001b[1;32mdef\u001b[0m \u001b[0mfind_elements_by_link_text\u001b[0m\u001b[1;33m(\u001b[0m\u001b[0mself\u001b[0m\u001b[1;33m,\u001b[0m \u001b[0mtext\u001b[0m\u001b[1;33m)\u001b[0m\u001b[1;33m:\u001b[0m\u001b[1;33m\u001b[0m\u001b[0m\n",
      "\u001b[1;32mC:\\ProgramData\\Anaconda3\\lib\\site-packages\\selenium\\webdriver\\remote\\webdriver.py\u001b[0m in \u001b[0;36mfind_element\u001b[1;34m(self, by, value)\u001b[0m\n\u001b[0;32m    964\u001b[0m         return self.execute(Command.FIND_ELEMENT, {\n\u001b[0;32m    965\u001b[0m             \u001b[1;34m'using'\u001b[0m\u001b[1;33m:\u001b[0m \u001b[0mby\u001b[0m\u001b[1;33m,\u001b[0m\u001b[1;33m\u001b[0m\u001b[0m\n\u001b[1;32m--> 966\u001b[1;33m             'value': value})['value']\n\u001b[0m\u001b[0;32m    967\u001b[0m \u001b[1;33m\u001b[0m\u001b[0m\n\u001b[0;32m    968\u001b[0m     \u001b[1;32mdef\u001b[0m \u001b[0mfind_elements\u001b[0m\u001b[1;33m(\u001b[0m\u001b[0mself\u001b[0m\u001b[1;33m,\u001b[0m \u001b[0mby\u001b[0m\u001b[1;33m=\u001b[0m\u001b[0mBy\u001b[0m\u001b[1;33m.\u001b[0m\u001b[0mID\u001b[0m\u001b[1;33m,\u001b[0m \u001b[0mvalue\u001b[0m\u001b[1;33m=\u001b[0m\u001b[1;32mNone\u001b[0m\u001b[1;33m)\u001b[0m\u001b[1;33m:\u001b[0m\u001b[1;33m\u001b[0m\u001b[0m\n",
      "\u001b[1;32mC:\\ProgramData\\Anaconda3\\lib\\site-packages\\selenium\\webdriver\\remote\\webdriver.py\u001b[0m in \u001b[0;36mexecute\u001b[1;34m(self, driver_command, params)\u001b[0m\n\u001b[0;32m    318\u001b[0m         \u001b[0mresponse\u001b[0m \u001b[1;33m=\u001b[0m \u001b[0mself\u001b[0m\u001b[1;33m.\u001b[0m\u001b[0mcommand_executor\u001b[0m\u001b[1;33m.\u001b[0m\u001b[0mexecute\u001b[0m\u001b[1;33m(\u001b[0m\u001b[0mdriver_command\u001b[0m\u001b[1;33m,\u001b[0m \u001b[0mparams\u001b[0m\u001b[1;33m)\u001b[0m\u001b[1;33m\u001b[0m\u001b[0m\n\u001b[0;32m    319\u001b[0m         \u001b[1;32mif\u001b[0m \u001b[0mresponse\u001b[0m\u001b[1;33m:\u001b[0m\u001b[1;33m\u001b[0m\u001b[0m\n\u001b[1;32m--> 320\u001b[1;33m             \u001b[0mself\u001b[0m\u001b[1;33m.\u001b[0m\u001b[0merror_handler\u001b[0m\u001b[1;33m.\u001b[0m\u001b[0mcheck_response\u001b[0m\u001b[1;33m(\u001b[0m\u001b[0mresponse\u001b[0m\u001b[1;33m)\u001b[0m\u001b[1;33m\u001b[0m\u001b[0m\n\u001b[0m\u001b[0;32m    321\u001b[0m             response['value'] = self._unwrap_value(\n\u001b[0;32m    322\u001b[0m                 response.get('value', None))\n",
      "\u001b[1;32mC:\\ProgramData\\Anaconda3\\lib\\site-packages\\selenium\\webdriver\\remote\\errorhandler.py\u001b[0m in \u001b[0;36mcheck_response\u001b[1;34m(self, response)\u001b[0m\n\u001b[0;32m    240\u001b[0m                 \u001b[0malert_text\u001b[0m \u001b[1;33m=\u001b[0m \u001b[0mvalue\u001b[0m\u001b[1;33m[\u001b[0m\u001b[1;34m'alert'\u001b[0m\u001b[1;33m]\u001b[0m\u001b[1;33m.\u001b[0m\u001b[0mget\u001b[0m\u001b[1;33m(\u001b[0m\u001b[1;34m'text'\u001b[0m\u001b[1;33m)\u001b[0m\u001b[1;33m\u001b[0m\u001b[0m\n\u001b[0;32m    241\u001b[0m             \u001b[1;32mraise\u001b[0m \u001b[0mexception_class\u001b[0m\u001b[1;33m(\u001b[0m\u001b[0mmessage\u001b[0m\u001b[1;33m,\u001b[0m \u001b[0mscreen\u001b[0m\u001b[1;33m,\u001b[0m \u001b[0mstacktrace\u001b[0m\u001b[1;33m,\u001b[0m \u001b[0malert_text\u001b[0m\u001b[1;33m)\u001b[0m\u001b[1;33m\u001b[0m\u001b[0m\n\u001b[1;32m--> 242\u001b[1;33m         \u001b[1;32mraise\u001b[0m \u001b[0mexception_class\u001b[0m\u001b[1;33m(\u001b[0m\u001b[0mmessage\u001b[0m\u001b[1;33m,\u001b[0m \u001b[0mscreen\u001b[0m\u001b[1;33m,\u001b[0m \u001b[0mstacktrace\u001b[0m\u001b[1;33m)\u001b[0m\u001b[1;33m\u001b[0m\u001b[0m\n\u001b[0m\u001b[0;32m    243\u001b[0m \u001b[1;33m\u001b[0m\u001b[0m\n\u001b[0;32m    244\u001b[0m     \u001b[1;32mdef\u001b[0m \u001b[0m_value_or_default\u001b[0m\u001b[1;33m(\u001b[0m\u001b[0mself\u001b[0m\u001b[1;33m,\u001b[0m \u001b[0mobj\u001b[0m\u001b[1;33m,\u001b[0m \u001b[0mkey\u001b[0m\u001b[1;33m,\u001b[0m \u001b[0mdefault\u001b[0m\u001b[1;33m)\u001b[0m\u001b[1;33m:\u001b[0m\u001b[1;33m\u001b[0m\u001b[0m\n",
      "\u001b[1;31mNoSuchElementException\u001b[0m: Message: no such element: Unable to locate element: {\"method\":\"link text\",\"selector\":\"다음페이지\"}\n  (Session info: chrome=72.0.3626.109)\n  (Driver info: chromedriver=2.41.578737 (49da6702b16031c40d63e5618de03a32ff6c197e),platform=Windows NT 10.0.17134 x86_64)\n"
     ]
    }
   ],
   "source": [
    "from selenium.webdriver.common.by import By\n",
    "from selenium.webdriver.support.ui import WebDriverWait\n",
    "from selenium.webdriver.support import expected_conditions as EC\n",
    "\n",
    "# 내용 가져오기\n",
    "title_list = []\n",
    "url_list = []\n",
    "date_list = []\n",
    "reporter_list = []\n",
    "comment_list = []\n",
    "while_error = 1\n",
    "\n",
    "total_number_raw = driver.find_element_by_css_selector('div.title_desc.all_my').text\n",
    "total_number = int(re.search(r'/ (.*?$)', total_number_raw).group(1)[:-1].replace(',', ''))\n",
    "total_page = math.ceil(total_number/10)\n",
    "\n",
    "\n",
    "current_window = driver.current_window_handle\n",
    "for c in range(total_page):\n",
    "    time.sleep(0.3)\n",
    "    print('\\r{}/{}---title({})/url({})/reporter({})/date({})/comment({}))'.format(c+1, total_page,len(title_list), len(url_list), len(reporter_list), len(date_list), len(comment_list)), end = '')\n",
    "    new10 = driver.find_element_by_css_selector('ul.type01').find_elements_by_tag_name('li')\n",
    "    \n",
    "    for n in new10:\n",
    "        \n",
    "        title_list.append(n.find_element_by_css_selector('a._sp_each_title').get_attribute('title'))\n",
    "        try:\n",
    "            link = n.find_element_by_link_text('네이버뉴스').get_attribute('href')\n",
    "            url_list.append(link)\n",
    "            \n",
    "            # 댓글 추가\n",
    "            try:\n",
    "                n.find_element_by_link_text('네이버뉴스').click()\n",
    "                driver.switch_to.window(driver.window_handles[1])\n",
    "                \n",
    "                try:\n",
    "                    element = WebDriverWait(driver, 10).until(\n",
    "                        EC.presence_of_element_located((By.CLASS_NAME, \"lo_txt\"))\n",
    "                    )\n",
    "                except:\n",
    "                    print('댓글창이 안 뜬다...')\n",
    "                    \n",
    "                while True:\n",
    "                    if len(driver.find_element_by_css_selector('span.lo_txt').text) > 0:\n",
    "                        while_error = 1\n",
    "                        break\n",
    "                    else:\n",
    "                        print('\\r아직 안 나왔어{}'.format(while_error), end = '')\n",
    "                        while_error += 1\n",
    "                        if while_error == 1000:\n",
    "                            print('while 1000번 돌았어...')\n",
    "                            while_error = 1\n",
    "                            break                    \n",
    "                    \n",
    "                    try:\n",
    "                        type(int(driver.find_element_by_css_selector('span.lo_txt').text)) == type(int(1))\n",
    "                        break\n",
    "                    except:\n",
    "                        print('\\r숫자가 안 나왔엉', end = '')\n",
    "                        while_error += 1\n",
    "                        if while_error == 1000:\n",
    "                            print('while 1000번 돌았어...')\n",
    "                            break\n",
    "                            \n",
    "                            \n",
    "                            \n",
    "                comment_list.append(driver.find_element_by_css_selector('span.lo_txt').text)\n",
    "                driver.close()\n",
    "                driver.switch_to.window(current_window)\n",
    "            except:\n",
    "                print('댓글실패')\n",
    "                driver.close()\n",
    "                driver.switch_to.window(current_window)\n",
    "                comment_list.append(99999)\n",
    "            \n",
    "        except:\n",
    "            link = n.find_element_by_css_selector('a._sp_each_url._sp_each_title').get_attribute('href')\n",
    "            url_list.append(link)\n",
    "            \n",
    "        \n",
    "        for strings in n.find_element_by_css_selector('dd.txt_inline').text.split():\n",
    "            \n",
    "            for rep in news:\n",
    "                if re.match(rep, strings):\n",
    "                    reporter_list.append(rep)\n",
    "                \n",
    "            if re.search(r'^[0-9]+\\.[0-9]+\\.[0-9]+\\.$', strings):\n",
    "                date_list.append(strings[:-1].replace('.', '-'))\n",
    "                \n",
    "    if len(title_list) != len(reporter_list):\n",
    "        print(c)\n",
    "    driver.find_element_by_link_text('다음페이지').click()"
   ]
  },
  {
   "cell_type": "markdown",
   "metadata": {},
   "source": [
    "### CSV파일로 저장하기"
   ]
  },
  {
   "cell_type": "code",
   "execution_count": 60,
   "metadata": {
    "ExecuteTime": {
     "end_time": "2019-02-19T16:27:10.501745Z",
     "start_time": "2019-02-19T16:27:10.470758Z"
    }
   },
   "outputs": [
    {
     "name": "stdout",
     "output_type": "stream",
     "text": [
      "<class 'pandas.core.frame.DataFrame'>\n",
      "RangeIndex: 1164 entries, 0 to 1163\n",
      "Data columns (total 5 columns):\n",
      "date       1164 non-null object\n",
      "title      1164 non-null object\n",
      "repoter    1164 non-null object\n",
      "URL        1164 non-null object\n",
      "comment    1164 non-null object\n",
      "dtypes: object(5)\n",
      "memory usage: 45.5+ KB\n"
     ]
    }
   ],
   "source": [
    "data = {'date' : date_list, 'title' : title_list, 'repoter' : reporter_list, 'URL' : url_list, 'comment' : comment_list}\n",
    "df = pd.DataFrame(data)\n",
    "df.info()"
   ]
  },
  {
   "cell_type": "code",
   "execution_count": 73,
   "metadata": {
    "ExecuteTime": {
     "end_time": "2019-02-19T16:31:04.526330Z",
     "start_time": "2019-02-19T16:31:04.475357Z"
    },
    "scrolled": true
   },
   "outputs": [],
   "source": [
    "df.loc[df['comment'] == '댓글', 'comment'] = 0\n",
    "df.loc[df['comment'] == 99999, 'comment'] = 0\n",
    "file_name = '보장성강화_댓글추가_1164개.csv'\n",
    "df.to_csv(file_name, encoding = 'utf-8', index = False)"
   ]
  },
  {
   "cell_type": "markdown",
   "metadata": {},
   "source": [
    "### Comment와 content 파일 합치기"
   ]
  },
  {
   "cell_type": "code",
   "execution_count": 78,
   "metadata": {
    "ExecuteTime": {
     "end_time": "2019-02-19T16:33:20.693867Z",
     "start_time": "2019-02-19T16:33:20.646879Z"
    }
   },
   "outputs": [
    {
     "data": {
      "text/html": [
       "<div>\n",
       "<style scoped>\n",
       "    .dataframe tbody tr th:only-of-type {\n",
       "        vertical-align: middle;\n",
       "    }\n",
       "\n",
       "    .dataframe tbody tr th {\n",
       "        vertical-align: top;\n",
       "    }\n",
       "\n",
       "    .dataframe thead th {\n",
       "        text-align: right;\n",
       "    }\n",
       "</style>\n",
       "<table border=\"1\" class=\"dataframe\">\n",
       "  <thead>\n",
       "    <tr style=\"text-align: right;\">\n",
       "      <th></th>\n",
       "      <th>date</th>\n",
       "      <th>title</th>\n",
       "      <th>repoter</th>\n",
       "      <th>URL</th>\n",
       "      <th>comment</th>\n",
       "    </tr>\n",
       "  </thead>\n",
       "  <tbody>\n",
       "    <tr>\n",
       "      <th>0</th>\n",
       "      <td>2017-08-05</td>\n",
       "      <td>첫 국산 수술로봇 '레보아이' 안전하고 믿을만할까</td>\n",
       "      <td>연합뉴스</td>\n",
       "      <td>https://news.naver.com/main/read.nhn?mode=LSD&amp;...</td>\n",
       "      <td>18</td>\n",
       "    </tr>\n",
       "    <tr>\n",
       "      <th>1</th>\n",
       "      <td>2017-08-09</td>\n",
       "      <td>文 대통령 \"비급여 항목까지 건강보험 확대\"</td>\n",
       "      <td>SBS</td>\n",
       "      <td>https://news.naver.com/main/read.nhn?mode=LSD&amp;...</td>\n",
       "      <td>1</td>\n",
       "    </tr>\n",
       "    <tr>\n",
       "      <th>2</th>\n",
       "      <td>2017-08-09</td>\n",
       "      <td>'문재인 케어' 시동…미용·성형 빼고 모든 치료에 건보 적용</td>\n",
       "      <td>연합뉴스</td>\n",
       "      <td>https://news.naver.com/main/read.nhn?mode=LSD&amp;...</td>\n",
       "      <td>825</td>\n",
       "    </tr>\n",
       "    <tr>\n",
       "      <th>3</th>\n",
       "      <td>2017-08-09</td>\n",
       "      <td>[비급여 대수술] 1인당 연간 의료비 50만원에서 41만원으로 줄인다</td>\n",
       "      <td>연합뉴스</td>\n",
       "      <td>https://news.naver.com/main/read.nhn?mode=LSD&amp;...</td>\n",
       "      <td>45</td>\n",
       "    </tr>\n",
       "    <tr>\n",
       "      <th>4</th>\n",
       "      <td>2017-08-09</td>\n",
       "      <td>[비급여 대수술] 뇌혈관수술 2천만원→567만원</td>\n",
       "      <td>연합뉴스</td>\n",
       "      <td>https://news.naver.com/main/read.nhn?mode=LSD&amp;...</td>\n",
       "      <td>19</td>\n",
       "    </tr>\n",
       "  </tbody>\n",
       "</table>\n",
       "</div>"
      ],
      "text/plain": [
       "         date                                   title repoter  \\\n",
       "0  2017-08-05             첫 국산 수술로봇 '레보아이' 안전하고 믿을만할까    연합뉴스   \n",
       "1  2017-08-09                文 대통령 \"비급여 항목까지 건강보험 확대\"     SBS   \n",
       "2  2017-08-09       '문재인 케어' 시동…미용·성형 빼고 모든 치료에 건보 적용    연합뉴스   \n",
       "3  2017-08-09  [비급여 대수술] 1인당 연간 의료비 50만원에서 41만원으로 줄인다    연합뉴스   \n",
       "4  2017-08-09              [비급여 대수술] 뇌혈관수술 2천만원→567만원    연합뉴스   \n",
       "\n",
       "                                                 URL comment  \n",
       "0  https://news.naver.com/main/read.nhn?mode=LSD&...      18  \n",
       "1  https://news.naver.com/main/read.nhn?mode=LSD&...       1  \n",
       "2  https://news.naver.com/main/read.nhn?mode=LSD&...     825  \n",
       "3  https://news.naver.com/main/read.nhn?mode=LSD&...      45  \n",
       "4  https://news.naver.com/main/read.nhn?mode=LSD&...      19  "
      ]
     },
     "execution_count": 78,
     "metadata": {},
     "output_type": "execute_result"
    }
   ],
   "source": [
    "df_comment = pd.read_csv('보장성강화_댓글추가_1164개.csv', encoding = 'utf-8', engine = 'python')\n",
    "df_comment.head()"
   ]
  },
  {
   "cell_type": "code",
   "execution_count": 81,
   "metadata": {
    "ExecuteTime": {
     "end_time": "2019-02-19T16:34:47.652561Z",
     "start_time": "2019-02-19T16:34:47.467667Z"
    }
   },
   "outputs": [
    {
     "data": {
      "text/html": [
       "<div>\n",
       "<style scoped>\n",
       "    .dataframe tbody tr th:only-of-type {\n",
       "        vertical-align: middle;\n",
       "    }\n",
       "\n",
       "    .dataframe tbody tr th {\n",
       "        vertical-align: top;\n",
       "    }\n",
       "\n",
       "    .dataframe thead th {\n",
       "        text-align: right;\n",
       "    }\n",
       "</style>\n",
       "<table border=\"1\" class=\"dataframe\">\n",
       "  <thead>\n",
       "    <tr style=\"text-align: right;\">\n",
       "      <th></th>\n",
       "      <th>date</th>\n",
       "      <th>title</th>\n",
       "      <th>reporter</th>\n",
       "      <th>URL</th>\n",
       "      <th>content</th>\n",
       "    </tr>\n",
       "  </thead>\n",
       "  <tbody>\n",
       "    <tr>\n",
       "      <th>0</th>\n",
       "      <td>2017-08-05</td>\n",
       "      <td>첫 국산 수술로봇 '레보아이' 안전하고 믿을만할까</td>\n",
       "      <td>연합뉴스</td>\n",
       "      <td>https://news.naver.com/main/read.nhn?mode=LSD&amp;...</td>\n",
       "      <td>개복수술보다 진료비 4~5배 비싼게 흠…건보 적용여부가 성공 열쇠  임상참여 나군호...</td>\n",
       "    </tr>\n",
       "    <tr>\n",
       "      <th>1</th>\n",
       "      <td>2017-08-09</td>\n",
       "      <td>文 대통령 \"비급여 항목까지 건강보험 확대\"</td>\n",
       "      <td>SBS</td>\n",
       "      <td>https://news.naver.com/main/read.nhn?mode=LSD&amp;...</td>\n",
       "      <td>문재인 대통령은 오늘(9일) 서울의 한 대학병원을 찾아 치료비 부담을 국가가 나눠지...</td>\n",
       "    </tr>\n",
       "    <tr>\n",
       "      <th>2</th>\n",
       "      <td>2017-08-09</td>\n",
       "      <td>'문재인 케어' 시동…미용·성형 빼고 모든 치료에 건보 적용</td>\n",
       "      <td>연합뉴스</td>\n",
       "      <td>https://news.naver.com/main/read.nhn?mode=LSD&amp;...</td>\n",
       "      <td>문 대통령, '울지 마세요'(서울=연합뉴스) 배재만 기자 = 문재인 대통령이 9일 ...</td>\n",
       "    </tr>\n",
       "    <tr>\n",
       "      <th>3</th>\n",
       "      <td>2017-08-09</td>\n",
       "      <td>[비급여 대수술] 1인당 연간 의료비 50만원에서 41만원으로 줄인다</td>\n",
       "      <td>연합뉴스</td>\n",
       "      <td>https://news.naver.com/main/read.nhn?mode=LSD&amp;...</td>\n",
       "      <td>문재인 대통령, 건강보험 정책 발표 (PG)[제작 최자윤] 일러스트   재난적 의료...</td>\n",
       "    </tr>\n",
       "    <tr>\n",
       "      <th>4</th>\n",
       "      <td>2017-08-09</td>\n",
       "      <td>[비급여 대수술] 뇌혈관수술 2천만원→567만원</td>\n",
       "      <td>연합뉴스</td>\n",
       "      <td>https://news.naver.com/main/read.nhn?mode=LSD&amp;...</td>\n",
       "      <td>문 대통령, '건강보험 보장은'(서울=연합뉴스) 배재만 기자 = 문재인 대통령이 9...</td>\n",
       "    </tr>\n",
       "  </tbody>\n",
       "</table>\n",
       "</div>"
      ],
      "text/plain": [
       "         date                                   title reporter  \\\n",
       "0  2017-08-05             첫 국산 수술로봇 '레보아이' 안전하고 믿을만할까     연합뉴스   \n",
       "1  2017-08-09                文 대통령 \"비급여 항목까지 건강보험 확대\"      SBS   \n",
       "2  2017-08-09       '문재인 케어' 시동…미용·성형 빼고 모든 치료에 건보 적용     연합뉴스   \n",
       "3  2017-08-09  [비급여 대수술] 1인당 연간 의료비 50만원에서 41만원으로 줄인다     연합뉴스   \n",
       "4  2017-08-09              [비급여 대수술] 뇌혈관수술 2천만원→567만원     연합뉴스   \n",
       "\n",
       "                                                 URL  \\\n",
       "0  https://news.naver.com/main/read.nhn?mode=LSD&...   \n",
       "1  https://news.naver.com/main/read.nhn?mode=LSD&...   \n",
       "2  https://news.naver.com/main/read.nhn?mode=LSD&...   \n",
       "3  https://news.naver.com/main/read.nhn?mode=LSD&...   \n",
       "4  https://news.naver.com/main/read.nhn?mode=LSD&...   \n",
       "\n",
       "                                             content  \n",
       "0  개복수술보다 진료비 4~5배 비싼게 흠…건보 적용여부가 성공 열쇠  임상참여 나군호...  \n",
       "1  문재인 대통령은 오늘(9일) 서울의 한 대학병원을 찾아 치료비 부담을 국가가 나눠지...  \n",
       "2  문 대통령, '울지 마세요'(서울=연합뉴스) 배재만 기자 = 문재인 대통령이 9일 ...  \n",
       "3  문재인 대통령, 건강보험 정책 발표 (PG)[제작 최자윤] 일러스트   재난적 의료...  \n",
       "4  문 대통령, '건강보험 보장은'(서울=연합뉴스) 배재만 기자 = 문재인 대통령이 9...  "
      ]
     },
     "execution_count": 81,
     "metadata": {},
     "output_type": "execute_result"
    }
   ],
   "source": [
    "df_content = pd.read_csv('보장성강화_content포함_댓글제외.csv', encoding = 'utf-8', engine = 'python', names = ['date', 'title', 'reporter', 'URL', 'content'])\n",
    "df_content.head()"
   ]
  },
  {
   "cell_type": "code",
   "execution_count": 107,
   "metadata": {
    "ExecuteTime": {
     "end_time": "2019-02-19T16:58:28.848092Z",
     "start_time": "2019-02-19T16:58:28.728160Z"
    }
   },
   "outputs": [
    {
     "data": {
      "text/html": [
       "<div>\n",
       "<style scoped>\n",
       "    .dataframe tbody tr th:only-of-type {\n",
       "        vertical-align: middle;\n",
       "    }\n",
       "\n",
       "    .dataframe tbody tr th {\n",
       "        vertical-align: top;\n",
       "    }\n",
       "\n",
       "    .dataframe thead th {\n",
       "        text-align: right;\n",
       "    }\n",
       "</style>\n",
       "<table border=\"1\" class=\"dataframe\">\n",
       "  <thead>\n",
       "    <tr style=\"text-align: right;\">\n",
       "      <th></th>\n",
       "      <th>date</th>\n",
       "      <th>title</th>\n",
       "      <th>URL</th>\n",
       "      <th>comment</th>\n",
       "      <th>reporter</th>\n",
       "      <th>content</th>\n",
       "    </tr>\n",
       "  </thead>\n",
       "  <tbody>\n",
       "    <tr>\n",
       "      <th>0</th>\n",
       "      <td>2017-08-05</td>\n",
       "      <td>첫 국산 수술로봇 '레보아이' 안전하고 믿을만할까</td>\n",
       "      <td>https://news.naver.com/main/read.nhn?mode=LSD&amp;...</td>\n",
       "      <td>18</td>\n",
       "      <td>연합뉴스</td>\n",
       "      <td>개복수술보다 진료비 4~5배 비싼게 흠…건보 적용여부가 성공 열쇠  임상참여 나군호...</td>\n",
       "    </tr>\n",
       "    <tr>\n",
       "      <th>1</th>\n",
       "      <td>2017-08-09</td>\n",
       "      <td>文 대통령 \"비급여 항목까지 건강보험 확대\"</td>\n",
       "      <td>https://news.naver.com/main/read.nhn?mode=LSD&amp;...</td>\n",
       "      <td>1</td>\n",
       "      <td>SBS</td>\n",
       "      <td>문재인 대통령은 오늘(9일) 서울의 한 대학병원을 찾아 치료비 부담을 국가가 나눠지...</td>\n",
       "    </tr>\n",
       "    <tr>\n",
       "      <th>2</th>\n",
       "      <td>2017-08-09</td>\n",
       "      <td>'문재인 케어' 시동…미용·성형 빼고 모든 치료에 건보 적용</td>\n",
       "      <td>https://news.naver.com/main/read.nhn?mode=LSD&amp;...</td>\n",
       "      <td>825</td>\n",
       "      <td>연합뉴스</td>\n",
       "      <td>문 대통령, '울지 마세요'(서울=연합뉴스) 배재만 기자 = 문재인 대통령이 9일 ...</td>\n",
       "    </tr>\n",
       "    <tr>\n",
       "      <th>3</th>\n",
       "      <td>2017-08-09</td>\n",
       "      <td>[비급여 대수술] 1인당 연간 의료비 50만원에서 41만원으로 줄인다</td>\n",
       "      <td>https://news.naver.com/main/read.nhn?mode=LSD&amp;...</td>\n",
       "      <td>45</td>\n",
       "      <td>연합뉴스</td>\n",
       "      <td>문재인 대통령, 건강보험 정책 발표 (PG)[제작 최자윤] 일러스트   재난적 의료...</td>\n",
       "    </tr>\n",
       "    <tr>\n",
       "      <th>4</th>\n",
       "      <td>2017-08-09</td>\n",
       "      <td>[비급여 대수술] 뇌혈관수술 2천만원→567만원</td>\n",
       "      <td>https://news.naver.com/main/read.nhn?mode=LSD&amp;...</td>\n",
       "      <td>19</td>\n",
       "      <td>연합뉴스</td>\n",
       "      <td>문 대통령, '건강보험 보장은'(서울=연합뉴스) 배재만 기자 = 문재인 대통령이 9...</td>\n",
       "    </tr>\n",
       "    <tr>\n",
       "      <th>5</th>\n",
       "      <td>2017-08-09</td>\n",
       "      <td>[비급여 대수술] 건강보험 보장성 강화대책 Q&amp;A</td>\n",
       "      <td>https://news.naver.com/main/read.nhn?mode=LSD&amp;...</td>\n",
       "      <td>0</td>\n",
       "      <td>연합뉴스</td>\n",
       "      <td>문재인 대통령, 건강보험 정책 발표 (PG)[제작 최자윤] 일러스트   (서울=연합...</td>\n",
       "    </tr>\n",
       "    <tr>\n",
       "      <th>6</th>\n",
       "      <td>2017-08-09</td>\n",
       "      <td>[비급여 대수술] 시민단체 \"공약후퇴\" vs 의료계 \"의료쇼핑 확산\"</td>\n",
       "      <td>https://news.naver.com/main/read.nhn?mode=LSD&amp;...</td>\n",
       "      <td>460</td>\n",
       "      <td>연합뉴스</td>\n",
       "      <td>문재인 대통령, 건강보험 정책 발표 (PG)[제작 최자윤] 일러스트   (서울=연합...</td>\n",
       "    </tr>\n",
       "    <tr>\n",
       "      <th>7</th>\n",
       "      <td>2017-08-09</td>\n",
       "      <td>文대통령 “2022년까지 건강보험 보장성 높여 의료비 걱정 없는 나라 만들 것”</td>\n",
       "      <td>https://news.naver.com/main/read.nhn?mode=LSD&amp;...</td>\n",
       "      <td>4</td>\n",
       "      <td>KBS</td>\n",
       "      <td>문재인 대통령은 9일(오늘) \"건강보험 보장성을 획기적으로 높여 가겠다\"며 \"202...</td>\n",
       "    </tr>\n",
       "    <tr>\n",
       "      <th>8</th>\n",
       "      <td>2017-08-09</td>\n",
       "      <td>[전문] 文대통령 \"국민건강 지키는 나라다운 나라\"…건보강화 발표문</td>\n",
       "      <td>https://news.naver.com/main/read.nhn?mode=LSD&amp;...</td>\n",
       "      <td>22</td>\n",
       "      <td>연합뉴스</td>\n",
       "      <td>문재인 대통령 [연합뉴스 자료사진]   (서울=연합뉴스) 박경준 기자 = 문재인 대...</td>\n",
       "    </tr>\n",
       "    <tr>\n",
       "      <th>9</th>\n",
       "      <td>2017-08-09</td>\n",
       "      <td>모든 치료비에 건보 적용…병원비 ‘가계 파탄’ 막는다</td>\n",
       "      <td>https://news.naver.com/main/read.nhn?mode=LSD&amp;...</td>\n",
       "      <td>3</td>\n",
       "      <td>KBS</td>\n",
       "      <td>백혈병으로 투병하다 최근 조혈모세포이식술을 받은 53살 김모 씨. 수술 이후 75일...</td>\n",
       "    </tr>\n",
       "    <tr>\n",
       "      <th>10</th>\n",
       "      <td>2017-08-09</td>\n",
       "      <td>[비급여 대수술] 보험업계 긍정 평가…실손보험 위축 불가피</td>\n",
       "      <td>https://news.naver.com/main/read.nhn?mode=LSD&amp;...</td>\n",
       "      <td>205</td>\n",
       "      <td>연합뉴스</td>\n",
       "      <td>[연합뉴스TV 제공]   \"실손보험, 보험금 지출 줄어 보험료 인하 여력\"  (서울...</td>\n",
       "    </tr>\n",
       "    <tr>\n",
       "      <th>11</th>\n",
       "      <td>2017-08-09</td>\n",
       "      <td>시민단체 \"공약후퇴\" vs 의료계 \"의료쇼핑 확산\"</td>\n",
       "      <td>https://news.naver.com/main/read.nhn?mode=LSD&amp;...</td>\n",
       "      <td>0</td>\n",
       "      <td>SBS</td>\n",
       "      <td>문재인 정부가 미용과 성형을 제외한 모든 의료비에 건강보험을 적용하는 내용의 건강보...</td>\n",
       "    </tr>\n",
       "    <tr>\n",
       "      <th>12</th>\n",
       "      <td>2017-08-09</td>\n",
       "      <td>'문재인 케어' 본격 시동…3천800개 비급여항목 건강보험 적용</td>\n",
       "      <td>https://news.naver.com/main/read.nhn?mode=LSD&amp;...</td>\n",
       "      <td>0</td>\n",
       "      <td>SBS</td>\n",
       "      <td>초음파, 자기공명영상장치 MRI, 로봇수술, 2인실 등 그간 건강보험의 적용을 받지...</td>\n",
       "    </tr>\n",
       "    <tr>\n",
       "      <th>13</th>\n",
       "      <td>2017-08-09</td>\n",
       "      <td>3천800개 비급여항목 건보적용…병원비 파탄 막는다</td>\n",
       "      <td>https://news.naver.com/main/read.nhn?mode=LSD&amp;...</td>\n",
       "      <td>0</td>\n",
       "      <td>KBS</td>\n",
       "      <td>그동안 건강보험의 적용을 받지 못했던 초음파, 자기공명영상장치(MRI), 로봇수술,...</td>\n",
       "    </tr>\n",
       "    <tr>\n",
       "      <th>14</th>\n",
       "      <td>2017-08-09</td>\n",
       "      <td>건보료 인상 우려에 문 대통령, \"누적적립금 20조원 투입할 것\"</td>\n",
       "      <td>https://news.naver.com/main/read.nhn?mode=LSD&amp;...</td>\n",
       "      <td>1</td>\n",
       "      <td>매일경제</td>\n",
       "      <td>문재인 대통령은 \"건강보험이 장기 흑자로 20조원의 적립금이 쌓여있는 현시점이야말로...</td>\n",
       "    </tr>\n",
       "    <tr>\n",
       "      <th>15</th>\n",
       "      <td>2017-08-09</td>\n",
       "      <td>與 \"건강보험 보장성 강화로 국민 의료비 절감 노력\"</td>\n",
       "      <td>https://news.naver.com/main/read.nhn?mode=LSD&amp;...</td>\n",
       "      <td>14</td>\n",
       "      <td>연합뉴스</td>\n",
       "      <td>문재인 대통령, 건강보험 정책 발표 (PG)[제작 최자윤] 일러스트   \"비급여 항...</td>\n",
       "    </tr>\n",
       "    <tr>\n",
       "      <th>16</th>\n",
       "      <td>2017-08-09</td>\n",
       "      <td>[비급여 대수술] 시민단체 \"공약후퇴\" vs 의협 \"진료왜곡 심화\"(종합)</td>\n",
       "      <td>https://news.naver.com/main/read.nhn?mode=LSD&amp;...</td>\n",
       "      <td>0</td>\n",
       "      <td>연합뉴스</td>\n",
       "      <td>문재인 대통령, 건강보험 정책 발표 (PG)[제작 최자윤] 일러스트   한의사협회·...</td>\n",
       "    </tr>\n",
       "    <tr>\n",
       "      <th>17</th>\n",
       "      <td>2017-08-09</td>\n",
       "      <td>文정부, 건강보험 개혁한다…미용·성형 제외하고 모두 건보 적용</td>\n",
       "      <td>https://news.naver.com/main/read.nhn?mode=LSD&amp;...</td>\n",
       "      <td>0</td>\n",
       "      <td>매일경제</td>\n",
       "      <td>30조6000억원 투입…올해 MRI 검사에 적용 내년부터 선택진료 추가비용도 사라져...</td>\n",
       "    </tr>\n",
       "    <tr>\n",
       "      <th>18</th>\n",
       "      <td>2017-08-09</td>\n",
       "      <td>[카드뉴스]“아픈 것도 서러운데…도저히 감당이 안 돼요”</td>\n",
       "      <td>https://news.naver.com/main/read.nhn?mode=LSD&amp;...</td>\n",
       "      <td>3</td>\n",
       "      <td>동아일보</td>\n",
       "      <td>[동아일보]           #. “아픈 것도 서러운데… 도저히 감당이 안 돼요....</td>\n",
       "    </tr>\n",
       "    <tr>\n",
       "      <th>19</th>\n",
       "      <td>2017-08-09</td>\n",
       "      <td>[현장에서] '의료쇼핑' 넘치는데…2006년 '무상입원 소동' 잊었나</td>\n",
       "      <td>https://news.naver.com/main/read.nhn?mode=LSD&amp;...</td>\n",
       "      <td>2</td>\n",
       "      <td>한국경제</td>\n",
       "      <td>현장에서  노무현 정부때 6세미만 아동 입원비 0원 엄마들 \"공짜니 입원시키고 보자...</td>\n",
       "    </tr>\n",
       "    <tr>\n",
       "      <th>20</th>\n",
       "      <td>2017-08-09</td>\n",
       "      <td>저소득층 의료비 본인부담 상한액 연소득 10%로…초과액 돌려받아</td>\n",
       "      <td>https://news.naver.com/main/read.nhn?mode=LSD&amp;...</td>\n",
       "      <td>3</td>\n",
       "      <td>한국경제</td>\n",
       "      <td>건강보험 보장성 강화 - 어떻게 달라지나  저소득층 의료비 지원  [ 김일규 기자 ...</td>\n",
       "    </tr>\n",
       "    <tr>\n",
       "      <th>21</th>\n",
       "      <td>2017-08-09</td>\n",
       "      <td>치매노인·아동 입원비 반값으로</td>\n",
       "      <td>https://news.naver.com/main/read.nhn?mode=LSD&amp;...</td>\n",
       "      <td>3</td>\n",
       "      <td>한국경제</td>\n",
       "      <td>취약계층 부담 완화  치매의심 MRI 검사비 건보적용 아동 치아홈메우기 비용 낮춰 ...</td>\n",
       "    </tr>\n",
       "    <tr>\n",
       "      <th>22</th>\n",
       "      <td>2017-08-09</td>\n",
       "      <td>文 \"미용·성형 빼고 모두 건강보험 확대·적용하겠다\"</td>\n",
       "      <td>https://news.naver.com/main/read.nhn?mode=LSD&amp;...</td>\n",
       "      <td>1</td>\n",
       "      <td>SBS</td>\n",
       "      <td>동영상 뉴스 &lt;앵커&gt;  문재인 대통령이 의료비 부담을 대폭 줄이는 내용의 건강보험 ...</td>\n",
       "    </tr>\n",
       "    <tr>\n",
       "      <th>23</th>\n",
       "      <td>2017-08-09</td>\n",
       "      <td>특진 2018년까지 폐지…뇌졸중 수술 치료비 214만→23만원</td>\n",
       "      <td>https://news.naver.com/main/read.nhn?mode=LSD&amp;...</td>\n",
       "      <td>15</td>\n",
       "      <td>한국경제</td>\n",
       "      <td>건강보험 보장성 강화 - 어떻게 달라지나  비급여 3800여개 항목, 2022년까지...</td>\n",
       "    </tr>\n",
       "    <tr>\n",
       "      <th>24</th>\n",
       "      <td>2017-08-09</td>\n",
       "      <td>보험사 실손보험료 인하 압박 더 거세질 듯</td>\n",
       "      <td>https://news.naver.com/main/read.nhn?mode=LSD&amp;...</td>\n",
       "      <td>27</td>\n",
       "      <td>한국경제</td>\n",
       "      <td>건강보험 보장성 강화 - 문제는 없나  고민 깊어진 보험업계 \"과잉진료 관행부터 없...</td>\n",
       "    </tr>\n",
       "    <tr>\n",
       "      <th>25</th>\n",
       "      <td>2017-08-09</td>\n",
       "      <td>\"적정수가 보전 않고 비급여 통제 땐 병원 줄도산\"</td>\n",
       "      <td>https://news.naver.com/main/read.nhn?mode=LSD&amp;...</td>\n",
       "      <td>43</td>\n",
       "      <td>한국경제</td>\n",
       "      <td>건강보험 보장성 강화 - 문제는 없나  의료계 강력 반발 진료비, 원가의 70% 수...</td>\n",
       "    </tr>\n",
       "    <tr>\n",
       "      <th>26</th>\n",
       "      <td>2017-08-09</td>\n",
       "      <td>정부, 30조 재원조달 문제없다지만…5년 후 건보료 급등 우려</td>\n",
       "      <td>https://news.naver.com/main/read.nhn?mode=LSD&amp;...</td>\n",
       "      <td>17</td>\n",
       "      <td>한국경제</td>\n",
       "      <td>건강보험 보장성 강화 - 문제는 없나  건보 재정 '빨간불'  정부 재원조달 방안 ...</td>\n",
       "    </tr>\n",
       "    <tr>\n",
       "      <th>27</th>\n",
       "      <td>2017-08-09</td>\n",
       "      <td>정부, 건보 30조 재원 마련 어떻게 하나</td>\n",
       "      <td>https://news.naver.com/main/read.nhn?mode=LSD&amp;...</td>\n",
       "      <td>59</td>\n",
       "      <td>매일경제</td>\n",
       "      <td>건보적립금 10조 + 국고보조금 활용 건보료 3% 인상만으로 가능하다는데…  ◆ 건...</td>\n",
       "    </tr>\n",
       "    <tr>\n",
       "      <th>28</th>\n",
       "      <td>2017-08-09</td>\n",
       "      <td>MRI·심장초음파 등 3800개 항목 건보 적용…`장밋빛 文케어`</td>\n",
       "      <td>https://news.naver.com/main/read.nhn?mode=LSD&amp;...</td>\n",
       "      <td>17</td>\n",
       "      <td>매일경제</td>\n",
       "      <td>로봇수술등 고가진료도 혜택 가계부담 의료비 비중 36%…OECD 평균 19.6%의 ...</td>\n",
       "    </tr>\n",
       "    <tr>\n",
       "      <th>29</th>\n",
       "      <td>2017-08-09</td>\n",
       "      <td>건보료 10배 내도 대접은 똑같다…고소득층 역차별?</td>\n",
       "      <td>https://news.naver.com/main/read.nhn?mode=LSD&amp;...</td>\n",
       "      <td>16</td>\n",
       "      <td>매일경제</td>\n",
       "      <td>심층진료 등 배려 필요  ◆ 건강보험 보장 확대 ◆  건강보험 보장성 강화로 건강보...</td>\n",
       "    </tr>\n",
       "    <tr>\n",
       "      <th>...</th>\n",
       "      <td>...</td>\n",
       "      <td>...</td>\n",
       "      <td>...</td>\n",
       "      <td>...</td>\n",
       "      <td>...</td>\n",
       "      <td>...</td>\n",
       "    </tr>\n",
       "    <tr>\n",
       "      <th>1134</th>\n",
       "      <td>2018-12-06</td>\n",
       "      <td>일자리 예산 6000억·남북기금 1000억 삭감</td>\n",
       "      <td>https://news.naver.com/main/read.nhn?mode=LSD&amp;...</td>\n",
       "      <td>45</td>\n",
       "      <td>매일경제</td>\n",
       "      <td>민주당·한국당 7일 예산안 처리  공무원 증원 규모 3000명 감축 세수결손 4조원...</td>\n",
       "    </tr>\n",
       "    <tr>\n",
       "      <th>1135</th>\n",
       "      <td>2018-12-06</td>\n",
       "      <td>국회, 내일 예산안 처리…최장 지각에 중소정당 불참 가능성도(종합)</td>\n",
       "      <td>https://news.naver.com/main/read.nhn?mode=LSD&amp;...</td>\n",
       "      <td>35</td>\n",
       "      <td>연합뉴스</td>\n",
       "      <td>민주·한국, 선거제개혁 연계처리 요구한 야3당 빼고 합의…야3당 강력반발  5조원 ...</td>\n",
       "    </tr>\n",
       "    <tr>\n",
       "      <th>1136</th>\n",
       "      <td>2018-12-06</td>\n",
       "      <td>만7세까지 모든 아동에 月10만원 지급</td>\n",
       "      <td>https://news.naver.com/main/read.nhn?mode=LSD&amp;...</td>\n",
       "      <td>66</td>\n",
       "      <td>매일경제</td>\n",
       "      <td>민주당·한국당 7일 예산안 처리  청약조정지역내 2주택자 종부세 상한선 200%로 ...</td>\n",
       "    </tr>\n",
       "    <tr>\n",
       "      <th>1137</th>\n",
       "      <td>2018-12-07</td>\n",
       "      <td>[시사전망대] \"작년 폐렴 사망자 68%…왜?\"</td>\n",
       "      <td>https://news.naver.com/main/read.nhn?mode=LSD&amp;...</td>\n",
       "      <td>5</td>\n",
       "      <td>SBS</td>\n",
       "      <td>동영상 뉴스 [김성준의 시사전망대]  인터뷰 자료의 저작권은 SBS 라디오에 있습니...</td>\n",
       "    </tr>\n",
       "    <tr>\n",
       "      <th>1138</th>\n",
       "      <td>2018-12-11</td>\n",
       "      <td>[김길원의 헬스노트] 유방에 생긴 종양…'맘모톰 수술'은 불법?</td>\n",
       "      <td>https://news.naver.com/main/read.nhn?mode=LSD&amp;...</td>\n",
       "      <td>0</td>\n",
       "      <td>연합뉴스</td>\n",
       "      <td>신의료기술 신청 잇단 반려…\"규제 개선 필요\"  (서울=연합뉴스) 김길원 기자 = ...</td>\n",
       "    </tr>\n",
       "    <tr>\n",
       "      <th>1139</th>\n",
       "      <td>2018-12-12</td>\n",
       "      <td>[Health Journal] 거동 불편한 환자, 이젠 의사가 직접 방문해 진료해준다</td>\n",
       "      <td>https://news.naver.com/main/read.nhn?mode=LSD&amp;...</td>\n",
       "      <td>0</td>\n",
       "      <td>매일경제</td>\n",
       "      <td>내년부터 달라지는 보건의료정책  추나요법 건강보험 적용 1만~3만원 내면 치료받아 ...</td>\n",
       "    </tr>\n",
       "    <tr>\n",
       "      <th>1140</th>\n",
       "      <td>2018-12-13</td>\n",
       "      <td>[경제 인사이드] 실손보험료 인상 전망…보험사 반사이익은?</td>\n",
       "      <td>https://news.naver.com/main/read.nhn?mode=LSD&amp;...</td>\n",
       "      <td>0</td>\n",
       "      <td>KBS</td>\n",
       "      <td>동영상 뉴스   [앵커]  건강보험 보장성을 강화한 문재인 케어 효과로 실손보험료 ...</td>\n",
       "    </tr>\n",
       "    <tr>\n",
       "      <th>1141</th>\n",
       "      <td>2018-12-14</td>\n",
       "      <td>미래에셋은퇴연구소, 네이버와 한국인의 은퇴고민 분석</td>\n",
       "      <td>https://news.naver.com/main/read.nhn?mode=LSD&amp;...</td>\n",
       "      <td>0</td>\n",
       "      <td>한국경제</td>\n",
       "      <td>[ 한민수 기자 ] 미래에셋은퇴연구소는 네이버와 공동으로 2018년 은퇴에 대한 한...</td>\n",
       "    </tr>\n",
       "    <tr>\n",
       "      <th>1142</th>\n",
       "      <td>2018-12-14</td>\n",
       "      <td>올해 은퇴 키워드 검색 상위 '실업급여'·'주 52시간제'</td>\n",
       "      <td>https://news.naver.com/main/read.nhn?mode=LSD&amp;...</td>\n",
       "      <td>9</td>\n",
       "      <td>연합뉴스</td>\n",
       "      <td>미래에셋은퇴연구소·네이버 검색량 분석  서울서부고용복지플러스센터 실업급여 설명회장[...</td>\n",
       "    </tr>\n",
       "    <tr>\n",
       "      <th>1143</th>\n",
       "      <td>2018-12-14</td>\n",
       "      <td>미래에셋은퇴연구소, `행복한 은퇴발전소` 7호 발간</td>\n",
       "      <td>https://news.naver.com/main/read.nhn?mode=LSD&amp;...</td>\n",
       "      <td>0</td>\n",
       "      <td>매일경제</td>\n",
       "      <td>미래에셋은퇴연구소는 네이버와 공동으로 2018년 은퇴에 대한 한국인의 고민을 분석한...</td>\n",
       "    </tr>\n",
       "    <tr>\n",
       "      <th>1144</th>\n",
       "      <td>2018-12-14</td>\n",
       "      <td>[연합시론] 국민 의견 최대공약수 찾아내 연금개혁 성공해야</td>\n",
       "      <td>https://news.naver.com/main/read.nhn?mode=LSD&amp;...</td>\n",
       "      <td>1</td>\n",
       "      <td>연합뉴스</td>\n",
       "      <td>(서울=연합뉴스) 정부가 14일 국민연금 개편안을 발표했다. 소득대체율(평생 평균소...</td>\n",
       "    </tr>\n",
       "    <tr>\n",
       "      <th>1145</th>\n",
       "      <td>2018-12-15</td>\n",
       "      <td>세금으로 돌려막는 ‘국민연금 개편안’</td>\n",
       "      <td>https://news.naver.com/main/read.nhn?mode=LSD&amp;...</td>\n",
       "      <td>66</td>\n",
       "      <td>동아일보</td>\n",
       "      <td>현행 유지-더 내고 더 받는 案 등 복지부, 4가지 개혁방안 긴급 발표 기초연금 인...</td>\n",
       "    </tr>\n",
       "    <tr>\n",
       "      <th>1146</th>\n",
       "      <td>2018-12-16</td>\n",
       "      <td>복지 지출 급증하는데…기초연금 추가 인상하겠다는 정부</td>\n",
       "      <td>https://news.naver.com/main/read.nhn?mode=LSD&amp;...</td>\n",
       "      <td>12</td>\n",
       "      <td>한국경제</td>\n",
       "      <td>지자체 '복지 폭주'  국민연금 개편안서 月40만원 제시  [ 김일규 기자 ] 각 ...</td>\n",
       "    </tr>\n",
       "    <tr>\n",
       "      <th>1147</th>\n",
       "      <td>2018-12-17</td>\n",
       "      <td>문대통령 \"포용국가 건설에 정책역량 투입…사회복지망 촘촘히\"</td>\n",
       "      <td>https://news.naver.com/main/read.nhn?mode=LSD&amp;...</td>\n",
       "      <td>31</td>\n",
       "      <td>연합뉴스</td>\n",
       "      <td>수보회의서 언급 \"건보 보장성 강화…한부모·미혼모 지원 확대\"  \"국공립·직장 보육...</td>\n",
       "    </tr>\n",
       "    <tr>\n",
       "      <th>1148</th>\n",
       "      <td>2018-12-17</td>\n",
       "      <td>유유테이진, 홈헬스케어 렌털사업 선두주자</td>\n",
       "      <td>https://news.naver.com/main/read.nhn?mode=LSD&amp;...</td>\n",
       "      <td>0</td>\n",
       "      <td>한국경제</td>\n",
       "      <td>수면양압기·산소발생기 등 다양한 의료기기 대여서비스  [ 전예진 기자 ]  유유테이...</td>\n",
       "    </tr>\n",
       "    <tr>\n",
       "      <th>1149</th>\n",
       "      <td>2018-12-17</td>\n",
       "      <td>文 대통령 “포용국가 건설 위해 사회복지망 넓고 촘촘히 만들어야”</td>\n",
       "      <td>https://news.naver.com/main/read.nhn?mode=LSD&amp;...</td>\n",
       "      <td>1</td>\n",
       "      <td>KBS</td>\n",
       "      <td>문재인 대통령이 정부는 포용 국가 건설을 국정 목표로 많은 정책역량을 투입하고 있다...</td>\n",
       "    </tr>\n",
       "    <tr>\n",
       "      <th>1150</th>\n",
       "      <td>2018-12-18</td>\n",
       "      <td>'삶의 질' 2040년 세계 10위로 높인다…건강수명 73→78세</td>\n",
       "      <td>https://news.naver.com/main/read.nhn?mode=LSD&amp;...</td>\n",
       "      <td>67</td>\n",
       "      <td>연합뉴스</td>\n",
       "      <td>복지부, 중장기 사회보장 과제·목표 제시…고용률 75%·상대빈곤율 10% 목표  '...</td>\n",
       "    </tr>\n",
       "    <tr>\n",
       "      <th>1151</th>\n",
       "      <td>2018-12-18</td>\n",
       "      <td>우리나라 국민 삶의 질, 2040년까지 세계 10위로</td>\n",
       "      <td>https://news.naver.com/main/read.nhn?mode=LSD&amp;...</td>\n",
       "      <td>0</td>\n",
       "      <td>MBC</td>\n",
       "      <td>정부가 사회보장기본계획 공청회에서 오는 2040년까지 우리나라 국민의 삶의 질을 세...</td>\n",
       "    </tr>\n",
       "    <tr>\n",
       "      <th>1152</th>\n",
       "      <td>2018-12-19</td>\n",
       "      <td>‘낙제 정책’ 작년 3개 → 올해 10개… 정부 신뢰도 ‘보통’ 밑으로</td>\n",
       "      <td>https://news.naver.com/main/read.nhn?mode=LSD&amp;...</td>\n",
       "      <td>34</td>\n",
       "      <td>동아일보</td>\n",
       "      <td>[2018 대한민국 정책평가]국민-전문가 총괄평가 ‘정부와 국민 간의 허니문 기간이...</td>\n",
       "    </tr>\n",
       "    <tr>\n",
       "      <th>1153</th>\n",
       "      <td>2018-12-20</td>\n",
       "      <td>“노인장기요양보험 누적준비금 2022년 고갈”</td>\n",
       "      <td>https://news.naver.com/main/read.nhn?mode=LSD&amp;...</td>\n",
       "      <td>2</td>\n",
       "      <td>동아일보</td>\n",
       "      <td>국회 예산처 ‘재정전망’ 보고서 급격한 고령화로 ‘지출〉수입’… 보험료율 3∼4% ...</td>\n",
       "    </tr>\n",
       "    <tr>\n",
       "      <th>1154</th>\n",
       "      <td>2018-12-24</td>\n",
       "      <td>\"우린 올려야 되는데…\" 보험업계, 삼성화재 실손보험료 인하에 '난감'</td>\n",
       "      <td>https://news.naver.com/main/read.nhn?mode=LSD&amp;...</td>\n",
       "      <td>8</td>\n",
       "      <td>한국경제</td>\n",
       "      <td>[ 차은지 기자 ] 사진=게티이미지  보험업계가 삼성화재의 실손보험료 인하 소식에 ...</td>\n",
       "    </tr>\n",
       "    <tr>\n",
       "      <th>1155</th>\n",
       "      <td>2018-12-25</td>\n",
       "      <td>5년새 30% 뛴 4대 보험료…소비 여력도 줄었다</td>\n",
       "      <td>https://news.naver.com/main/read.nhn?mode=LSD&amp;...</td>\n",
       "      <td>35</td>\n",
       "      <td>중앙일보</td>\n",
       "      <td>서울의 한 중견기업에서 일하는 이모(37)씨. 5년 전 국민연금과 건강·고용·산재보...</td>\n",
       "    </tr>\n",
       "    <tr>\n",
       "      <th>1156</th>\n",
       "      <td>2018-12-27</td>\n",
       "      <td>[뉴스룸/김윤종]의료계가 목소리를 높여도 울림이 적은 이유</td>\n",
       "      <td>https://news.naver.com/main/read.nhn?mode=LSD&amp;...</td>\n",
       "      <td>3</td>\n",
       "      <td>동아일보</td>\n",
       "      <td>김윤종 정책사회부 차장 “개나 소나 다 경찰이냐!”  대한의사협회가 최근 국회의사당...</td>\n",
       "    </tr>\n",
       "    <tr>\n",
       "      <th>1157</th>\n",
       "      <td>2018-12-27</td>\n",
       "      <td>문재인 케어 글쎄?재정 쏟지만 환자 부담 0.1%p 낮춰</td>\n",
       "      <td>https://news.naver.com/main/read.nhn?mode=LSD&amp;...</td>\n",
       "      <td>1</td>\n",
       "      <td>중앙일보</td>\n",
       "      <td>건보공단 2017 진료비 실태조사 문재인 케어에 돈을 많이 투자하지만 환자 부담 경...</td>\n",
       "    </tr>\n",
       "    <tr>\n",
       "      <th>1158</th>\n",
       "      <td>2018-12-27</td>\n",
       "      <td>2017년 건강보험 보장률 62.7%…소폭 개선</td>\n",
       "      <td>https://news.naver.com/main/read.nhn?mode=LSD&amp;...</td>\n",
       "      <td>0</td>\n",
       "      <td>연합뉴스</td>\n",
       "      <td>건강보험(CG)[연합뉴스TV 제공]   (서울=연합뉴스) 서한기 기자 = 지난해 건...</td>\n",
       "    </tr>\n",
       "    <tr>\n",
       "      <th>1159</th>\n",
       "      <td>2018-12-27</td>\n",
       "      <td>2017년 건강보험 보장률 62.7%…소폭 증가</td>\n",
       "      <td>https://news.naver.com/main/read.nhn?mode=LSD&amp;...</td>\n",
       "      <td>0</td>\n",
       "      <td>KBS</td>\n",
       "      <td>지난해 건강보험의 보장성이 소폭 개선된 것으로 나타났습니다.  국민건강보험공단은 이...</td>\n",
       "    </tr>\n",
       "    <tr>\n",
       "      <th>1160</th>\n",
       "      <td>2018-12-28</td>\n",
       "      <td>문케어 4800억 투입했는데…환자 진료비 부담 0.1%P만 낮아져</td>\n",
       "      <td>https://news.naver.com/main/read.nhn?mode=LSD&amp;...</td>\n",
       "      <td>3</td>\n",
       "      <td>중앙일보</td>\n",
       "      <td>지난해 건보 적용된 비율 63%뿐 암 등 4대 중증환자 부담은 줄어 환자 부담을 획...</td>\n",
       "    </tr>\n",
       "    <tr>\n",
       "      <th>1161</th>\n",
       "      <td>2018-12-28</td>\n",
       "      <td>[뉴스인사이트] '국민연금 100만 원 시대'…정말 올까?</td>\n",
       "      <td>https://news.naver.com/main/read.nhn?mode=LSD&amp;...</td>\n",
       "      <td>31</td>\n",
       "      <td>MBC</td>\n",
       "      <td>정부는 지난 14일, \"더 내고 더 받게 하겠다.\"며 국민연금 4가지 개편안을 발표...</td>\n",
       "    </tr>\n",
       "    <tr>\n",
       "      <th>1162</th>\n",
       "      <td>2018-12-31</td>\n",
       "      <td>[신년사] 박능후 복지장관 \"역대 최대 예산으로 사회안전망 강화\"</td>\n",
       "      <td>https://news.naver.com/main/read.nhn?mode=LSD&amp;...</td>\n",
       "      <td>0</td>\n",
       "      <td>연합뉴스</td>\n",
       "      <td>박능후 장관[연합뉴스 자료사진]   (서울=연합뉴스) 신재우 기자 = 박능후 보건복...</td>\n",
       "    </tr>\n",
       "    <tr>\n",
       "      <th>1163</th>\n",
       "      <td>2018-12-31</td>\n",
       "      <td>박능후 복지부 장관 \"사회안전망과 건강보험 보장성 강화\"</td>\n",
       "      <td>https://news.naver.com/main/read.nhn?mode=LSD&amp;...</td>\n",
       "      <td>0</td>\n",
       "      <td>MBC</td>\n",
       "      <td>박능후 보건복지부 장관은 신년사를 통해 내년도 역대 최대 수준인 예산을 통해 사회 ...</td>\n",
       "    </tr>\n",
       "  </tbody>\n",
       "</table>\n",
       "<p>1164 rows × 6 columns</p>\n",
       "</div>"
      ],
      "text/plain": [
       "            date                                            title  \\\n",
       "0     2017-08-05                      첫 국산 수술로봇 '레보아이' 안전하고 믿을만할까   \n",
       "1     2017-08-09                         文 대통령 \"비급여 항목까지 건강보험 확대\"   \n",
       "2     2017-08-09                '문재인 케어' 시동…미용·성형 빼고 모든 치료에 건보 적용   \n",
       "3     2017-08-09           [비급여 대수술] 1인당 연간 의료비 50만원에서 41만원으로 줄인다   \n",
       "4     2017-08-09                       [비급여 대수술] 뇌혈관수술 2천만원→567만원   \n",
       "5     2017-08-09                      [비급여 대수술] 건강보험 보장성 강화대책 Q&A   \n",
       "6     2017-08-09           [비급여 대수술] 시민단체 \"공약후퇴\" vs 의료계 \"의료쇼핑 확산\"   \n",
       "7     2017-08-09     文대통령 “2022년까지 건강보험 보장성 높여 의료비 걱정 없는 나라 만들 것”   \n",
       "8     2017-08-09            [전문] 文대통령 \"국민건강 지키는 나라다운 나라\"…건보강화 발표문   \n",
       "9     2017-08-09                    모든 치료비에 건보 적용…병원비 ‘가계 파탄’ 막는다   \n",
       "10    2017-08-09                 [비급여 대수술] 보험업계 긍정 평가…실손보험 위축 불가피   \n",
       "11    2017-08-09                     시민단체 \"공약후퇴\" vs 의료계 \"의료쇼핑 확산\"   \n",
       "12    2017-08-09              '문재인 케어' 본격 시동…3천800개 비급여항목 건강보험 적용   \n",
       "13    2017-08-09                     3천800개 비급여항목 건보적용…병원비 파탄 막는다   \n",
       "14    2017-08-09             건보료 인상 우려에 문 대통령, \"누적적립금 20조원 투입할 것\"   \n",
       "15    2017-08-09                    與 \"건강보험 보장성 강화로 국민 의료비 절감 노력\"   \n",
       "16    2017-08-09        [비급여 대수술] 시민단체 \"공약후퇴\" vs 의협 \"진료왜곡 심화\"(종합)   \n",
       "17    2017-08-09               文정부, 건강보험 개혁한다…미용·성형 제외하고 모두 건보 적용   \n",
       "18    2017-08-09                  [카드뉴스]“아픈 것도 서러운데…도저히 감당이 안 돼요”   \n",
       "19    2017-08-09           [현장에서] '의료쇼핑' 넘치는데…2006년 '무상입원 소동' 잊었나   \n",
       "20    2017-08-09              저소득층 의료비 본인부담 상한액 연소득 10%로…초과액 돌려받아   \n",
       "21    2017-08-09                                 치매노인·아동 입원비 반값으로   \n",
       "22    2017-08-09                    文 \"미용·성형 빼고 모두 건강보험 확대·적용하겠다\"   \n",
       "23    2017-08-09               특진 2018년까지 폐지…뇌졸중 수술 치료비 214만→23만원   \n",
       "24    2017-08-09                          보험사 실손보험료 인하 압박 더 거세질 듯   \n",
       "25    2017-08-09                     \"적정수가 보전 않고 비급여 통제 땐 병원 줄도산\"   \n",
       "26    2017-08-09               정부, 30조 재원조달 문제없다지만…5년 후 건보료 급등 우려   \n",
       "27    2017-08-09                          정부, 건보 30조 재원 마련 어떻게 하나   \n",
       "28    2017-08-09             MRI·심장초음파 등 3800개 항목 건보 적용…`장밋빛 文케어`   \n",
       "29    2017-08-09                     건보료 10배 내도 대접은 똑같다…고소득층 역차별?   \n",
       "...          ...                                              ...   \n",
       "1134  2018-12-06                       일자리 예산 6000억·남북기금 1000억 삭감   \n",
       "1135  2018-12-06            국회, 내일 예산안 처리…최장 지각에 중소정당 불참 가능성도(종합)   \n",
       "1136  2018-12-06                            만7세까지 모든 아동에 月10만원 지급   \n",
       "1137  2018-12-07                       [시사전망대] \"작년 폐렴 사망자 68%…왜?\"   \n",
       "1138  2018-12-11              [김길원의 헬스노트] 유방에 생긴 종양…'맘모톰 수술'은 불법?   \n",
       "1139  2018-12-12  [Health Journal] 거동 불편한 환자, 이젠 의사가 직접 방문해 진료해준다   \n",
       "1140  2018-12-13                 [경제 인사이드] 실손보험료 인상 전망…보험사 반사이익은?   \n",
       "1141  2018-12-14                     미래에셋은퇴연구소, 네이버와 한국인의 은퇴고민 분석   \n",
       "1142  2018-12-14                 올해 은퇴 키워드 검색 상위 '실업급여'·'주 52시간제'   \n",
       "1143  2018-12-14                     미래에셋은퇴연구소, `행복한 은퇴발전소` 7호 발간   \n",
       "1144  2018-12-14                 [연합시론] 국민 의견 최대공약수 찾아내 연금개혁 성공해야   \n",
       "1145  2018-12-15                             세금으로 돌려막는 ‘국민연금 개편안’   \n",
       "1146  2018-12-16                    복지 지출 급증하는데…기초연금 추가 인상하겠다는 정부   \n",
       "1147  2018-12-17                문대통령 \"포용국가 건설에 정책역량 투입…사회복지망 촘촘히\"   \n",
       "1148  2018-12-17                           유유테이진, 홈헬스케어 렌털사업 선두주자   \n",
       "1149  2018-12-17             文 대통령 “포용국가 건설 위해 사회복지망 넓고 촘촘히 만들어야”   \n",
       "1150  2018-12-18             '삶의 질' 2040년 세계 10위로 높인다…건강수명 73→78세   \n",
       "1151  2018-12-18                    우리나라 국민 삶의 질, 2040년까지 세계 10위로   \n",
       "1152  2018-12-19          ‘낙제 정책’ 작년 3개 → 올해 10개… 정부 신뢰도 ‘보통’ 밑으로   \n",
       "1153  2018-12-20                        “노인장기요양보험 누적준비금 2022년 고갈”   \n",
       "1154  2018-12-24          \"우린 올려야 되는데…\" 보험업계, 삼성화재 실손보험료 인하에 '난감'   \n",
       "1155  2018-12-25                      5년새 30% 뛴 4대 보험료…소비 여력도 줄었다   \n",
       "1156  2018-12-27                 [뉴스룸/김윤종]의료계가 목소리를 높여도 울림이 적은 이유   \n",
       "1157  2018-12-27                  문재인 케어 글쎄?재정 쏟지만 환자 부담 0.1%p 낮춰   \n",
       "1158  2018-12-27                       2017년 건강보험 보장률 62.7%…소폭 개선   \n",
       "1159  2018-12-27                       2017년 건강보험 보장률 62.7%…소폭 증가   \n",
       "1160  2018-12-28             문케어 4800억 투입했는데…환자 진료비 부담 0.1%P만 낮아져   \n",
       "1161  2018-12-28                 [뉴스인사이트] '국민연금 100만 원 시대'…정말 올까?   \n",
       "1162  2018-12-31             [신년사] 박능후 복지장관 \"역대 최대 예산으로 사회안전망 강화\"   \n",
       "1163  2018-12-31                  박능후 복지부 장관 \"사회안전망과 건강보험 보장성 강화\"   \n",
       "\n",
       "                                                    URL comment reporter  \\\n",
       "0     https://news.naver.com/main/read.nhn?mode=LSD&...      18     연합뉴스   \n",
       "1     https://news.naver.com/main/read.nhn?mode=LSD&...       1      SBS   \n",
       "2     https://news.naver.com/main/read.nhn?mode=LSD&...     825     연합뉴스   \n",
       "3     https://news.naver.com/main/read.nhn?mode=LSD&...      45     연합뉴스   \n",
       "4     https://news.naver.com/main/read.nhn?mode=LSD&...      19     연합뉴스   \n",
       "5     https://news.naver.com/main/read.nhn?mode=LSD&...       0     연합뉴스   \n",
       "6     https://news.naver.com/main/read.nhn?mode=LSD&...     460     연합뉴스   \n",
       "7     https://news.naver.com/main/read.nhn?mode=LSD&...       4      KBS   \n",
       "8     https://news.naver.com/main/read.nhn?mode=LSD&...      22     연합뉴스   \n",
       "9     https://news.naver.com/main/read.nhn?mode=LSD&...       3      KBS   \n",
       "10    https://news.naver.com/main/read.nhn?mode=LSD&...     205     연합뉴스   \n",
       "11    https://news.naver.com/main/read.nhn?mode=LSD&...       0      SBS   \n",
       "12    https://news.naver.com/main/read.nhn?mode=LSD&...       0      SBS   \n",
       "13    https://news.naver.com/main/read.nhn?mode=LSD&...       0      KBS   \n",
       "14    https://news.naver.com/main/read.nhn?mode=LSD&...       1     매일경제   \n",
       "15    https://news.naver.com/main/read.nhn?mode=LSD&...      14     연합뉴스   \n",
       "16    https://news.naver.com/main/read.nhn?mode=LSD&...       0     연합뉴스   \n",
       "17    https://news.naver.com/main/read.nhn?mode=LSD&...       0     매일경제   \n",
       "18    https://news.naver.com/main/read.nhn?mode=LSD&...       3     동아일보   \n",
       "19    https://news.naver.com/main/read.nhn?mode=LSD&...       2     한국경제   \n",
       "20    https://news.naver.com/main/read.nhn?mode=LSD&...       3     한국경제   \n",
       "21    https://news.naver.com/main/read.nhn?mode=LSD&...       3     한국경제   \n",
       "22    https://news.naver.com/main/read.nhn?mode=LSD&...       1      SBS   \n",
       "23    https://news.naver.com/main/read.nhn?mode=LSD&...      15     한국경제   \n",
       "24    https://news.naver.com/main/read.nhn?mode=LSD&...      27     한국경제   \n",
       "25    https://news.naver.com/main/read.nhn?mode=LSD&...      43     한국경제   \n",
       "26    https://news.naver.com/main/read.nhn?mode=LSD&...      17     한국경제   \n",
       "27    https://news.naver.com/main/read.nhn?mode=LSD&...      59     매일경제   \n",
       "28    https://news.naver.com/main/read.nhn?mode=LSD&...      17     매일경제   \n",
       "29    https://news.naver.com/main/read.nhn?mode=LSD&...      16     매일경제   \n",
       "...                                                 ...     ...      ...   \n",
       "1134  https://news.naver.com/main/read.nhn?mode=LSD&...      45     매일경제   \n",
       "1135  https://news.naver.com/main/read.nhn?mode=LSD&...      35     연합뉴스   \n",
       "1136  https://news.naver.com/main/read.nhn?mode=LSD&...      66     매일경제   \n",
       "1137  https://news.naver.com/main/read.nhn?mode=LSD&...       5      SBS   \n",
       "1138  https://news.naver.com/main/read.nhn?mode=LSD&...       0     연합뉴스   \n",
       "1139  https://news.naver.com/main/read.nhn?mode=LSD&...       0     매일경제   \n",
       "1140  https://news.naver.com/main/read.nhn?mode=LSD&...       0      KBS   \n",
       "1141  https://news.naver.com/main/read.nhn?mode=LSD&...       0     한국경제   \n",
       "1142  https://news.naver.com/main/read.nhn?mode=LSD&...       9     연합뉴스   \n",
       "1143  https://news.naver.com/main/read.nhn?mode=LSD&...       0     매일경제   \n",
       "1144  https://news.naver.com/main/read.nhn?mode=LSD&...       1     연합뉴스   \n",
       "1145  https://news.naver.com/main/read.nhn?mode=LSD&...      66     동아일보   \n",
       "1146  https://news.naver.com/main/read.nhn?mode=LSD&...      12     한국경제   \n",
       "1147  https://news.naver.com/main/read.nhn?mode=LSD&...      31     연합뉴스   \n",
       "1148  https://news.naver.com/main/read.nhn?mode=LSD&...       0     한국경제   \n",
       "1149  https://news.naver.com/main/read.nhn?mode=LSD&...       1      KBS   \n",
       "1150  https://news.naver.com/main/read.nhn?mode=LSD&...      67     연합뉴스   \n",
       "1151  https://news.naver.com/main/read.nhn?mode=LSD&...       0      MBC   \n",
       "1152  https://news.naver.com/main/read.nhn?mode=LSD&...      34     동아일보   \n",
       "1153  https://news.naver.com/main/read.nhn?mode=LSD&...       2     동아일보   \n",
       "1154  https://news.naver.com/main/read.nhn?mode=LSD&...       8     한국경제   \n",
       "1155  https://news.naver.com/main/read.nhn?mode=LSD&...      35     중앙일보   \n",
       "1156  https://news.naver.com/main/read.nhn?mode=LSD&...       3     동아일보   \n",
       "1157  https://news.naver.com/main/read.nhn?mode=LSD&...       1     중앙일보   \n",
       "1158  https://news.naver.com/main/read.nhn?mode=LSD&...       0     연합뉴스   \n",
       "1159  https://news.naver.com/main/read.nhn?mode=LSD&...       0      KBS   \n",
       "1160  https://news.naver.com/main/read.nhn?mode=LSD&...       3     중앙일보   \n",
       "1161  https://news.naver.com/main/read.nhn?mode=LSD&...      31      MBC   \n",
       "1162  https://news.naver.com/main/read.nhn?mode=LSD&...       0     연합뉴스   \n",
       "1163  https://news.naver.com/main/read.nhn?mode=LSD&...       0      MBC   \n",
       "\n",
       "                                                content  \n",
       "0     개복수술보다 진료비 4~5배 비싼게 흠…건보 적용여부가 성공 열쇠  임상참여 나군호...  \n",
       "1     문재인 대통령은 오늘(9일) 서울의 한 대학병원을 찾아 치료비 부담을 국가가 나눠지...  \n",
       "2     문 대통령, '울지 마세요'(서울=연합뉴스) 배재만 기자 = 문재인 대통령이 9일 ...  \n",
       "3     문재인 대통령, 건강보험 정책 발표 (PG)[제작 최자윤] 일러스트   재난적 의료...  \n",
       "4     문 대통령, '건강보험 보장은'(서울=연합뉴스) 배재만 기자 = 문재인 대통령이 9...  \n",
       "5     문재인 대통령, 건강보험 정책 발표 (PG)[제작 최자윤] 일러스트   (서울=연합...  \n",
       "6     문재인 대통령, 건강보험 정책 발표 (PG)[제작 최자윤] 일러스트   (서울=연합...  \n",
       "7     문재인 대통령은 9일(오늘) \"건강보험 보장성을 획기적으로 높여 가겠다\"며 \"202...  \n",
       "8     문재인 대통령 [연합뉴스 자료사진]   (서울=연합뉴스) 박경준 기자 = 문재인 대...  \n",
       "9     백혈병으로 투병하다 최근 조혈모세포이식술을 받은 53살 김모 씨. 수술 이후 75일...  \n",
       "10    [연합뉴스TV 제공]   \"실손보험, 보험금 지출 줄어 보험료 인하 여력\"  (서울...  \n",
       "11    문재인 정부가 미용과 성형을 제외한 모든 의료비에 건강보험을 적용하는 내용의 건강보...  \n",
       "12    초음파, 자기공명영상장치 MRI, 로봇수술, 2인실 등 그간 건강보험의 적용을 받지...  \n",
       "13    그동안 건강보험의 적용을 받지 못했던 초음파, 자기공명영상장치(MRI), 로봇수술,...  \n",
       "14    문재인 대통령은 \"건강보험이 장기 흑자로 20조원의 적립금이 쌓여있는 현시점이야말로...  \n",
       "15    문재인 대통령, 건강보험 정책 발표 (PG)[제작 최자윤] 일러스트   \"비급여 항...  \n",
       "16    문재인 대통령, 건강보험 정책 발표 (PG)[제작 최자윤] 일러스트   한의사협회·...  \n",
       "17    30조6000억원 투입…올해 MRI 검사에 적용 내년부터 선택진료 추가비용도 사라져...  \n",
       "18    [동아일보]           #. “아픈 것도 서러운데… 도저히 감당이 안 돼요....  \n",
       "19    현장에서  노무현 정부때 6세미만 아동 입원비 0원 엄마들 \"공짜니 입원시키고 보자...  \n",
       "20    건강보험 보장성 강화 - 어떻게 달라지나  저소득층 의료비 지원  [ 김일규 기자 ...  \n",
       "21    취약계층 부담 완화  치매의심 MRI 검사비 건보적용 아동 치아홈메우기 비용 낮춰 ...  \n",
       "22    동영상 뉴스 <앵커>  문재인 대통령이 의료비 부담을 대폭 줄이는 내용의 건강보험 ...  \n",
       "23    건강보험 보장성 강화 - 어떻게 달라지나  비급여 3800여개 항목, 2022년까지...  \n",
       "24    건강보험 보장성 강화 - 문제는 없나  고민 깊어진 보험업계 \"과잉진료 관행부터 없...  \n",
       "25    건강보험 보장성 강화 - 문제는 없나  의료계 강력 반발 진료비, 원가의 70% 수...  \n",
       "26    건강보험 보장성 강화 - 문제는 없나  건보 재정 '빨간불'  정부 재원조달 방안 ...  \n",
       "27    건보적립금 10조 + 국고보조금 활용 건보료 3% 인상만으로 가능하다는데…  ◆ 건...  \n",
       "28    로봇수술등 고가진료도 혜택 가계부담 의료비 비중 36%…OECD 평균 19.6%의 ...  \n",
       "29    심층진료 등 배려 필요  ◆ 건강보험 보장 확대 ◆  건강보험 보장성 강화로 건강보...  \n",
       "...                                                 ...  \n",
       "1134  민주당·한국당 7일 예산안 처리  공무원 증원 규모 3000명 감축 세수결손 4조원...  \n",
       "1135  민주·한국, 선거제개혁 연계처리 요구한 야3당 빼고 합의…야3당 강력반발  5조원 ...  \n",
       "1136  민주당·한국당 7일 예산안 처리  청약조정지역내 2주택자 종부세 상한선 200%로 ...  \n",
       "1137  동영상 뉴스 [김성준의 시사전망대]  인터뷰 자료의 저작권은 SBS 라디오에 있습니...  \n",
       "1138  신의료기술 신청 잇단 반려…\"규제 개선 필요\"  (서울=연합뉴스) 김길원 기자 = ...  \n",
       "1139  내년부터 달라지는 보건의료정책  추나요법 건강보험 적용 1만~3만원 내면 치료받아 ...  \n",
       "1140  동영상 뉴스   [앵커]  건강보험 보장성을 강화한 문재인 케어 효과로 실손보험료 ...  \n",
       "1141  [ 한민수 기자 ] 미래에셋은퇴연구소는 네이버와 공동으로 2018년 은퇴에 대한 한...  \n",
       "1142  미래에셋은퇴연구소·네이버 검색량 분석  서울서부고용복지플러스센터 실업급여 설명회장[...  \n",
       "1143  미래에셋은퇴연구소는 네이버와 공동으로 2018년 은퇴에 대한 한국인의 고민을 분석한...  \n",
       "1144  (서울=연합뉴스) 정부가 14일 국민연금 개편안을 발표했다. 소득대체율(평생 평균소...  \n",
       "1145  현행 유지-더 내고 더 받는 案 등 복지부, 4가지 개혁방안 긴급 발표 기초연금 인...  \n",
       "1146  지자체 '복지 폭주'  국민연금 개편안서 月40만원 제시  [ 김일규 기자 ] 각 ...  \n",
       "1147  수보회의서 언급 \"건보 보장성 강화…한부모·미혼모 지원 확대\"  \"국공립·직장 보육...  \n",
       "1148  수면양압기·산소발생기 등 다양한 의료기기 대여서비스  [ 전예진 기자 ]  유유테이...  \n",
       "1149  문재인 대통령이 정부는 포용 국가 건설을 국정 목표로 많은 정책역량을 투입하고 있다...  \n",
       "1150  복지부, 중장기 사회보장 과제·목표 제시…고용률 75%·상대빈곤율 10% 목표  '...  \n",
       "1151  정부가 사회보장기본계획 공청회에서 오는 2040년까지 우리나라 국민의 삶의 질을 세...  \n",
       "1152  [2018 대한민국 정책평가]국민-전문가 총괄평가 ‘정부와 국민 간의 허니문 기간이...  \n",
       "1153  국회 예산처 ‘재정전망’ 보고서 급격한 고령화로 ‘지출〉수입’… 보험료율 3∼4% ...  \n",
       "1154  [ 차은지 기자 ] 사진=게티이미지  보험업계가 삼성화재의 실손보험료 인하 소식에 ...  \n",
       "1155  서울의 한 중견기업에서 일하는 이모(37)씨. 5년 전 국민연금과 건강·고용·산재보...  \n",
       "1156  김윤종 정책사회부 차장 “개나 소나 다 경찰이냐!”  대한의사협회가 최근 국회의사당...  \n",
       "1157  건보공단 2017 진료비 실태조사 문재인 케어에 돈을 많이 투자하지만 환자 부담 경...  \n",
       "1158  건강보험(CG)[연합뉴스TV 제공]   (서울=연합뉴스) 서한기 기자 = 지난해 건...  \n",
       "1159  지난해 건강보험의 보장성이 소폭 개선된 것으로 나타났습니다.  국민건강보험공단은 이...  \n",
       "1160  지난해 건보 적용된 비율 63%뿐 암 등 4대 중증환자 부담은 줄어 환자 부담을 획...  \n",
       "1161  정부는 지난 14일, \"더 내고 더 받게 하겠다.\"며 국민연금 4가지 개편안을 발표...  \n",
       "1162  박능후 장관[연합뉴스 자료사진]   (서울=연합뉴스) 신재우 기자 = 박능후 보건복...  \n",
       "1163  박능후 보건복지부 장관은 신년사를 통해 내년도 역대 최대 수준인 예산을 통해 사회 ...  \n",
       "\n",
       "[1164 rows x 6 columns]"
      ]
     },
     "execution_count": 107,
     "metadata": {},
     "output_type": "execute_result"
    }
   ],
   "source": [
    "result = pd.merge(df_comment, df_content, on = ['URL', 'date', 'title'], how = 'left')\n",
    "result.drop('repoter', axis = 1, inplace = True)\n",
    "result"
   ]
  },
  {
   "cell_type": "code",
   "execution_count": 109,
   "metadata": {
    "ExecuteTime": {
     "end_time": "2019-02-19T17:00:26.322102Z",
     "start_time": "2019-02-19T17:00:24.297245Z"
    }
   },
   "outputs": [],
   "source": [
    "result.to_excel('보장성강화_Naver뉴스_댓글+내용(1164개).xlsx', encoding = 'utf-8')"
   ]
  },
  {
   "cell_type": "markdown",
   "metadata": {},
   "source": [
    "### 중간에 삭제된 뉴스 추출"
   ]
  },
  {
   "cell_type": "code",
   "execution_count": 111,
   "metadata": {
    "ExecuteTime": {
     "end_time": "2019-02-19T17:02:04.388694Z",
     "start_time": "2019-02-19T17:02:04.330720Z"
    }
   },
   "outputs": [
    {
     "data": {
      "text/html": [
       "<div>\n",
       "<style scoped>\n",
       "    .dataframe tbody tr th:only-of-type {\n",
       "        vertical-align: middle;\n",
       "    }\n",
       "\n",
       "    .dataframe tbody tr th {\n",
       "        vertical-align: top;\n",
       "    }\n",
       "\n",
       "    .dataframe thead th {\n",
       "        text-align: right;\n",
       "    }\n",
       "</style>\n",
       "<table border=\"1\" class=\"dataframe\">\n",
       "  <thead>\n",
       "    <tr style=\"text-align: right;\">\n",
       "      <th></th>\n",
       "      <th>Unnamed: 0</th>\n",
       "      <th>date</th>\n",
       "      <th>title</th>\n",
       "      <th>repoter</th>\n",
       "      <th>URL</th>\n",
       "    </tr>\n",
       "  </thead>\n",
       "  <tbody>\n",
       "    <tr>\n",
       "      <th>0</th>\n",
       "      <td>0</td>\n",
       "      <td>2017-08-05</td>\n",
       "      <td>첫 국산 수술로봇 '레보아이' 안전하고 믿을만할까</td>\n",
       "      <td>연합뉴스</td>\n",
       "      <td>https://news.naver.com/main/read.nhn?mode=LSD&amp;...</td>\n",
       "    </tr>\n",
       "    <tr>\n",
       "      <th>1</th>\n",
       "      <td>1</td>\n",
       "      <td>2017-08-05</td>\n",
       "      <td>文 대통령 \"비급여 항목까지 건강보험 확대\"</td>\n",
       "      <td>연합뉴스</td>\n",
       "      <td>https://news.naver.com/main/read.nhn?mode=LSD&amp;...</td>\n",
       "    </tr>\n",
       "    <tr>\n",
       "      <th>2</th>\n",
       "      <td>2</td>\n",
       "      <td>2017-08-05</td>\n",
       "      <td>'문재인 케어' 시동…미용·성형 빼고 모든 치료에 건보 적용</td>\n",
       "      <td>연합뉴스</td>\n",
       "      <td>https://news.naver.com/main/read.nhn?mode=LSD&amp;...</td>\n",
       "    </tr>\n",
       "    <tr>\n",
       "      <th>3</th>\n",
       "      <td>3</td>\n",
       "      <td>2017-08-05</td>\n",
       "      <td>[비급여 대수술] 1인당 연간 의료비 50만원에서 41만원으로 줄인다</td>\n",
       "      <td>연합뉴스</td>\n",
       "      <td>https://news.naver.com/main/read.nhn?mode=LSD&amp;...</td>\n",
       "    </tr>\n",
       "    <tr>\n",
       "      <th>4</th>\n",
       "      <td>4</td>\n",
       "      <td>2017-08-05</td>\n",
       "      <td>[비급여 대수술] 뇌혈관수술 2천만원→567만원</td>\n",
       "      <td>연합뉴스</td>\n",
       "      <td>https://news.naver.com/main/read.nhn?mode=LSD&amp;...</td>\n",
       "    </tr>\n",
       "  </tbody>\n",
       "</table>\n",
       "</div>"
      ],
      "text/plain": [
       "   Unnamed: 0        date                                   title repoter  \\\n",
       "0           0  2017-08-05             첫 국산 수술로봇 '레보아이' 안전하고 믿을만할까    연합뉴스   \n",
       "1           1  2017-08-05                文 대통령 \"비급여 항목까지 건강보험 확대\"    연합뉴스   \n",
       "2           2  2017-08-05       '문재인 케어' 시동…미용·성형 빼고 모든 치료에 건보 적용    연합뉴스   \n",
       "3           3  2017-08-05  [비급여 대수술] 1인당 연간 의료비 50만원에서 41만원으로 줄인다    연합뉴스   \n",
       "4           4  2017-08-05              [비급여 대수술] 뇌혈관수술 2천만원→567만원    연합뉴스   \n",
       "\n",
       "                                                 URL  \n",
       "0  https://news.naver.com/main/read.nhn?mode=LSD&...  \n",
       "1  https://news.naver.com/main/read.nhn?mode=LSD&...  \n",
       "2  https://news.naver.com/main/read.nhn?mode=LSD&...  \n",
       "3  https://news.naver.com/main/read.nhn?mode=LSD&...  \n",
       "4  https://news.naver.com/main/read.nhn?mode=LSD&...  "
      ]
     },
     "execution_count": 111,
     "metadata": {},
     "output_type": "execute_result"
    }
   ],
   "source": [
    "df_1 = pd.read_csv('보장성강화_댓글제외.csv', engine = 'python', encoding = 'utf-8')\n",
    "df_1.head()"
   ]
  },
  {
   "cell_type": "code",
   "execution_count": 112,
   "metadata": {
    "ExecuteTime": {
     "end_time": "2019-02-19T17:02:41.244211Z",
     "start_time": "2019-02-19T17:02:41.196235Z"
    }
   },
   "outputs": [
    {
     "data": {
      "text/html": [
       "<div>\n",
       "<style scoped>\n",
       "    .dataframe tbody tr th:only-of-type {\n",
       "        vertical-align: middle;\n",
       "    }\n",
       "\n",
       "    .dataframe tbody tr th {\n",
       "        vertical-align: top;\n",
       "    }\n",
       "\n",
       "    .dataframe thead th {\n",
       "        text-align: right;\n",
       "    }\n",
       "</style>\n",
       "<table border=\"1\" class=\"dataframe\">\n",
       "  <thead>\n",
       "    <tr style=\"text-align: right;\">\n",
       "      <th></th>\n",
       "      <th>date</th>\n",
       "      <th>title</th>\n",
       "      <th>repoter</th>\n",
       "      <th>URL</th>\n",
       "      <th>comment</th>\n",
       "    </tr>\n",
       "  </thead>\n",
       "  <tbody>\n",
       "    <tr>\n",
       "      <th>0</th>\n",
       "      <td>2017-08-05</td>\n",
       "      <td>첫 국산 수술로봇 '레보아이' 안전하고 믿을만할까</td>\n",
       "      <td>연합뉴스</td>\n",
       "      <td>https://news.naver.com/main/read.nhn?mode=LSD&amp;...</td>\n",
       "      <td>18</td>\n",
       "    </tr>\n",
       "    <tr>\n",
       "      <th>1</th>\n",
       "      <td>2017-08-09</td>\n",
       "      <td>文 대통령 \"비급여 항목까지 건강보험 확대\"</td>\n",
       "      <td>SBS</td>\n",
       "      <td>https://news.naver.com/main/read.nhn?mode=LSD&amp;...</td>\n",
       "      <td>1</td>\n",
       "    </tr>\n",
       "    <tr>\n",
       "      <th>2</th>\n",
       "      <td>2017-08-09</td>\n",
       "      <td>'문재인 케어' 시동…미용·성형 빼고 모든 치료에 건보 적용</td>\n",
       "      <td>연합뉴스</td>\n",
       "      <td>https://news.naver.com/main/read.nhn?mode=LSD&amp;...</td>\n",
       "      <td>825</td>\n",
       "    </tr>\n",
       "    <tr>\n",
       "      <th>3</th>\n",
       "      <td>2017-08-09</td>\n",
       "      <td>[비급여 대수술] 1인당 연간 의료비 50만원에서 41만원으로 줄인다</td>\n",
       "      <td>연합뉴스</td>\n",
       "      <td>https://news.naver.com/main/read.nhn?mode=LSD&amp;...</td>\n",
       "      <td>45</td>\n",
       "    </tr>\n",
       "    <tr>\n",
       "      <th>4</th>\n",
       "      <td>2017-08-09</td>\n",
       "      <td>[비급여 대수술] 뇌혈관수술 2천만원→567만원</td>\n",
       "      <td>연합뉴스</td>\n",
       "      <td>https://news.naver.com/main/read.nhn?mode=LSD&amp;...</td>\n",
       "      <td>19</td>\n",
       "    </tr>\n",
       "  </tbody>\n",
       "</table>\n",
       "</div>"
      ],
      "text/plain": [
       "         date                                   title repoter  \\\n",
       "0  2017-08-05             첫 국산 수술로봇 '레보아이' 안전하고 믿을만할까    연합뉴스   \n",
       "1  2017-08-09                文 대통령 \"비급여 항목까지 건강보험 확대\"     SBS   \n",
       "2  2017-08-09       '문재인 케어' 시동…미용·성형 빼고 모든 치료에 건보 적용    연합뉴스   \n",
       "3  2017-08-09  [비급여 대수술] 1인당 연간 의료비 50만원에서 41만원으로 줄인다    연합뉴스   \n",
       "4  2017-08-09              [비급여 대수술] 뇌혈관수술 2천만원→567만원    연합뉴스   \n",
       "\n",
       "                                                 URL comment  \n",
       "0  https://news.naver.com/main/read.nhn?mode=LSD&...      18  \n",
       "1  https://news.naver.com/main/read.nhn?mode=LSD&...       1  \n",
       "2  https://news.naver.com/main/read.nhn?mode=LSD&...     825  \n",
       "3  https://news.naver.com/main/read.nhn?mode=LSD&...      45  \n",
       "4  https://news.naver.com/main/read.nhn?mode=LSD&...      19  "
      ]
     },
     "execution_count": 112,
     "metadata": {},
     "output_type": "execute_result"
    }
   ],
   "source": [
    "df_2 = pd.read_csv('보장성강화_댓글추가_1164개.csv', encoding = 'utf-8', engine = 'python')\n",
    "df_2.head()"
   ]
  },
  {
   "cell_type": "code",
   "execution_count": 120,
   "metadata": {
    "ExecuteTime": {
     "end_time": "2019-02-19T17:04:37.944181Z",
     "start_time": "2019-02-19T17:04:37.928190Z"
    }
   },
   "outputs": [
    {
     "data": {
      "text/plain": [
       "['https://news.naver.com/main/read.nhn?mode=LSD&mid=sec&sid1=110&oid=025&aid=0002798778',\n",
       " 'https://news.naver.com/main/read.nhn?mode=LSD&mid=sec&sid1=103&oid=025&aid=0002799502']"
      ]
     },
     "execution_count": 120,
     "metadata": {},
     "output_type": "execute_result"
    }
   ],
   "source": [
    "a = df_1.URL.tolist()\n",
    "b = df_2.URL.tolist()\n",
    "c = list(set(a) - set(b))\n",
    "c"
   ]
  },
  {
   "cell_type": "code",
   "execution_count": 121,
   "metadata": {
    "ExecuteTime": {
     "end_time": "2019-02-19T17:05:16.107512Z",
     "start_time": "2019-02-19T17:05:16.085525Z"
    }
   },
   "outputs": [
    {
     "data": {
      "text/html": [
       "<div>\n",
       "<style scoped>\n",
       "    .dataframe tbody tr th:only-of-type {\n",
       "        vertical-align: middle;\n",
       "    }\n",
       "\n",
       "    .dataframe tbody tr th {\n",
       "        vertical-align: top;\n",
       "    }\n",
       "\n",
       "    .dataframe thead th {\n",
       "        text-align: right;\n",
       "    }\n",
       "</style>\n",
       "<table border=\"1\" class=\"dataframe\">\n",
       "  <thead>\n",
       "    <tr style=\"text-align: right;\">\n",
       "      <th></th>\n",
       "      <th>Unnamed: 0</th>\n",
       "      <th>date</th>\n",
       "      <th>title</th>\n",
       "      <th>repoter</th>\n",
       "      <th>URL</th>\n",
       "    </tr>\n",
       "  </thead>\n",
       "  <tbody>\n",
       "    <tr>\n",
       "      <th>673</th>\n",
       "      <td>673</td>\n",
       "      <td>2018-02-13</td>\n",
       "      <td>[송인한의 퍼스펙티브] 극단적 선택으로 떠밀리는 사회 … 사회적 타살이다</td>\n",
       "      <td>연합뉴스</td>\n",
       "      <td>https://news.naver.com/main/read.nhn?mode=LSD&amp;...</td>\n",
       "    </tr>\n",
       "    <tr>\n",
       "      <th>676</th>\n",
       "      <td>676</td>\n",
       "      <td>2018-02-13</td>\n",
       "      <td>건보공단, 18년 전 불법파업 해고자 등 6명 복직</td>\n",
       "      <td>연합뉴스</td>\n",
       "      <td>https://news.naver.com/main/read.nhn?mode=LSD&amp;...</td>\n",
       "    </tr>\n",
       "  </tbody>\n",
       "</table>\n",
       "</div>"
      ],
      "text/plain": [
       "     Unnamed: 0        date                                     title repoter  \\\n",
       "673         673  2018-02-13  [송인한의 퍼스펙티브] 극단적 선택으로 떠밀리는 사회 … 사회적 타살이다    연합뉴스   \n",
       "676         676  2018-02-13              건보공단, 18년 전 불법파업 해고자 등 6명 복직    연합뉴스   \n",
       "\n",
       "                                                   URL  \n",
       "673  https://news.naver.com/main/read.nhn?mode=LSD&...  \n",
       "676  https://news.naver.com/main/read.nhn?mode=LSD&...  "
      ]
     },
     "execution_count": 121,
     "metadata": {},
     "output_type": "execute_result"
    }
   ],
   "source": [
    "df_1[(df_1['URL'] == c[0]) | (df_1['URL'] == c[1])]"
   ]
  },
  {
   "cell_type": "markdown",
   "metadata": {},
   "source": [
    "# 2. 기사내용 스크랩\n",
    "- 위에서 클롤링한 URL주소를 이용하여 해당 뉴스내용 스크랩\n",
    "- 네이버뉴스로 통하는 기사만 가능\n",
    "- 안되는 언론사 많음"
   ]
  },
  {
   "cell_type": "markdown",
   "metadata": {},
   "source": [
    "### URL를 이용해 스크랩"
   ]
  },
  {
   "cell_type": "code",
   "execution_count": 226,
   "metadata": {
    "ExecuteTime": {
     "end_time": "2019-02-15T06:18:14.620573Z",
     "start_time": "2019-02-15T06:01:04.038136Z"
    }
   },
   "outputs": [
    {
     "name": "stdout",
     "output_type": "stream",
     "text": [
      "진행상황 939/1166에러발생1\n",
      "진행상황 1165/1166"
     ]
    }
   ],
   "source": [
    "content_list = []\n",
    "content_url = []\n",
    "comment_list = []\n",
    "url_error_list = []\n",
    "\n",
    "driver = webdriver.Chrome('chromedriver.exe')\n",
    "for u in url_list:\n",
    "    driver.get(u)\n",
    "    try:\n",
    "        content_list.append(driver.find_element_by_id('articleBodyContents').text.replace('\\n', ' '))\n",
    "        comment_list.append(driver.find_element_by_css_selector('span.lo_txt').text)\n",
    "        content_url.append(u)\n",
    "        print('\\r진행상황 {}/{}'.format(len(content_list), len(url_list)), end = '')\n",
    "    except:\n",
    "        url_error_list.append(u)\n",
    "        print('에러발생{}'.format(len(url_error_list)))"
   ]
  },
  {
   "cell_type": "markdown",
   "metadata": {},
   "source": [
    "### 에러URL 추가적으로 크롤링"
   ]
  },
  {
   "cell_type": "code",
   "execution_count": null,
   "metadata": {},
   "outputs": [],
   "source": [
    "driver = webdriver.Chrome('chromedriver.exe')\n",
    "url_error_list2 = []\n",
    "for u in url_error_list:\n",
    "    driver.get(u)\n",
    "    try:        \n",
    "        content_list.append(driver.find_element_by_id('articleBodyContents').text.replace('\\n', ' '))\n",
    "        comment_list.append(driver.find_element_by_css_selector('span.lo_txt').text)\n",
    "        content_url.append(u)\n",
    "        print('\\r진행상황 {}/{}'.format(len(content_list), len(url_list)), end = '')\n",
    "    except:\n",
    "        url_error_list2.append(u)\n",
    "        print('또 에러발생{}'.format(len(url_error_list2)))"
   ]
  },
  {
   "cell_type": "code",
   "execution_count": 230,
   "metadata": {
    "ExecuteTime": {
     "end_time": "2019-02-19T14:21:11.561369Z",
     "start_time": "2019-02-19T14:21:10.204144Z"
    }
   },
   "outputs": [],
   "source": [
    "driver.get('https://news.naver.com/main/read.nhn?mode=LSD&mid=sec&sid1=105&oid=001&aid=0009455538')"
   ]
  },
  {
   "cell_type": "code",
   "execution_count": 231,
   "metadata": {
    "ExecuteTime": {
     "end_time": "2019-02-19T14:21:20.787091Z",
     "start_time": "2019-02-19T14:21:20.740117Z"
    }
   },
   "outputs": [
    {
     "data": {
      "text/plain": [
       "'18'"
      ]
     },
     "execution_count": 231,
     "metadata": {},
     "output_type": "execute_result"
    }
   ],
   "source": [
    "driver.find_element_by_css_selector('span.lo_txt').text"
   ]
  },
  {
   "cell_type": "markdown",
   "metadata": {},
   "source": [
    "### CSV파일로 저장하기"
   ]
  },
  {
   "cell_type": "code",
   "execution_count": 246,
   "metadata": {
    "ExecuteTime": {
     "end_time": "2019-02-15T06:30:01.477381Z",
     "start_time": "2019-02-15T06:30:01.463904Z"
    }
   },
   "outputs": [
    {
     "data": {
      "text/html": [
       "<div>\n",
       "<style scoped>\n",
       "    .dataframe tbody tr th:only-of-type {\n",
       "        vertical-align: middle;\n",
       "    }\n",
       "\n",
       "    .dataframe tbody tr th {\n",
       "        vertical-align: top;\n",
       "    }\n",
       "\n",
       "    .dataframe thead th {\n",
       "        text-align: right;\n",
       "    }\n",
       "</style>\n",
       "<table border=\"1\" class=\"dataframe\">\n",
       "  <thead>\n",
       "    <tr style=\"text-align: right;\">\n",
       "      <th></th>\n",
       "      <th>URL</th>\n",
       "      <th>content</th>\n",
       "    </tr>\n",
       "  </thead>\n",
       "  <tbody>\n",
       "    <tr>\n",
       "      <th>0</th>\n",
       "      <td>https://news.naver.com/main/read.nhn?mode=LSD&amp;...</td>\n",
       "      <td>개복수술보다 진료비 4~5배 비싼게 흠…건보 적용여부가 성공 열쇠  임상참여 나군호...</td>\n",
       "    </tr>\n",
       "    <tr>\n",
       "      <th>1</th>\n",
       "      <td>https://news.naver.com/main/read.nhn?mode=LSD&amp;...</td>\n",
       "      <td>문재인 대통령은 오늘(9일) 서울의 한 대학병원을 찾아 치료비 부담을 국가가 나눠지...</td>\n",
       "    </tr>\n",
       "    <tr>\n",
       "      <th>2</th>\n",
       "      <td>https://news.naver.com/main/read.nhn?mode=LSD&amp;...</td>\n",
       "      <td>문 대통령, '울지 마세요'(서울=연합뉴스) 배재만 기자 = 문재인 대통령이 9일 ...</td>\n",
       "    </tr>\n",
       "    <tr>\n",
       "      <th>3</th>\n",
       "      <td>https://news.naver.com/main/read.nhn?mode=LSD&amp;...</td>\n",
       "      <td>문재인 대통령, 건강보험 정책 발표 (PG)[제작 최자윤] 일러스트   재난적 의료...</td>\n",
       "    </tr>\n",
       "    <tr>\n",
       "      <th>4</th>\n",
       "      <td>https://news.naver.com/main/read.nhn?mode=LSD&amp;...</td>\n",
       "      <td>문 대통령, '건강보험 보장은'(서울=연합뉴스) 배재만 기자 = 문재인 대통령이 9...</td>\n",
       "    </tr>\n",
       "  </tbody>\n",
       "</table>\n",
       "</div>"
      ],
      "text/plain": [
       "                                                 URL  \\\n",
       "0  https://news.naver.com/main/read.nhn?mode=LSD&...   \n",
       "1  https://news.naver.com/main/read.nhn?mode=LSD&...   \n",
       "2  https://news.naver.com/main/read.nhn?mode=LSD&...   \n",
       "3  https://news.naver.com/main/read.nhn?mode=LSD&...   \n",
       "4  https://news.naver.com/main/read.nhn?mode=LSD&...   \n",
       "\n",
       "                                             content  \n",
       "0  개복수술보다 진료비 4~5배 비싼게 흠…건보 적용여부가 성공 열쇠  임상참여 나군호...  \n",
       "1  문재인 대통령은 오늘(9일) 서울의 한 대학병원을 찾아 치료비 부담을 국가가 나눠지...  \n",
       "2  문 대통령, '울지 마세요'(서울=연합뉴스) 배재만 기자 = 문재인 대통령이 9일 ...  \n",
       "3  문재인 대통령, 건강보험 정책 발표 (PG)[제작 최자윤] 일러스트   재난적 의료...  \n",
       "4  문 대통령, '건강보험 보장은'(서울=연합뉴스) 배재만 기자 = 문재인 대통령이 9...  "
      ]
     },
     "execution_count": 246,
     "metadata": {},
     "output_type": "execute_result"
    }
   ],
   "source": [
    "df_content = pd.DataFrame({'URL' : content_url, 'content' : content_list})\n",
    "df_content.head()"
   ]
  },
  {
   "cell_type": "markdown",
   "metadata": {},
   "source": [
    "# 3. 동영상 링크 스크랩 - 스토리룸\n",
    "- 해당 사이트의 동영상 링크와 해당 제목 스크랩"
   ]
  },
  {
   "cell_type": "markdown",
   "metadata": {},
   "source": [
    "### 사이트 접속"
   ]
  },
  {
   "cell_type": "code",
   "execution_count": 1,
   "metadata": {
    "ExecuteTime": {
     "end_time": "2019-02-19T12:29:25.231490Z",
     "start_time": "2019-02-19T12:29:21.803471Z"
    }
   },
   "outputs": [],
   "source": [
    "from selenium import webdriver\n",
    "import pandas as pd\n",
    "import numpy as np\n",
    "import re\n",
    "import math\n",
    "import time\n",
    "\n",
    "URL_link = 'http://medicare1.nhis.or.kr/hongbo/static/html/minisite/sub/bj02.html'\n",
    "driver = webdriver.Chrome('chromedriver.exe')\n",
    "\n",
    "driver.get(URL_link)\n",
    "driver.find_element_by_css_selector('ul.content-desc.story-desc.clearfix')"
   ]
  },
  {
   "cell_type": "markdown",
   "metadata": {},
   "source": [
    "### 카테고리 세분화"
   ]
  },
  {
   "cell_type": "code",
   "execution_count": 152,
   "metadata": {
    "ExecuteTime": {
     "end_time": "2019-02-19T13:41:55.342019Z",
     "start_time": "2019-02-19T13:41:54.402558Z"
    }
   },
   "outputs": [
    {
     "data": {
      "text/plain": [
       "{'dementia', 'etc', 'expense', 'mri', 'payment', 'support', 'system'}"
      ]
     },
     "execution_count": 152,
     "metadata": {},
     "output_type": "execute_result"
    }
   ],
   "source": [
    "c_list = []\n",
    "for a in driver.find_elements_by_css_selector('ul.content-desc.story-desc.clearfix > li'):\n",
    "    c_list.append(a.get_attribute('class').split()[1])\n",
    "class_name_list = set(c_list)\n",
    "class_name_list"
   ]
  },
  {
   "cell_type": "markdown",
   "metadata": {},
   "source": [
    "### 자료수집"
   ]
  },
  {
   "cell_type": "code",
   "execution_count": 155,
   "metadata": {
    "ExecuteTime": {
     "end_time": "2019-02-19T13:43:12.376934Z",
     "start_time": "2019-02-19T13:43:03.592962Z"
    }
   },
   "outputs": [
    {
     "name": "stdout",
     "output_type": "stream",
     "text": [
      "122 122 122\n"
     ]
    }
   ],
   "source": [
    "content_list = driver.find_elements_by_css_selector('ul.content-desc.story-desc.clearfix > li' )\n",
    "\n",
    "title_list = []\n",
    "url_list = []\n",
    "class_list1 = []\n",
    "class_list2 = []\n",
    "\n",
    "for content in content_list:\n",
    "    url_list.append(content.find_element_by_css_selector('div.story-title > a').get_attribute('href'))\n",
    "    title_list.append(content.find_element_by_css_selector('div.story-title > a').text)\n",
    "    class_list1.append(content.get_attribute('class').split()[0])\n",
    "    class_list2.append(content.get_attribute('class').split()[1])\n",
    "print(len(url_list), len(title_list), len(class_list1))"
   ]
  },
  {
   "cell_type": "markdown",
   "metadata": {},
   "source": [
    "### CSV파일로 저장"
   ]
  },
  {
   "cell_type": "code",
   "execution_count": 160,
   "metadata": {
    "ExecuteTime": {
     "end_time": "2019-02-19T13:46:11.861704Z",
     "start_time": "2019-02-19T13:46:11.841719Z"
    }
   },
   "outputs": [],
   "source": [
    "data = {'title' : title_list, 'url' : url_list, 'class1' : class_list1, 'class2' : class_list2}\n",
    "df = pd.DataFrame(data)\n",
    "df.to_csv('스토리룸_유형+주제.csv', encoding = 'utf-8')"
   ]
  },
  {
   "cell_type": "markdown",
   "metadata": {},
   "source": [
    "# 동영상 링크 스크램 - 뉴스룸\n",
    "1. 카테고리별 형태가 달라서 각각 따로 처리"
   ]
  },
  {
   "cell_type": "markdown",
   "metadata": {},
   "source": [
    "### 접속준비"
   ]
  },
  {
   "cell_type": "code",
   "execution_count": 202,
   "metadata": {
    "ExecuteTime": {
     "end_time": "2019-02-19T14:04:01.448455Z",
     "start_time": "2019-02-19T14:03:57.710597Z"
    }
   },
   "outputs": [],
   "source": [
    "driver = webdriver.Chrome('chromedriver.exe')\n",
    "\n",
    "URL_link = 'http://medicare1.nhis.or.kr/hongbo/static/html/minisite/sub/bj03_{}.html'\n",
    "title_list = []\n",
    "url_list = []\n",
    "class_list = []\n",
    "cate = ['브리핑', '보도자료', '보도해명/설명자료', 'TV,라디오 등 방송인터뷰' ,'팩트체크']"
   ]
  },
  {
   "cell_type": "markdown",
   "metadata": {},
   "source": [
    "### 자료수집 - 브리핑"
   ]
  },
  {
   "cell_type": "code",
   "execution_count": 204,
   "metadata": {
    "ExecuteTime": {
     "end_time": "2019-02-19T14:04:02.405910Z",
     "start_time": "2019-02-19T14:04:01.542402Z"
    }
   },
   "outputs": [
    {
     "data": {
      "text/plain": [
       "1"
      ]
     },
     "execution_count": 204,
     "metadata": {},
     "output_type": "execute_result"
    }
   ],
   "source": [
    "driver.get(URL_link.format(1))\n",
    "content_list = driver.find_elements_by_css_selector('ul.content-desc > li')\n",
    "\n",
    "for content in content_list:\n",
    "    title_list.append(content.find_element_by_css_selector('div.story-title > a').text)\n",
    "    url_list.append(content.find_element_by_css_selector('div.story-title > a').get_attribute('href'))\n",
    "    class_list.append(cate[0])\n",
    "len(url_list)"
   ]
  },
  {
   "cell_type": "markdown",
   "metadata": {},
   "source": [
    "### 자료수집 - 보도자료"
   ]
  },
  {
   "cell_type": "code",
   "execution_count": 205,
   "metadata": {
    "ExecuteTime": {
     "end_time": "2019-02-19T14:04:03.895058Z",
     "start_time": "2019-02-19T14:04:02.446885Z"
    }
   },
   "outputs": [
    {
     "name": "stdout",
     "output_type": "stream",
     "text": [
      "45 45 45\n"
     ]
    }
   ],
   "source": [
    "driver.get(URL_link.format(2))\n",
    "content_list = driver.find_elements_by_css_selector('ul.content-desc > li.type-news.news-tab2 > ol > li > a')\n",
    "\n",
    "for content in content_list:\n",
    "    title_list.append(content.text[2:])\n",
    "    url_list.append(content.get_attribute('href'))\n",
    "    class_list.append(cate[1])\n",
    "print(len(title_list), len(url_list), len(class_list))"
   ]
  },
  {
   "cell_type": "markdown",
   "metadata": {},
   "source": [
    "### 자료수집 - 보도해명/설명자료"
   ]
  },
  {
   "cell_type": "code",
   "execution_count": 206,
   "metadata": {
    "ExecuteTime": {
     "end_time": "2019-02-19T14:04:04.865503Z",
     "start_time": "2019-02-19T14:04:03.934034Z"
    }
   },
   "outputs": [
    {
     "name": "stdout",
     "output_type": "stream",
     "text": [
      "74 74 74\n"
     ]
    }
   ],
   "source": [
    "driver.get(URL_link.format(3))\n",
    "content_list = driver.find_elements_by_css_selector('ul.content-desc > li.type-news.news-tab2 > ol > li > a')\n",
    "\n",
    "for content in content_list:\n",
    "    title_list.append(content.text[2:])\n",
    "    url_list.append(content.get_attribute('href'))\n",
    "    class_list.append(cate[2])\n",
    "print(len(title_list), len(url_list), len(class_list))"
   ]
  },
  {
   "cell_type": "markdown",
   "metadata": {},
   "source": [
    "### 자료수집 - TV,라디오 등 방송인터뷰"
   ]
  },
  {
   "cell_type": "code",
   "execution_count": 207,
   "metadata": {
    "ExecuteTime": {
     "end_time": "2019-02-19T14:04:08.076663Z",
     "start_time": "2019-02-19T14:04:04.897486Z"
    }
   },
   "outputs": [
    {
     "data": {
      "text/plain": [
       "125"
      ]
     },
     "execution_count": 207,
     "metadata": {},
     "output_type": "execute_result"
    }
   ],
   "source": [
    "driver.get(URL_link.format(4))\n",
    "content_list = driver.find_elements_by_css_selector('ul.content-desc > li')\n",
    "\n",
    "for content in content_list:\n",
    "    title_list.append(content.find_element_by_css_selector('div.story-title > a').text)\n",
    "    url_list.append(content.find_element_by_css_selector('div.story-title > a').get_attribute('href'))\n",
    "    class_list.append(cate[3])\n",
    "len(url_list)"
   ]
  },
  {
   "cell_type": "markdown",
   "metadata": {},
   "source": [
    "### 자료수집 - 팩트체크"
   ]
  },
  {
   "cell_type": "code",
   "execution_count": 208,
   "metadata": {
    "ExecuteTime": {
     "end_time": "2019-02-19T14:04:08.657331Z",
     "start_time": "2019-02-19T14:04:08.139629Z"
    }
   },
   "outputs": [
    {
     "data": {
      "text/plain": [
       "127"
      ]
     },
     "execution_count": 208,
     "metadata": {},
     "output_type": "execute_result"
    }
   ],
   "source": [
    "driver.get(URL_link.format(5))\n",
    "content_list = driver.find_elements_by_css_selector('ul.content-desc.story-desc.list3.clearfix > li')\n",
    "\n",
    "for content in content_list:\n",
    "    title_list.append(content.find_element_by_css_selector('div.story-title > a').text)\n",
    "    url_list.append(content.find_element_by_css_selector('div.story-title > a').get_attribute('href'))\n",
    "    class_list.append(cate[4])\n",
    "len(url_list)"
   ]
  },
  {
   "cell_type": "markdown",
   "metadata": {},
   "source": [
    "### CSV파일로 저장"
   ]
  },
  {
   "cell_type": "code",
   "execution_count": 210,
   "metadata": {
    "ExecuteTime": {
     "end_time": "2019-02-19T14:05:19.321910Z",
     "start_time": "2019-02-19T14:05:19.308898Z"
    }
   },
   "outputs": [],
   "source": [
    "data = {'title' : title_list, 'url' : url_list, 'class' : class_list}\n",
    "df = pd.DataFrame(data)\n",
    "df.to_csv('뉴스룸.csv', encoding = 'utf-8')"
   ]
  }
 ],
 "metadata": {
  "kernelspec": {
   "display_name": "Python 3",
   "language": "python",
   "name": "python3"
  },
  "language_info": {
   "codemirror_mode": {
    "name": "ipython",
    "version": 3
   },
   "file_extension": ".py",
   "mimetype": "text/x-python",
   "name": "python",
   "nbconvert_exporter": "python",
   "pygments_lexer": "ipython3",
   "version": "3.6.2"
  },
  "varInspector": {
   "cols": {
    "lenName": 16,
    "lenType": 16,
    "lenVar": 40
   },
   "kernels_config": {
    "python": {
     "delete_cmd_postfix": "",
     "delete_cmd_prefix": "del ",
     "library": "var_list.py",
     "varRefreshCmd": "print(var_dic_list())"
    },
    "r": {
     "delete_cmd_postfix": ") ",
     "delete_cmd_prefix": "rm(",
     "library": "var_list.r",
     "varRefreshCmd": "cat(var_dic_list()) "
    }
   },
   "types_to_exclude": [
    "module",
    "function",
    "builtin_function_or_method",
    "instance",
    "_Feature"
   ],
   "window_display": false
  }
 },
 "nbformat": 4,
 "nbformat_minor": 2
}
