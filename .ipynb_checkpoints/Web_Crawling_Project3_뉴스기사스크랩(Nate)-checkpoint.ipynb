{
 "cells": [
  {
   "cell_type": "code",
   "execution_count": 1,
   "metadata": {},
   "outputs": [],
   "source": [
    "from selenium import webdriver\n",
    "from bs4 import BeautifulSoup\n",
    "import pandas as pd\n",
    "import numpy as np"
   ]
  },
  {
   "cell_type": "code",
   "execution_count": 2,
   "metadata": {},
   "outputs": [
    {
     "data": {
      "text/plain": [
       "array(['강원랜드', '경동나비엔', '고려아연', '고려제강', '금호석유', '금호타이어', '기아차', '기업은행',\n",
       "       '남해화학', '넥센타이어', '녹십자', '녹십자홀딩스', '농심', '다우기술', '대교', '대림산업', '대상',\n",
       "       '대신증권', '대우건설', '대웅', '대웅제약', '대한유화', '대한항공', '더존비즈온', '동국제강',\n",
       "       '동서', '동성제약', '동아쏘시오홀딩스', '동양생명', '동원산업', '동원시스템즈', '동원F&amp;B',\n",
       "       '두산', '두산인프라코어', '두산중공업', '락앤락', '롯데관광개발', '롯데쇼핑', '롯데정밀화학',\n",
       "       '롯데지주', '롯데칠성', '롯데케미칼', '롯데푸드', '맥쿼리인프라', '메리츠종금증권', '메리츠화재',\n",
       "       '미래에셋대우', '부광약품', '빙그레', '삼성생명', '삼성엔지니어링', '삼성전기', '삼성전자',\n",
       "       '삼성전자우', '삼성중공업', '삼성증권', '삼성카드', '삼성화재', '삼성화재우', '삼성SDI', '삼양식품',\n",
       "       '삼양홀딩스', '삼진제약', '삼화콘덴서', '세방전지', '세아베스틸', '세아홀딩스', '셀트리온', '송원산업',\n",
       "       '신도리코', '신세계', '신영증권', '신한지주', '쌍용차', '아모레퍼시픽', '아모레퍼시픽우', '아모레G',\n",
       "       '아시아나항공', '아이에스동서', '아주캐피탈', '에스엘', '에스원', '엔씨소프트', '영원무역',\n",
       "       '영원무역홀딩스', '영진약품', '영풍', '오뚜기', '유안타증권', '유양디앤유', '유한양행', '인스코비',\n",
       "       '일양약품', '제일기획', '지역난방공사', '카카오', '코리안리', '코스모신소재', '코오롱', '코오롱인더',\n",
       "       '코웨이', '키움증권', '태광산업', '태영건설', '파미셀', '포스코대우', '풍산', '필룩스',\n",
       "       '하나금융지주', '하나투어', '하이트진로', '한국가스공사', '한국금융지주', '한국유리', '한국전력',\n",
       "       '한국콜마홀딩스', '한국타이어월드와이드', '한국토지신탁', '한미반도체', '한미사이언스', '한미약품', '한샘',\n",
       "       '한섬', '한세실업', '한솔케미칼', '한온시스템', '한올바이오파마', '한일현대시멘트', '한전기술',\n",
       "       '한전KPS', '한화', '한화생명', '한화손해보험', '한화에어로스페이스', '한화케미칼', '현대건설',\n",
       "       '현대그린푸드', '현대글로비스', '현대리바트', '현대모비스', '현대미포조선', '현대백화점', '현대엘리베이',\n",
       "       '현대제철', '현대중공업', '현대차', '현대차2우B', '현대차우', '현대해상', '호텔신라', '후성',\n",
       "       '휴켐스', 'AK홀딩스', 'CJ', 'CJ CGV', 'CJ대한통운', 'CJ제일제당', 'DB손해보험',\n",
       "       'DB하이텍', 'F&amp;F', 'GKL', 'GS', 'GS건설', 'JW중외제약', 'JW홀딩스', 'KB금융',\n",
       "       'KCC', 'KINDEX 200', 'KODEX 200', 'KODEX 레버리지', 'KODEX 삼성그룹',\n",
       "       'KODEX 인버스', 'KOSEF 200', 'KT', 'KT&amp;G', 'LF', 'LG', 'LG디스플레이',\n",
       "       'LG상사', 'LG생활건강', 'LG생활건강우', 'LG유플러스', 'LG이노텍', 'LG전자', 'LG전자우',\n",
       "       'LG하우시스', 'LG화학', 'LG화학우', 'LS', 'LS산전', 'NAVER', 'NH투자증권', 'OCI',\n",
       "       'POSCO', 'S-Oil', 'SK', 'SK가스', 'SK네트웍스', 'SK이노베이션', 'SK텔레콤',\n",
       "       'SK하이닉스', 'SKC', 'SPC삼립', 'TIGER 200'], dtype=object)"
      ]
     },
     "execution_count": 2,
     "metadata": {},
     "output_type": "execute_result"
    }
   ],
   "source": [
    "company_name = pd.read_csv('company_names.csv', engine = 'python')\n",
    "company_name['name'].unique()"
   ]
  },
  {
   "cell_type": "code",
   "execution_count": 11,
   "metadata": {},
   "outputs": [],
   "source": [
    "driver = webdriver.Chrome('chromedriver.exe')\n",
    "driver.get('https://news.nate.com')\n",
    "\n",
    "driver.find_element_by_id('input_search').send_keys('아모레퍼시픽')\n",
    "\n",
    "driver.find_element_by_id('acBtn').click()\n",
    "\n",
    "iframe = driver.find_element_by_id('contentsWraper').find_element_by_tag_name('iframe')\n",
    "driver.switch_to_frame(iframe)\n",
    "\n",
    "driver.find_element_by_css_selector('dl.option-list > dd.opt02 > span.sel02').click() # 검색영역 '제목' 선택"
   ]
  },
  {
   "cell_type": "code",
   "execution_count": 8,
   "metadata": {},
   "outputs": [],
   "source": [
    "# 기간 설정\n",
    "from selenium.webdriver.common.keys import Keys\n",
    "driver.find_element_by_name('ps1').clear()\n",
    "driver.find_element_by_name('ps1').send_keys('20100806')\n",
    "driver.find_element_by_name('ps2').clear()\n",
    "driver.find_element_by_name('ps2').send_keys('20180912')"
   ]
  },
  {
   "cell_type": "code",
   "execution_count": 14,
   "metadata": {},
   "outputs": [],
   "source": [
    "driver.find_element_by_class_name('type-search-btn').click() # 검색 버튼 클릭"
   ]
  },
  {
   "cell_type": "code",
   "execution_count": 15,
   "metadata": {},
   "outputs": [],
   "source": [
    "driver.find_elements_by_class_name('text-inline')[0].click() # 기사 제목 클릭"
   ]
  },
  {
   "cell_type": "code",
   "execution_count": null,
   "metadata": {},
   "outputs": [],
   "source": [
    "current_window = driver.current_window_handle\n",
    "driver.switch_to.window(driver.window_handles[1])\n",
    "\n",
    "html = driver.page_source\n",
    "soup = BeautifulSoup(html, 'html.parser')\n",
    "title = soup.select('h3.articleSubecjt')[0].text.strip()\n",
    "date = soup.select('span.firstDate > em')[0].text.strip()"
   ]
  },
  {
   "cell_type": "code",
   "execution_count": 149,
   "metadata": {},
   "outputs": [
    {
     "data": {
      "text/plain": [
       "'강원랜드 본사 ⓒ News1(정선=뉴스1) 박하림 기자 = 강원랜드(대표 문태곤)가 본사가 위치한 정선읍 고한에 두 번째 직장어린이집을 짓는다.강원랜드는 정부의 일·가정 양립정책 적극 이행 및 임직원의 복지향상을 위해 총 39억7400만 원을 투자해 강원랜드 행정동(강원도 정선군 고한로 55) 옆 잔디광장에 연면적 842.95㎡(약 255평) 규모의 (가칭)하이원 정선어린이집을 건립하기로 했다.이번에 조성되는 어린이집은 2012년 태백시에 개원한 하이원 태백어린이집에 이은 두 번째 직장 보육시설로 75명의 아동을 돌볼 수 있는 5실의 유아보육실을 비롯해 교재교구실, 다목적 아동 전용식당, 강당, 실외 놀이터 등의 공간으로 조성될 예정이다.강원랜드는 2021년 개원을 목표로 올해 안에 설계 발주에 들어갈 예정이다.강원랜드는 11일 오전 10시 강원도 정선 본사와 서울사무소간 화상회의시스템을 통해 열린 제161차 이사회에서 이 같은 내용을 담은 제2 직장어린이집 신축공사(안)을 심의해 원안 의결했다.뉴스1 관련뉴스☞ 김병준 \"박근혜 재판은 정치 재판…홍준표는 평당원\"☞ 또래 소녀가 성매수자 물색…채팅앱 청소년 성매매 적발☞ 이재명 \"국토보유세 신설해 불로소득 국민에 돌려줘야\"☞ 사찰서 60대 승려, 50대女 살해 후 목숨 끊어☞ 합의성관계 후 9차례 강간당했다 무고한 女rimrock@news1.kr▶ 뉴스1 100% 무료 만화 서비스 오픈!![ⓒ 뉴스1코리아(news1.kr), 무단 전재 및 재배포 금지]'"
      ]
     },
     "execution_count": 149,
     "metadata": {},
     "output_type": "execute_result"
    }
   ],
   "source": [
    "content = soup.find('div', {'id' : 'realArtcContents'})\n",
    "content.text.strip()"
   ]
  },
  {
   "cell_type": "code",
   "execution_count": 145,
   "metadata": {
    "scrolled": false
   },
   "outputs": [
    {
     "data": {
      "text/plain": [
       "[<p><br/></p>,\n",
       " <p style=\"font-size: 12px !important; color:#777;font-family: '돋움',dotum;\">강원랜드 본사 ⓒ News1</p>,\n",
       " <p><br/></p>,\n",
       " <p><br/>(정선=뉴스1) 박하림 기자 = 강원랜드(대표 문태곤)가 본사가 위치한 정선읍 고한에 두 번째 직장어린이집을 짓는다.<br/><br/>강원랜드는 정부의 일·가정 양립정책 적극 이행 및 임직원의 복지향상을 위해 총 39억7400만 원을 투자해 강원랜드 행정동(강원도 정선군 고한로 55) 옆 잔디광장에 연면적 842.95㎡(약 255평) 규모의 (가칭)하이원 정선어린이집을 건립하기로 했다.<br/><br/>이번에 조성되는 어린이집은 2012년 태백시에 개원한 하이원 태백어린이집에 이은 두 번째 직장 보육시설로 75명의 아동을 돌볼 수 있는 5실의 유아보육실을 비롯해 교재교구실, 다목적 아동 전용식당, 강당, 실외 놀이터 등의 공간으로 조성될 예정이다.<br/><br/>강원랜드는 2021년 개원을 목표로 올해 안에 설계 발주에 들어갈 예정이다.<br/><br/>강원랜드는 11일 오전 10시 강원도 정선 본사와 서울사무소간 화상회의시스템을 통해 열린 제161차 이사회에서 이 같은 내용을 담은 제2 직장어린이집 신축공사(안)을 심의해 원안 의결했다.<br/><br/></p>]"
      ]
     },
     "execution_count": 145,
     "metadata": {},
     "output_type": "execute_result"
    }
   ],
   "source": [
    "content"
   ]
  }
 ],
 "metadata": {
  "kernelspec": {
   "display_name": "Python 3",
   "language": "python",
   "name": "python3"
  },
  "language_info": {
   "codemirror_mode": {
    "name": "ipython",
    "version": 3
   },
   "file_extension": ".py",
   "mimetype": "text/x-python",
   "name": "python",
   "nbconvert_exporter": "python",
   "pygments_lexer": "ipython3",
   "version": "3.6.2"
  },
  "varInspector": {
   "cols": {
    "lenName": 16,
    "lenType": 16,
    "lenVar": 40
   },
   "kernels_config": {
    "python": {
     "delete_cmd_postfix": "",
     "delete_cmd_prefix": "del ",
     "library": "var_list.py",
     "varRefreshCmd": "print(var_dic_list())"
    },
    "r": {
     "delete_cmd_postfix": ") ",
     "delete_cmd_prefix": "rm(",
     "library": "var_list.r",
     "varRefreshCmd": "cat(var_dic_list()) "
    }
   },
   "types_to_exclude": [
    "module",
    "function",
    "builtin_function_or_method",
    "instance",
    "_Feature"
   ],
   "window_display": false
  }
 },
 "nbformat": 4,
 "nbformat_minor": 2
}
