{
 "cells": [
  {
   "cell_type": "markdown",
   "metadata": {},
   "source": [
    "# click으로 시도"
   ]
  },
  {
   "cell_type": "code",
   "execution_count": 29,
   "metadata": {
    "scrolled": false
   },
   "outputs": [
    {
     "name": "stdout",
     "output_type": "stream",
     "text": [
      "start\n"
     ]
    },
    {
     "ename": "IndexError",
     "evalue": "list index out of range",
     "output_type": "error",
     "traceback": [
      "\u001b[1;31m---------------------------------------------------------------------------\u001b[0m",
      "\u001b[1;31mIndexError\u001b[0m                                Traceback (most recent call last)",
      "\u001b[1;32m<timed exec>\u001b[0m in \u001b[0;36m<module>\u001b[1;34m()\u001b[0m\n",
      "\u001b[1;31mIndexError\u001b[0m: list index out of range"
     ]
    }
   ],
   "source": [
    "%%time\n",
    "from selenium import webdriver\n",
    "from bs4 import BeautifulSoup\n",
    "import pandas as pd\n",
    "import numpy as np\n",
    "import time as t\n",
    "\n",
    "\n",
    "options = webdriver.Chromeoptions()\n",
    "options.add_argument('headless')\n",
    "options.add_argument('window-size = 1920x1980')\n",
    "\n",
    "\n",
    "driver = webdriver.Chrome('chromedriver.exe')\n",
    "\n",
    "driver.get('https://everytime.kr')\n",
    "\n",
    "driver.find_element_by_class_name('login').find_element_by_link_text('로그인').click()\n",
    "\n",
    "driver.find_element_by_name('userid').send_keys('-------')\n",
    "driver.find_element_by_name('password').send_keys('--------')\n",
    "\n",
    "driver.find_element_by_class_name('submit').click()\n",
    "\n",
    "driver.find_element_by_link_text('자유게시판').click()\n",
    "driver.refresh()\n",
    "url = []\n",
    "time = []\n",
    "title = []\n",
    "content = []\n",
    "vote = []\n",
    "comment = []\n",
    "n = 0\n",
    "for page_number in range(1,501,1):\n",
    "    page_url = driver.current_url\n",
    "    driver.implicitly_wait(3)\n",
    "    driver.execute_script('window.scrollTo(0,document.body.scrollHeight);')\n",
    "    driver.execute_script('window.scrollTo(0,0);')\n",
    "    post_list = driver.find_elements_by_tag_name('article')\n",
    "    \n",
    "    for i in range(20):         \n",
    "        \n",
    "        \n",
    "        post_url = post_list[i].find_element_by_tag_name('a').get_attribute('href')\n",
    "        \n",
    "        #post_list[i].click()\n",
    "        #url.append(driver.current_url)\n",
    "        url.append(post_url)\n",
    "        time.append(driver.find_element_by_tag_name('time').get_attribute('title'))\n",
    "        \n",
    "        driver.get(post_url)\n",
    "        html = driver.page_source\n",
    "        soup = BeautifulSoup(html, 'html5lib')\n",
    "        print('start')\n",
    "        title.append(soup.select('h2.large')[0].text.strip())\n",
    "        print(i)\n",
    "        content.append(soup.select('p.large')[0].text.strip())\n",
    "        vote.append(soup.select('li.vote')[0].text.strip())\n",
    "        comment.append(soup.select('li.comment')[0].text.strip())\n",
    "        driver.back()\n",
    "        \n",
    "    if page_number % 50 == 0:\n",
    "        df = pd.DataFrame({'title' : title, 'content' : content, 'vote' : vote, 'comment' : comment, 'url' : url, 'time' : time})\n",
    "        df = df[['title', 'content', 'comment', 'vote', 'time', 'url']]\n",
    "        df.to_csv('everytime{}.csv'.format(page_number // 50))\n",
    "        url = []\n",
    "        time = []\n",
    "        title = []\n",
    "        content = []\n",
    "        vote = []\n",
    "        comment = []\n",
    "    driver.implicitly_wait(20)\n",
    "    driver.execute_script('window.scrollTo(0,document.body.scrollHeight);')\n",
    "    driver.find_element_by_css_selector('a.next').click()"
   ]
  },
  {
   "cell_type": "markdown",
   "metadata": {},
   "source": [
    "# BeautifulSoup 파싱 없이 바로\n",
    "- driver에서 element로 바로 찾아서 append"
   ]
  },
  {
   "cell_type": "code",
   "execution_count": 125,
   "metadata": {
    "scrolled": true
   },
   "outputs": [
    {
     "name": "stdout",
     "output_type": "stream",
     "text": [
      "10\n",
      "10\n",
      "10\n",
      "10\n",
      "10\n",
      "10\n",
      "10\n",
      "10\n",
      "10\n",
      "10\n",
      "10\n",
      "10\n",
      "10\n",
      "10\n",
      "10\n",
      "10\n",
      "10\n",
      "10\n",
      "10\n",
      "10\n"
     ]
    },
    {
     "ename": "WebDriverException",
     "evalue": "Message: chrome not reachable\n  (Session info: chrome=70.0.3538.77)\n  (Driver info: chromedriver=2.41.578737 (49da6702b16031c40d63e5618de03a32ff6c197e),platform=Windows NT 10.0.17134 x86_64)\n",
     "output_type": "error",
     "traceback": [
      "\u001b[1;31m---------------------------------------------------------------------------\u001b[0m",
      "\u001b[1;31mWebDriverException\u001b[0m                        Traceback (most recent call last)",
      "\u001b[1;32m<timed exec>\u001b[0m in \u001b[0;36m<module>\u001b[1;34m()\u001b[0m\n",
      "\u001b[1;32mC:\\ProgramData\\Anaconda3\\lib\\site-packages\\selenium\\webdriver\\remote\\webdriver.py\u001b[0m in \u001b[0;36mfind_elements_by_css_selector\u001b[1;34m(self, css_selector)\u001b[0m\n\u001b[0;32m    611\u001b[0m             \u001b[0melements\u001b[0m \u001b[1;33m=\u001b[0m \u001b[0mdriver\u001b[0m\u001b[1;33m.\u001b[0m\u001b[0mfind_elements_by_css_selector\u001b[0m\u001b[1;33m(\u001b[0m\u001b[1;34m'.foo'\u001b[0m\u001b[1;33m)\u001b[0m\u001b[1;33m\u001b[0m\u001b[0m\n\u001b[0;32m    612\u001b[0m         \"\"\"\n\u001b[1;32m--> 613\u001b[1;33m         \u001b[1;32mreturn\u001b[0m \u001b[0mself\u001b[0m\u001b[1;33m.\u001b[0m\u001b[0mfind_elements\u001b[0m\u001b[1;33m(\u001b[0m\u001b[0mby\u001b[0m\u001b[1;33m=\u001b[0m\u001b[0mBy\u001b[0m\u001b[1;33m.\u001b[0m\u001b[0mCSS_SELECTOR\u001b[0m\u001b[1;33m,\u001b[0m \u001b[0mvalue\u001b[0m\u001b[1;33m=\u001b[0m\u001b[0mcss_selector\u001b[0m\u001b[1;33m)\u001b[0m\u001b[1;33m\u001b[0m\u001b[0m\n\u001b[0m\u001b[0;32m    614\u001b[0m \u001b[1;33m\u001b[0m\u001b[0m\n\u001b[0;32m    615\u001b[0m     \u001b[1;32mdef\u001b[0m \u001b[0mexecute_script\u001b[0m\u001b[1;33m(\u001b[0m\u001b[0mself\u001b[0m\u001b[1;33m,\u001b[0m \u001b[0mscript\u001b[0m\u001b[1;33m,\u001b[0m \u001b[1;33m*\u001b[0m\u001b[0margs\u001b[0m\u001b[1;33m)\u001b[0m\u001b[1;33m:\u001b[0m\u001b[1;33m\u001b[0m\u001b[0m\n",
      "\u001b[1;32mC:\\ProgramData\\Anaconda3\\lib\\site-packages\\selenium\\webdriver\\remote\\webdriver.py\u001b[0m in \u001b[0;36mfind_elements\u001b[1;34m(self, by, value)\u001b[0m\n\u001b[0;32m    993\u001b[0m         return self.execute(Command.FIND_ELEMENTS, {\n\u001b[0;32m    994\u001b[0m             \u001b[1;34m'using'\u001b[0m\u001b[1;33m:\u001b[0m \u001b[0mby\u001b[0m\u001b[1;33m,\u001b[0m\u001b[1;33m\u001b[0m\u001b[0m\n\u001b[1;32m--> 995\u001b[1;33m             'value': value})['value'] or []\n\u001b[0m\u001b[0;32m    996\u001b[0m \u001b[1;33m\u001b[0m\u001b[0m\n\u001b[0;32m    997\u001b[0m     \u001b[1;33m@\u001b[0m\u001b[0mproperty\u001b[0m\u001b[1;33m\u001b[0m\u001b[0m\n",
      "\u001b[1;32mC:\\ProgramData\\Anaconda3\\lib\\site-packages\\selenium\\webdriver\\remote\\webdriver.py\u001b[0m in \u001b[0;36mexecute\u001b[1;34m(self, driver_command, params)\u001b[0m\n\u001b[0;32m    318\u001b[0m         \u001b[0mresponse\u001b[0m \u001b[1;33m=\u001b[0m \u001b[0mself\u001b[0m\u001b[1;33m.\u001b[0m\u001b[0mcommand_executor\u001b[0m\u001b[1;33m.\u001b[0m\u001b[0mexecute\u001b[0m\u001b[1;33m(\u001b[0m\u001b[0mdriver_command\u001b[0m\u001b[1;33m,\u001b[0m \u001b[0mparams\u001b[0m\u001b[1;33m)\u001b[0m\u001b[1;33m\u001b[0m\u001b[0m\n\u001b[0;32m    319\u001b[0m         \u001b[1;32mif\u001b[0m \u001b[0mresponse\u001b[0m\u001b[1;33m:\u001b[0m\u001b[1;33m\u001b[0m\u001b[0m\n\u001b[1;32m--> 320\u001b[1;33m             \u001b[0mself\u001b[0m\u001b[1;33m.\u001b[0m\u001b[0merror_handler\u001b[0m\u001b[1;33m.\u001b[0m\u001b[0mcheck_response\u001b[0m\u001b[1;33m(\u001b[0m\u001b[0mresponse\u001b[0m\u001b[1;33m)\u001b[0m\u001b[1;33m\u001b[0m\u001b[0m\n\u001b[0m\u001b[0;32m    321\u001b[0m             response['value'] = self._unwrap_value(\n\u001b[0;32m    322\u001b[0m                 response.get('value', None))\n",
      "\u001b[1;32mC:\\ProgramData\\Anaconda3\\lib\\site-packages\\selenium\\webdriver\\remote\\errorhandler.py\u001b[0m in \u001b[0;36mcheck_response\u001b[1;34m(self, response)\u001b[0m\n\u001b[0;32m    240\u001b[0m                 \u001b[0malert_text\u001b[0m \u001b[1;33m=\u001b[0m \u001b[0mvalue\u001b[0m\u001b[1;33m[\u001b[0m\u001b[1;34m'alert'\u001b[0m\u001b[1;33m]\u001b[0m\u001b[1;33m.\u001b[0m\u001b[0mget\u001b[0m\u001b[1;33m(\u001b[0m\u001b[1;34m'text'\u001b[0m\u001b[1;33m)\u001b[0m\u001b[1;33m\u001b[0m\u001b[0m\n\u001b[0;32m    241\u001b[0m             \u001b[1;32mraise\u001b[0m \u001b[0mexception_class\u001b[0m\u001b[1;33m(\u001b[0m\u001b[0mmessage\u001b[0m\u001b[1;33m,\u001b[0m \u001b[0mscreen\u001b[0m\u001b[1;33m,\u001b[0m \u001b[0mstacktrace\u001b[0m\u001b[1;33m,\u001b[0m \u001b[0malert_text\u001b[0m\u001b[1;33m)\u001b[0m\u001b[1;33m\u001b[0m\u001b[0m\n\u001b[1;32m--> 242\u001b[1;33m         \u001b[1;32mraise\u001b[0m \u001b[0mexception_class\u001b[0m\u001b[1;33m(\u001b[0m\u001b[0mmessage\u001b[0m\u001b[1;33m,\u001b[0m \u001b[0mscreen\u001b[0m\u001b[1;33m,\u001b[0m \u001b[0mstacktrace\u001b[0m\u001b[1;33m)\u001b[0m\u001b[1;33m\u001b[0m\u001b[0m\n\u001b[0m\u001b[0;32m    243\u001b[0m \u001b[1;33m\u001b[0m\u001b[0m\n\u001b[0;32m    244\u001b[0m     \u001b[1;32mdef\u001b[0m \u001b[0m_value_or_default\u001b[0m\u001b[1;33m(\u001b[0m\u001b[0mself\u001b[0m\u001b[1;33m,\u001b[0m \u001b[0mobj\u001b[0m\u001b[1;33m,\u001b[0m \u001b[0mkey\u001b[0m\u001b[1;33m,\u001b[0m \u001b[0mdefault\u001b[0m\u001b[1;33m)\u001b[0m\u001b[1;33m:\u001b[0m\u001b[1;33m\u001b[0m\u001b[0m\n",
      "\u001b[1;31mWebDriverException\u001b[0m: Message: chrome not reachable\n  (Session info: chrome=70.0.3538.77)\n  (Driver info: chromedriver=2.41.578737 (49da6702b16031c40d63e5618de03a32ff6c197e),platform=Windows NT 10.0.17134 x86_64)\n"
     ]
    }
   ],
   "source": [
    "%%time\n",
    "from selenium import webdriver\n",
    "from bs4 import BeautifulSoup\n",
    "import pandas as pd\n",
    "import numpy as np\n",
    "import time as t\n",
    "\n",
    "\n",
    "options = webdriver.ChromeOptions()\n",
    "options.add_argument('headless')\n",
    "options.add_argument('window-size = 1920x1980')\n",
    "\n",
    "\n",
    "driver = webdriver.Chrome('chromedriver.exe')\n",
    "\n",
    "driver.get('https://everytime.kr')\n",
    "\n",
    "driver.find_element_by_class_name('login').find_element_by_link_text('로그인').click()\n",
    "\n",
    "driver.find_element_by_name('userid').send_keys('-----------')\n",
    "driver.find_element_by_name('password').send_keys('------------')\n",
    "\n",
    "driver.find_element_by_class_name('submit').click()\n",
    "\n",
    "driver.find_element_by_link_text('자유게시판').click()\n",
    "driver.refresh()\n",
    "\n",
    "url = []\n",
    "time = []\n",
    "title = []\n",
    "content = []\n",
    "vote = []\n",
    "comment = []\n",
    "n = 0\n",
    "\n",
    "for page_number in range(1,501,1):\n",
    "    \n",
    "    page_url = driver.current_url\n",
    "\n",
    "    driver.execute_script('window.scrollTo(0,document.body.scrollHeight);')\n",
    "    driver.execute_script('window.scrollTo(0,0);')\n",
    "    t.sleep(1)\n",
    "    post_url_list = [u.get_attribute('href') for u in driver.find_elements_by_css_selector('article a.article')]\n",
    "    for i in range(20):\n",
    "        #post_list = driver.find_elements_by_tag_name('article')\n",
    "        #post_url = post_list[i].find_element_by_tag_name('a').get_attribute('href')\n",
    "        post_url = post_url_list[i]\n",
    "        #post_list[i].click()\n",
    "        driver.get(post_url)\n",
    "        \n",
    "        t.sleep(2)\n",
    "        url.append(post_url)\n",
    "        time.append(driver.find_element_by_tag_name('time').get_attribute('title'))\n",
    "\n",
    "\n",
    "        # method1\n",
    "        title.append(driver.find_element_by_css_selector('article a.article h2.large').text)\n",
    "\n",
    "        content.append(driver.find_element_by_css_selector('article a.article p.large').text.strip())\n",
    "        vote.append(driver.find_element_by_css_selector('article a.article ul.status li.vote').text)\n",
    "        comment.append(driver.find_element_by_css_selector('article a.article ul.status li.comment').text)\n",
    "\n",
    "        driver.back()\n",
    "        \n",
    "    if page_number % 50 == 0:\n",
    "        df = pd.DataFrame({'title' : title, 'content' : content, 'vote' : vote, 'comment' : comment, 'url' : url, 'time' : time})\n",
    "        df = df[['title', 'content', 'comment', 'vote', 'time', 'url']]\n",
    "        df.to_csv('everytime_data/everytime{}.csv'.format(page_number))\n",
    "        print(page_number)\n",
    "        title, content, vote, comment, url, time = [], [], [], [], [], []\n",
    "    driver.execute_script('window.scrollTo(0,document.body.scrollHeight);')\n",
    "    t.sleep(2)\n",
    "    driver.find_element_by_css_selector('a.next').click()"
   ]
  },
  {
   "cell_type": "markdown",
   "metadata": {},
   "source": [
    "# 중간부터 시작"
   ]
  },
  {
   "cell_type": "code",
   "execution_count": 131,
   "metadata": {},
   "outputs": [
    {
     "name": "stdout",
     "output_type": "stream",
     "text": [
      "Wall time: 8.76 s\n"
     ]
    }
   ],
   "source": [
    "%%time\n",
    "from selenium import webdriver\n",
    "from bs4 import BeautifulSoup\n",
    "import pandas as pd\n",
    "import numpy as np\n",
    "import time as t\n",
    "\n",
    "\n",
    "options = webdriver.ChromeOptions()\n",
    "options.add_argument('headless')\n",
    "options.add_argument('window-size = 1920x1980')\n",
    "\n",
    "\n",
    "driver = webdriver.Chrome('chromedriver.exe')\n",
    "\n",
    "driver.get('https://everytime.kr')\n",
    "\n",
    "driver.find_element_by_class_name('login').find_element_by_link_text('로그인').click()\n",
    "\n",
    "driver.find_element_by_name('userid').send_keys('-----------')\n",
    "driver.find_element_by_name('password').send_keys('-------------')\n",
    "\n",
    "driver.find_element_by_class_name('submit').click()\n",
    "\n",
    "page_n = 46 # The page number to start\n",
    "driver.get('https://everytime.kr/377390/p/' + str(page_n))\n",
    "\n",
    "url = []\n",
    "time = []\n",
    "title = []\n",
    "content = []\n",
    "vote = []\n",
    "comment = []\n",
    "n = 0\n",
    "\n",
    "for page_number in range(page_n,2062,1):\n",
    "    \n",
    "    page_url = driver.current_url\n",
    "\n",
    "    driver.execute_script('window.scrollTo(0,document.body.scrollHeight);')\n",
    "    driver.execute_script('window.scrollTo(0,0);')\n",
    "    t.sleep(1)\n",
    "    post_url_list = [u.get_attribute('href') for u in driver.find_elements_by_css_selector('article a.article')]\n",
    "    for i in range(20):\n",
    "        #post_list = driver.find_elements_by_tag_name('article')\n",
    "        #post_url = post_list[i].find_element_by_tag_name('a').get_attribute('href')\n",
    "        post_url = post_url_list[i]\n",
    "        #post_list[i].click()\n",
    "        driver.get(post_url)\n",
    "        \n",
    "        t.sleep(2)\n",
    "        url.append(post_url)\n",
    "        time.append(driver.find_element_by_tag_name('time').get_attribute('title'))\n",
    "\n",
    "\n",
    "        # method1\n",
    "        title.append(driver.find_element_by_css_selector('article a.article h2.large').text)\n",
    "\n",
    "        content.append(driver.find_element_by_css_selector('article a.article p.large').text.strip())\n",
    "        vote.append(driver.find_element_by_css_selector('article a.article ul.status li.vote').text)\n",
    "        comment.append(driver.find_element_by_css_selector('article a.article ul.status li.comment').text)\n",
    "\n",
    "        driver.back()\n",
    "        \n",
    "    if page_number % 50 == 0:\n",
    "        df = pd.DataFrame({'title' : title, 'content' : content, 'vote' : vote, 'comment' : comment, 'url' : url, 'time' : time})\n",
    "        df = df[['title', 'content', 'comment', 'vote', 'time', 'url']]\n",
    "        df.to_csv('everytime_data/everytime{}.csv'.format(page_number))\n",
    "        print(page_number)\n",
    "        title, content, vote, comment, url, time = [], [], [], [], [], []\n",
    "    driver.execute_script('window.scrollTo(0,document.body.scrollHeight);')\n",
    "    t.sleep(2)\n",
    "    driver.find_element_by_css_selector('a.next').click()"
   ]
  },
  {
   "cell_type": "markdown",
   "metadata": {},
   "source": [
    "# 분석하고자 하는 것\n",
    "1. 단어 빈도 수 - 시각화\n",
    "2. 주제별로 클러스터링\n",
    "3. 시기별 이용 빈도\n",
    "4. 시기별 주제\n",
    "5. 주로 틀리는 맞춤법?\n",
    "6. 키워드별 감성분석"
   ]
  }
 ],
 "metadata": {
  "kernelspec": {
   "display_name": "Python 3",
   "language": "python",
   "name": "python3"
  },
  "language_info": {
   "codemirror_mode": {
    "name": "ipython",
    "version": 3
   },
   "file_extension": ".py",
   "mimetype": "text/x-python",
   "name": "python",
   "nbconvert_exporter": "python",
   "pygments_lexer": "ipython3",
   "version": "3.6.2"
  },
  "varInspector": {
   "cols": {
    "lenName": 16,
    "lenType": 16,
    "lenVar": 40
   },
   "kernels_config": {
    "python": {
     "delete_cmd_postfix": "",
     "delete_cmd_prefix": "del ",
     "library": "var_list.py",
     "varRefreshCmd": "print(var_dic_list())"
    },
    "r": {
     "delete_cmd_postfix": ") ",
     "delete_cmd_prefix": "rm(",
     "library": "var_list.r",
     "varRefreshCmd": "cat(var_dic_list()) "
    }
   },
   "types_to_exclude": [
    "module",
    "function",
    "builtin_function_or_method",
    "instance",
    "_Feature"
   ],
   "window_display": false
  }
 },
 "nbformat": 4,
 "nbformat_minor": 2
}
