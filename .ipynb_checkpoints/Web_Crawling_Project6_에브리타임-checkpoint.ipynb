{
 "cells": [
  {
   "cell_type": "markdown",
   "metadata": {},
   "source": [
    "# click으로 시도"
   ]
  },
  {
   "cell_type": "code",
   "execution_count": 29,
   "metadata": {
    "scrolled": false
   },
   "outputs": [
    {
     "name": "stdout",
     "output_type": "stream",
     "text": [
      "start\n"
     ]
    },
    {
     "ename": "IndexError",
     "evalue": "list index out of range",
     "output_type": "error",
     "traceback": [
      "\u001b[1;31m---------------------------------------------------------------------------\u001b[0m",
      "\u001b[1;31mIndexError\u001b[0m                                Traceback (most recent call last)",
      "\u001b[1;32m<timed exec>\u001b[0m in \u001b[0;36m<module>\u001b[1;34m()\u001b[0m\n",
      "\u001b[1;31mIndexError\u001b[0m: list index out of range"
     ]
    }
   ],
   "source": [
    "%%time\n",
    "from selenium import webdriver\n",
    "from bs4 import BeautifulSoup\n",
    "import pandas as pd\n",
    "import numpy as np\n",
    "import time as t\n",
    "\n",
    "\n",
    "options = webdriver.Chromeoptions()\n",
    "options.add_argument('headless')\n",
    "options.add_argument('window-size = 1920x1980')\n",
    "\n",
    "\n",
    "driver = webdriver.Chrome('chromedriver.exe')\n",
    "\n",
    "driver.get('https://everytime.kr')\n",
    "\n",
    "driver.find_element_by_class_name('login').find_element_by_link_text('로그인').click()\n",
    "\n",
    "driver.find_element_by_name('userid').send_keys('-------')\n",
    "driver.find_element_by_name('password').send_keys('--------')\n",
    "\n",
    "driver.find_element_by_class_name('submit').click()\n",
    "\n",
    "driver.find_element_by_link_text('자유게시판').click()\n",
    "driver.refresh()\n",
    "url = []\n",
    "time = []\n",
    "title = []\n",
    "content = []\n",
    "vote = []\n",
    "comment = []\n",
    "n = 0\n",
    "for page_number in range(1,501,1):\n",
    "    page_url = driver.current_url\n",
    "    driver.implicitly_wait(3)\n",
    "    driver.execute_script('window.scrollTo(0,document.body.scrollHeight);')\n",
    "    driver.execute_script('window.scrollTo(0,0);')\n",
    "    post_list = driver.find_elements_by_tag_name('article')\n",
    "    \n",
    "    for i in range(20):         \n",
    "        \n",
    "        \n",
    "        post_url = post_list[i].find_element_by_tag_name('a').get_attribute('href')\n",
    "        \n",
    "        #post_list[i].click()\n",
    "        #url.append(driver.current_url)\n",
    "        url.append(post_url)\n",
    "        time.append(driver.find_element_by_tag_name('time').get_attribute('title'))\n",
    "        \n",
    "        driver.get(post_url)\n",
    "        html = driver.page_source\n",
    "        soup = BeautifulSoup(html, 'html5lib')\n",
    "        print('start')\n",
    "        title.append(soup.select('h2.large')[0].text.strip())\n",
    "        print(i)\n",
    "        content.append(soup.select('p.large')[0].text.strip())\n",
    "        vote.append(soup.select('li.vote')[0].text.strip())\n",
    "        comment.append(soup.select('li.comment')[0].text.strip())\n",
    "        driver.back()\n",
    "        \n",
    "    if page_number % 50 == 0:\n",
    "        df = pd.DataFrame({'title' : title, 'content' : content, 'vote' : vote, 'comment' : comment, 'url' : url, 'time' : time})\n",
    "        df = df[['title', 'content', 'comment', 'vote', 'time', 'url']]\n",
    "        df.to_csv('everytime{}.csv'.format(page_number // 50))\n",
    "        url = []\n",
    "        time = []\n",
    "        title = []\n",
    "        content = []\n",
    "        vote = []\n",
    "        comment = []\n",
    "    driver.implicitly_wait(20)\n",
    "    driver.execute_script('window.scrollTo(0,document.body.scrollHeight);')\n",
    "    driver.find_element_by_css_selector('a.next').click()"
   ]
  },
  {
   "cell_type": "markdown",
   "metadata": {},
   "source": [
    "# BeautifulSoup 파싱 없이 바로\n",
    "- driver에서 element로 바로 찾아서 append"
   ]
  },
  {
   "cell_type": "code",
   "execution_count": 100,
   "metadata": {},
   "outputs": [
    {
     "name": "stdout",
     "output_type": "stream",
     "text": [
      "Wall time: 9.8 s\n"
     ]
    }
   ],
   "source": [
    "%%time\n",
    "from selenium import webdriver\n",
    "from bs4 import BeautifulSoup\n",
    "import pandas as pd\n",
    "import numpy as np\n",
    "import time as t\n",
    "\n",
    "\n",
    "options = webdriver.ChromeOptions()\n",
    "options.add_argument('headless')\n",
    "options.add_argument('window-size = 1920x1980')\n",
    "\n",
    "\n",
    "driver = webdriver.Chrome('chromedriver.exe')\n",
    "\n",
    "driver.get('https://everytime.kr')\n",
    "\n",
    "driver.find_element_by_class_name('login').find_element_by_link_text('로그인').click()\n",
    "\n",
    "driver.find_element_by_name('userid').send_keys('------')\n",
    "driver.find_element_by_name('password').send_keys('--------')\n",
    "\n",
    "driver.find_element_by_class_name('submit').click()\n",
    "\n",
    "driver.find_element_by_link_text('자유게시판').click()\n",
    "driver.refresh()\n",
    "\n",
    "url = []\n",
    "time = []\n",
    "title = []\n",
    "content = []\n",
    "vote = []\n",
    "comment = []\n",
    "n = 0\n",
    "\n",
    "for page_number in range(1,501,1):\n",
    "    \n",
    "    page_url = driver.current_url\n",
    "\n",
    "    driver.execute_script('window.scrollTo(0,document.body.scrollHeight);')\n",
    "    driver.execute_script('window.scrollTo(0,0);')\n",
    "    t.sleep(1)\n",
    "    post_url_list = [u.get_attribute('href') for u in driver.find_elements_by_css_selector('article a.article')]\n",
    "    for i in range(2):\n",
    "        #post_list = driver.find_elements_by_tag_name('article')\n",
    "        #post_url = post_list[i].find_element_by_tag_name('a').get_attribute('href')\n",
    "        post_url = post_url_list[i]\n",
    "        #post_list[i].click()\n",
    "        driver.get(post_url)\n",
    "        \n",
    "        t.sleep(1)\n",
    "        url.append(post_url)\n",
    "        time.append(driver.find_element_by_tag_name('time').get_attribute('title'))\n",
    "\n",
    "\n",
    "        # method1\n",
    "        title.append(driver.find_element_by_css_selector('article a.article h2.large').text)\n",
    "\n",
    "        content.append(driver.find_element_by_css_selector('article a.article p.large').text.strip())\n",
    "        vote.append(driver.find_element_by_css_selector('article a.article ul.status li.vote').text)\n",
    "        comment.append(driver.find_element_by_css_selector('article a.article ul.status li.comment').text)\n",
    "\n",
    "        driver.back()\n",
    "        \n",
    "        if page_number % 50 == 0:\n",
    "            df = pd.DataFrame({'title' : title, 'content' : content, 'vote' : vote, 'comment' : comment, 'url' : url, 'time' : time})\n",
    "            df = df[['title', 'content', 'comment', 'vote', 'time', 'url']]\n",
    "            df.to_csv('everytime{}.csv'.format(page_number // 50))\n",
    "            url = []\n",
    "            time = []\n",
    "            title = []\n",
    "            content = []\n",
    "            vote = []\n",
    "            comment = []\n",
    "    driver.execute_script('window.scrollTo(0,document.body.scrollHeight);')\n",
    "    t.sleep(1)\n",
    "    driver.find_element_by_css_selector('a.next').click()"
   ]
  }
 ],
 "metadata": {
  "kernelspec": {
   "display_name": "Python 3",
   "language": "python",
   "name": "python3"
  },
  "language_info": {
   "codemirror_mode": {
    "name": "ipython",
    "version": 3
   },
   "file_extension": ".py",
   "mimetype": "text/x-python",
   "name": "python",
   "nbconvert_exporter": "python",
   "pygments_lexer": "ipython3",
   "version": "3.6.2"
  },
  "varInspector": {
   "cols": {
    "lenName": 16,
    "lenType": 16,
    "lenVar": 40
   },
   "kernels_config": {
    "python": {
     "delete_cmd_postfix": "",
     "delete_cmd_prefix": "del ",
     "library": "var_list.py",
     "varRefreshCmd": "print(var_dic_list())"
    },
    "r": {
     "delete_cmd_postfix": ") ",
     "delete_cmd_prefix": "rm(",
     "library": "var_list.r",
     "varRefreshCmd": "cat(var_dic_list()) "
    }
   },
   "types_to_exclude": [
    "module",
    "function",
    "builtin_function_or_method",
    "instance",
    "_Feature"
   ],
   "window_display": false
  }
 },
 "nbformat": 4,
 "nbformat_minor": 2
}
