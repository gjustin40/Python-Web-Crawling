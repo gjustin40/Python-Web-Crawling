{
 "cells": [
  {
   "cell_type": "code",
   "execution_count": null,
   "metadata": {
    "scrolled": true
   },
   "outputs": [],
   "source": [
    "from selenium import webdriver\n",
    "import urllib\n",
    "import os\n",
    "import time\n",
    "\n",
    "driver = webdriver.Chrome('Chromedriver.exe')\n",
    "\n",
    "fruit = ['banana', 'grape', 'strawberry', 'orange']\n",
    "url_list = []\n",
    "url_dict = {}\n",
    "\n",
    "dataDir = 'C:\\\\Users\\\\gjust\\\\Documents\\Github\\\\data\\\\fruit\\\\'\n",
    "for f in fruit:\n",
    "    try:\n",
    "        saveDir = f\n",
    "        driver.get('https://www.google.com/search?q=fruit+{}&source=lnms&tbm=isch&sa=X&ved=2ahUKEwixzebA9LHtAhXRMd4KHQGTABQQ_AUoAXoECAcQAw&biw=374&bih=888'.format(f))\n",
    "        \n",
    "        break_out = 0\n",
    "        while len(driver.find_elements_by_class_name(\"isv-r\")) < 500:\n",
    "            \n",
    "            \n",
    "            driver.execute_script('window.scrollTo(0, document.body.scrollHeight)')\n",
    "            try:\n",
    "                if driver.find_element_by_class_name('mye4qd'):\n",
    "                    driver.find_element_by_class_name('mye4qd').click()\n",
    "\n",
    "            except Exception as e:\n",
    "                break_out += 1\n",
    "                if break_out == 1000:\n",
    "                    break\n",
    "                print(e)\n",
    "                pass\n",
    "        img_list = driver.find_elements_by_class_name('rg_i')\n",
    "\n",
    "        for i, img in enumerate(img_list):\n",
    "\n",
    "            src = img.get_attribute('src')\n",
    "            if not(os.path.isdir(dataDir+saveDir)):\n",
    "                os.makedirs(dataDir+saveDir)\n",
    "            try:\n",
    "                urllib.request.urlretrieve(str(src), dataDir+saveDir+'\\\\{}{}.jpg'.format(f, i))\n",
    "            except Exception as e:\n",
    "                print(e, '\\\\{}{}.jpg'.format(f, i))\n",
    "    except Exception as e:\n",
    "        print(e)\n",
    "        "
   ]
  }
 ],
 "metadata": {
  "kernelspec": {
   "display_name": "Python 3",
   "language": "python",
   "name": "python3"
  },
  "language_info": {
   "codemirror_mode": {
    "name": "ipython",
    "version": 3
   },
   "file_extension": ".py",
   "mimetype": "text/x-python",
   "name": "python",
   "nbconvert_exporter": "python",
   "pygments_lexer": "ipython3",
   "version": "3.7.4"
  }
 },
 "nbformat": 4,
 "nbformat_minor": 2
}
