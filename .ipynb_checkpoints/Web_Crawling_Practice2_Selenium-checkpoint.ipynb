{
 "cells": [
  {
   "cell_type": "markdown",
   "metadata": {},
   "source": [
    "# Web Crawling using Selenium in Python"
   ]
  },
  {
   "cell_type": "markdown",
   "metadata": {},
   "source": [
    "## Practice 1\n",
    "- Naver에 로그인하여 네이버페이에서 구매내역 크롤링하기"
   ]
  },
  {
   "cell_type": "code",
   "execution_count": 16,
   "metadata": {},
   "outputs": [
    {
     "name": "stdout",
     "output_type": "stream",
     "text": [
      "알라딘커뮤니케이션 핸즈온 머신러닝 포함 2종 외 1건\n",
      "알라딘커뮤니케이션 밑바닥부터 시작하는 딥러닝\n",
      "알라딘커뮤니케이션 블록과 함께 하는 파이썬 딥러닝 케라스 외 1건\n",
      "알라딘커뮤니케이션 2018 사회조사분석사 2급 2차 실기 한권으로 끝내기\n",
      "알라딘 넛지 외 1건\n",
      "알라딘 [중고] 똑똑한 사람들의 멍청한 선택\n",
      "알라딘 신경 끄기의 기술\n",
      "알라딘 [중고] 부자들의 음모\n",
      "알라딘 [중고] 괴짜경제학\n",
      "알라딘 [중고] 모두의 데이터 과학 with 파이썬\n",
      "알라딘 [중고] 경제학 콘서트 외 1건\n",
      "알라딘 기억독서법\n",
      "알라딘 프로이트의 의자\n",
      "알라딘 파이썬을 이용한 빅데이터 수집, 분석과 시각화 외 1건\n",
      "알라딘 맥킨지, 차트의 기술\n"
     ]
    }
   ],
   "source": [
    "# Modules Import\n",
    "from selenium import webdriver\n",
    "from bs4 import BeautifulSoup\n",
    "\n",
    "# Webdriver를 이용하여 브라우저 다루기\n",
    "# 여기서는 Chrome 브라우저를 이용한다.\n",
    "driver = webdriver.Chrome('chromedriver.exe')\n",
    "\n",
    "# 브라우저가 로딩될 때까지 대기한다.(3초)\n",
    "driver.implicitly_wait(3)\n",
    "\n",
    "# driver를 통해 해당 페이지에 접속한다.(Naver 로그인 화면)\n",
    "# 이후 로그인에 필요한 아이디와 비밀번호를 각각 입력시킨다.\n",
    "# 로그인 버튼을 클릭한다.\n",
    "# 로그인 버튼의 Tag가 접근하기 어려워 xpath를 이용하여 접근한다.\n",
    "driver.get('https://nid.naver.com/nidlogin.login?mode=form&url=https%3A%2F%2Fwww.naver.com')\n",
    "driver.find_element_by_name('id').send_keys('------')\n",
    "driver.find_element_by_name('pw').send_keys('-----------')\n",
    "driver.find_element_by_xpath('//*[@id=\"frmNIDLogin\"]/fieldset/input').click()\n",
    "\n",
    "# 네이버페이에 접속한다.\n",
    "driver.get('https://order.pay.naver.com/home')\n",
    "\n",
    "# 구매내역이 많으면 과거 내역들은 생략된다.\n",
    "# 따라서 '더 보기'버튼을 클릭해줘야 한다.\n",
    "driver.find_element_by_id('_moreButton').click()\n",
    "\n",
    "# 해당 사이트의 HTML소스를 불러온다.\n",
    "# 불러온 HTML소스를 Python으로 읽을 수 있도록 BeautifulSoup을 이용한다.\n",
    "# 이후 구매내역의 이름이 적혀있는 Tag를 찾아 불러온다.\n",
    "html = driver.page_source\n",
    "soup = BeautifulSoup(html, 'html.parser')\n",
    "pay_list = soup.select('div.p_inr > div.p_info > a > span')\n",
    "\n",
    "for name in pay_list:\n",
    "    print(name.text.strip())"
   ]
  },
  {
   "cell_type": "markdown",
   "metadata": {},
   "source": [
    "## 오류 해결하기\n",
    "\n",
    "### 1. 자동입력방지로 인하여 로그인이 안 되는 오류 해결\n",
    "- 아이디와 비밀번호 입력속도를 줄였다.\n",
    "- 위 문제로도 해결이 안 될 시 새로고침을 이용하였다.\n",
    "\n",
    "### 2. 더 보기 버튼이 적용되지 않은 상태에서 크롤링되는 오류 해결\n",
    "- 페이지가 로딩된 후 일정시간 대기\n",
    "- 버튼이 적용 된 후 일정시간 대기\n",
    "\n",
    "### 3. 구매내역 중 이름에 부가설명(강조)이 포함되어 있는 것 제거(ex.알라딘커뮤니티케이션)\n",
    "- strong태그가 포함되어 있으므로 해당 태그 제거\n",
    "- decompos() 함수 이용"
   ]
  },
  {
   "cell_type": "code",
   "execution_count": 15,
   "metadata": {},
   "outputs": [
    {
     "name": "stdout",
     "output_type": "stream",
     "text": [
      "핸즈온 머신러닝 포함 2종 외 1건\n",
      "밑바닥부터 시작하는 딥러닝\n",
      "블록과 함께 하는 파이썬 딥러닝 케라스 외 1건\n",
      "2018 사회조사분석사 2급 2차 실기 한권으로 끝내기\n",
      "넛지 외 1건\n",
      "[중고] 똑똑한 사람들의 멍청한 선택\n",
      "신경 끄기의 기술\n",
      "[중고] 부자들의 음모\n",
      "[중고] 괴짜경제학\n",
      "[중고] 모두의 데이터 과학 with 파이썬\n",
      "[중고] 경제학 콘서트 외 1건\n",
      "기억독서법\n",
      "프로이트의 의자\n",
      "파이썬을 이용한 빅데이터 수집, 분석과 시각화 외 1건\n",
      "맥킨지, 차트의 기술\n"
     ]
    }
   ],
   "source": [
    "from selenium import webdriver\n",
    "from bs4 import BeautifulSoup\n",
    "import time\n",
    "\n",
    "driver = webdriver.Chrome('chromedriver.exe')\n",
    "\n",
    "driver.implicitly_wait(3)\n",
    "driver.get('https://nid.naver.com/nidlogin.login?mode=form&url=https%3A%2F%2Fwww.naver.com')\n",
    "\n",
    "# ID와 PW 입력 속도 감소\n",
    "# ID와 PW 각각을 한 글자씩 천천히 입력한다.(string으로 불러와 한 글자씩 입력)\n",
    "id_input = driver.find_element_by_name('id')\n",
    "my_id = '-------'\n",
    "for word in my_id:\n",
    "    id_input.send_keys(word)\n",
    "    time.sleep(0.3)\n",
    "pw_input = driver.find_element_by_name('pw')\n",
    "my_pw = '-----------'\n",
    "for word in my_pw:\n",
    "    pw_input.send_keys(word)\n",
    "    time.sleep(0.3)\n",
    "\n",
    "driver.implicitly_wait(10)\n",
    "driver.find_element_by_xpath('//*[@id=\"frmNIDLogin\"]/fieldset/input').click()\n",
    "\n",
    "# 새로고침\n",
    "driver.refresh()\n",
    "\n",
    "driver.get('https://order.pay.naver.com/home')\n",
    "# 페이지가 로딩된 후 일정시간 대기\n",
    "driver.implicitly_wait(10)\n",
    "driver.find_element_by_id('_moreButton').click()\n",
    "# 더 보기 버튼이 적용된 후 일정시간 대기\n",
    "driver.implicitly_wait(100)\n",
    "\n",
    "html = driver.page_source\n",
    "soup = BeautifulSoup(html, 'html.parser')\n",
    "pay_list = soup.select('div.p_inr > div.p_info > a > span')\n",
    "\n",
    "for name in pay_list:\n",
    "    # 만약 strong태그가 존재하면 제거하라 \n",
    "    if name.strong in name:\n",
    "        name.strong.decompose()\n",
    "    print(name.text.strip())"
   ]
  }
 ],
 "metadata": {
  "kernelspec": {
   "display_name": "Python 3",
   "language": "python",
   "name": "python3"
  },
  "language_info": {
   "codemirror_mode": {
    "name": "ipython",
    "version": 3
   },
   "file_extension": ".py",
   "mimetype": "text/x-python",
   "name": "python",
   "nbconvert_exporter": "python",
   "pygments_lexer": "ipython3",
   "version": "3.7.4"
  }
 },
 "nbformat": 4,
 "nbformat_minor": 2
}
