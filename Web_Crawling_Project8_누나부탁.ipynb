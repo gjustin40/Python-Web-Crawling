{
 "cells": [
  {
   "cell_type": "markdown",
   "metadata": {},
   "source": [
    "# 1. 뉴스기사 정보 스크랩하기(기사내용 포함x)\n",
    "- Naver\n",
    "- 원하는 언론사 선택 가능\n",
    "- 날짜 선택 가능(시작과 끝)\n",
    "- Key_word 이용해서 원하는 키워드로 검색 가능(해당 단어가 완전히 포함된 기사)"
   ]
  },
  {
   "cell_type": "markdown",
   "metadata": {},
   "source": [
    "### 검색하기"
   ]
  },
  {
   "cell_type": "code",
   "execution_count": 31,
   "metadata": {
    "ExecuteTime": {
     "end_time": "2019-12-03T06:37:11.206104Z",
     "start_time": "2019-12-03T06:36:48.553103Z"
    }
   },
   "outputs": [],
   "source": [
    "from selenium import webdriver\n",
    "import pandas as pd\n",
    "import numpy as np\n",
    "import re\n",
    "import math\n",
    "import time\n",
    "\n",
    "# Input값\n",
    "key_word = '베믈리디'\n",
    "datestart = '20180101'\n",
    "dateend = '20181231'\n",
    "news = ['데일리팜', '의협신문', '데일리메디', '메디칼타임즈', '메디칼업저버', '메디게이트뉴스', 'e의료정보',\n",
    "        '의학신문', '메디파나뉴스', '청년의사', '메디칼트리뷴', '보건뉴스', '약사공론', '약업신문', '라포르시안',\n",
    "        '메디소비자뉴스', '메디컬월드뉴스', '메디컬투데이', '바이오스펙테이터', '정신의학신문', '코메디닷컴', '후생신보']\n",
    "#news = ['KBS', 'MBC', 'SBS', 'JTBC', '연합뉴스', '조선일보', '중앙일보', '동아일보', '한국경제', '매일경제']\n",
    "\n",
    "# chrome 드라이버 키고 naver 접속\n",
    "driver = webdriver.Chrome('chromedriver.exe')\n",
    "driver.get('http://naver.com')\n",
    "\n",
    "driver.find_element_by_id('query').send_keys(key_word) # 검색어 입력\n",
    "driver.find_element_by_id('search_btn').click() # 검색 클릭\n",
    "\n",
    "driver.find_element_by_css_selector('div.lnb_menu').find_element_by_link_text('뉴스').click() # 뉴스 카테고리 클릭\n",
    "\n",
    "# 검색옵션 클릭\n",
    "driver.find_element_by_id('_search_option_btn').click()\n",
    "\n",
    "# 기간 클릭\n",
    "driver.find_element_by_link_text('기간').click()\n",
    "\n",
    "# 기간 입력\n",
    "driver.find_element_by_id('news_input_period_begin').click()\n",
    "for i in datestart:\n",
    "    driver.find_element_by_id('news_input_period_begin').send_keys(i)\n",
    "    time.sleep(0.2)\n",
    "\n",
    "driver.find_element_by_id('news_input_period_end').click()\n",
    "for j in dateend:\n",
    "    driver.find_element_by_id('news_input_period_end').send_keys(j)\n",
    "    time.sleep(0.2)\n",
    "\n",
    "# 적용 클릭\n",
    "driver.find_element_by_css_selector('div.item_option.set_calendar').find_element_by_class_name('_btn_submit').click()\n",
    "\n",
    "# 언론사 선택\n",
    "driver.find_element_by_class_name('option_menu').find_element_by_link_text('언론사').click()\n",
    "\n",
    "driver.find_element_by_id('order_cat')\n",
    "for new in news:\n",
    "    driver.find_element_by_xpath('//label[@title=\"{}\"]'.format(new)).click()\n",
    "\n",
    "\n",
    "driver.find_element_by_class_name('view_btn').find_element_by_css_selector('button.impact._submit_btn').click()\n",
    "\n",
    "# 상세검색\n",
    "#driver.find_element_by_id('snb').find_element_by_link_text('상세검색').click()\n",
    "\n",
    "#driver.find_element_by_id('inpop1').send_keys(key_word)\n",
    "\n",
    "#driver.find_element_by_css_selector('button.btn_ft.ty_green._search').click()\n",
    "\n",
    "# 오래된 순으로 정렬\n",
    "driver.find_element_by_link_text('오래된순').click()"
   ]
  },
  {
   "cell_type": "markdown",
   "metadata": {},
   "source": [
    "### 내용 가져오기 - 댓글 제외\n",
    "- 제목\n",
    "- URL\n",
    "- 날짜\n",
    "- 언론사 이름"
   ]
  },
  {
   "cell_type": "code",
   "execution_count": 30,
   "metadata": {
    "ExecuteTime": {
     "end_time": "2019-12-03T06:36:44.776271Z",
     "start_time": "2019-12-03T06:36:43.963758Z"
    }
   },
   "outputs": [
    {
     "name": "stdout",
     "output_type": "stream",
     "text": [
      "\r",
      "1/8---title(0)/url(0)/reporter(0)/date(0)"
     ]
    },
    {
     "ename": "NoSuchElementException",
     "evalue": "Message: no such element: Unable to locate element: {\"method\":\"link text\",\"selector\":\"다음페이지\"}\n  (Session info: chrome=78.0.3904.108)\n  (Driver info: chromedriver=2.41.578737 (49da6702b16031c40d63e5618de03a32ff6c197e),platform=Windows NT 10.0.18362 x86_64)\n",
     "output_type": "error",
     "traceback": [
      "\u001b[1;31m---------------------------------------------------------------------------\u001b[0m",
      "\u001b[1;31mNoSuchElementException\u001b[0m                    Traceback (most recent call last)",
      "\u001b[1;32m<ipython-input-30-04d268979986>\u001b[0m in \u001b[0;36m<module>\u001b[1;34m()\u001b[0m\n\u001b[0;32m     37\u001b[0m     \u001b[1;32mif\u001b[0m \u001b[0mlen\u001b[0m\u001b[1;33m(\u001b[0m\u001b[0mtitle_list\u001b[0m\u001b[1;33m)\u001b[0m \u001b[1;33m!=\u001b[0m \u001b[0mlen\u001b[0m\u001b[1;33m(\u001b[0m\u001b[0mreporter_list\u001b[0m\u001b[1;33m)\u001b[0m\u001b[1;33m:\u001b[0m\u001b[1;33m\u001b[0m\u001b[0m\n\u001b[0;32m     38\u001b[0m         \u001b[0mprint\u001b[0m\u001b[1;33m(\u001b[0m\u001b[0mc\u001b[0m\u001b[1;33m)\u001b[0m\u001b[1;33m\u001b[0m\u001b[0m\n\u001b[1;32m---> 39\u001b[1;33m     \u001b[0mdriver\u001b[0m\u001b[1;33m.\u001b[0m\u001b[0mfind_element_by_link_text\u001b[0m\u001b[1;33m(\u001b[0m\u001b[1;34m'다음페이지'\u001b[0m\u001b[1;33m)\u001b[0m\u001b[1;33m.\u001b[0m\u001b[0mclick\u001b[0m\u001b[1;33m(\u001b[0m\u001b[1;33m)\u001b[0m\u001b[1;33m\u001b[0m\u001b[0m\n\u001b[0m",
      "\u001b[1;32mc:\\programdata\\anaconda3\\lib\\site-packages\\selenium\\webdriver\\remote\\webdriver.py\u001b[0m in \u001b[0;36mfind_element_by_link_text\u001b[1;34m(self, link_text)\u001b[0m\n\u001b[0;32m    425\u001b[0m             \u001b[0melement\u001b[0m \u001b[1;33m=\u001b[0m \u001b[0mdriver\u001b[0m\u001b[1;33m.\u001b[0m\u001b[0mfind_element_by_link_text\u001b[0m\u001b[1;33m(\u001b[0m\u001b[1;34m'Sign In'\u001b[0m\u001b[1;33m)\u001b[0m\u001b[1;33m\u001b[0m\u001b[0m\n\u001b[0;32m    426\u001b[0m         \"\"\"\n\u001b[1;32m--> 427\u001b[1;33m         \u001b[1;32mreturn\u001b[0m \u001b[0mself\u001b[0m\u001b[1;33m.\u001b[0m\u001b[0mfind_element\u001b[0m\u001b[1;33m(\u001b[0m\u001b[0mby\u001b[0m\u001b[1;33m=\u001b[0m\u001b[0mBy\u001b[0m\u001b[1;33m.\u001b[0m\u001b[0mLINK_TEXT\u001b[0m\u001b[1;33m,\u001b[0m \u001b[0mvalue\u001b[0m\u001b[1;33m=\u001b[0m\u001b[0mlink_text\u001b[0m\u001b[1;33m)\u001b[0m\u001b[1;33m\u001b[0m\u001b[0m\n\u001b[0m\u001b[0;32m    428\u001b[0m \u001b[1;33m\u001b[0m\u001b[0m\n\u001b[0;32m    429\u001b[0m     \u001b[1;32mdef\u001b[0m \u001b[0mfind_elements_by_link_text\u001b[0m\u001b[1;33m(\u001b[0m\u001b[0mself\u001b[0m\u001b[1;33m,\u001b[0m \u001b[0mtext\u001b[0m\u001b[1;33m)\u001b[0m\u001b[1;33m:\u001b[0m\u001b[1;33m\u001b[0m\u001b[0m\n",
      "\u001b[1;32mc:\\programdata\\anaconda3\\lib\\site-packages\\selenium\\webdriver\\remote\\webdriver.py\u001b[0m in \u001b[0;36mfind_element\u001b[1;34m(self, by, value)\u001b[0m\n\u001b[0;32m    964\u001b[0m         return self.execute(Command.FIND_ELEMENT, {\n\u001b[0;32m    965\u001b[0m             \u001b[1;34m'using'\u001b[0m\u001b[1;33m:\u001b[0m \u001b[0mby\u001b[0m\u001b[1;33m,\u001b[0m\u001b[1;33m\u001b[0m\u001b[0m\n\u001b[1;32m--> 966\u001b[1;33m             'value': value})['value']\n\u001b[0m\u001b[0;32m    967\u001b[0m \u001b[1;33m\u001b[0m\u001b[0m\n\u001b[0;32m    968\u001b[0m     \u001b[1;32mdef\u001b[0m \u001b[0mfind_elements\u001b[0m\u001b[1;33m(\u001b[0m\u001b[0mself\u001b[0m\u001b[1;33m,\u001b[0m \u001b[0mby\u001b[0m\u001b[1;33m=\u001b[0m\u001b[0mBy\u001b[0m\u001b[1;33m.\u001b[0m\u001b[0mID\u001b[0m\u001b[1;33m,\u001b[0m \u001b[0mvalue\u001b[0m\u001b[1;33m=\u001b[0m\u001b[1;32mNone\u001b[0m\u001b[1;33m)\u001b[0m\u001b[1;33m:\u001b[0m\u001b[1;33m\u001b[0m\u001b[0m\n",
      "\u001b[1;32mc:\\programdata\\anaconda3\\lib\\site-packages\\selenium\\webdriver\\remote\\webdriver.py\u001b[0m in \u001b[0;36mexecute\u001b[1;34m(self, driver_command, params)\u001b[0m\n\u001b[0;32m    318\u001b[0m         \u001b[0mresponse\u001b[0m \u001b[1;33m=\u001b[0m \u001b[0mself\u001b[0m\u001b[1;33m.\u001b[0m\u001b[0mcommand_executor\u001b[0m\u001b[1;33m.\u001b[0m\u001b[0mexecute\u001b[0m\u001b[1;33m(\u001b[0m\u001b[0mdriver_command\u001b[0m\u001b[1;33m,\u001b[0m \u001b[0mparams\u001b[0m\u001b[1;33m)\u001b[0m\u001b[1;33m\u001b[0m\u001b[0m\n\u001b[0;32m    319\u001b[0m         \u001b[1;32mif\u001b[0m \u001b[0mresponse\u001b[0m\u001b[1;33m:\u001b[0m\u001b[1;33m\u001b[0m\u001b[0m\n\u001b[1;32m--> 320\u001b[1;33m             \u001b[0mself\u001b[0m\u001b[1;33m.\u001b[0m\u001b[0merror_handler\u001b[0m\u001b[1;33m.\u001b[0m\u001b[0mcheck_response\u001b[0m\u001b[1;33m(\u001b[0m\u001b[0mresponse\u001b[0m\u001b[1;33m)\u001b[0m\u001b[1;33m\u001b[0m\u001b[0m\n\u001b[0m\u001b[0;32m    321\u001b[0m             response['value'] = self._unwrap_value(\n\u001b[0;32m    322\u001b[0m                 response.get('value', None))\n",
      "\u001b[1;32mc:\\programdata\\anaconda3\\lib\\site-packages\\selenium\\webdriver\\remote\\errorhandler.py\u001b[0m in \u001b[0;36mcheck_response\u001b[1;34m(self, response)\u001b[0m\n\u001b[0;32m    240\u001b[0m                 \u001b[0malert_text\u001b[0m \u001b[1;33m=\u001b[0m \u001b[0mvalue\u001b[0m\u001b[1;33m[\u001b[0m\u001b[1;34m'alert'\u001b[0m\u001b[1;33m]\u001b[0m\u001b[1;33m.\u001b[0m\u001b[0mget\u001b[0m\u001b[1;33m(\u001b[0m\u001b[1;34m'text'\u001b[0m\u001b[1;33m)\u001b[0m\u001b[1;33m\u001b[0m\u001b[0m\n\u001b[0;32m    241\u001b[0m             \u001b[1;32mraise\u001b[0m \u001b[0mexception_class\u001b[0m\u001b[1;33m(\u001b[0m\u001b[0mmessage\u001b[0m\u001b[1;33m,\u001b[0m \u001b[0mscreen\u001b[0m\u001b[1;33m,\u001b[0m \u001b[0mstacktrace\u001b[0m\u001b[1;33m,\u001b[0m \u001b[0malert_text\u001b[0m\u001b[1;33m)\u001b[0m\u001b[1;33m\u001b[0m\u001b[0m\n\u001b[1;32m--> 242\u001b[1;33m         \u001b[1;32mraise\u001b[0m \u001b[0mexception_class\u001b[0m\u001b[1;33m(\u001b[0m\u001b[0mmessage\u001b[0m\u001b[1;33m,\u001b[0m \u001b[0mscreen\u001b[0m\u001b[1;33m,\u001b[0m \u001b[0mstacktrace\u001b[0m\u001b[1;33m)\u001b[0m\u001b[1;33m\u001b[0m\u001b[0m\n\u001b[0m\u001b[0;32m    243\u001b[0m \u001b[1;33m\u001b[0m\u001b[0m\n\u001b[0;32m    244\u001b[0m     \u001b[1;32mdef\u001b[0m \u001b[0m_value_or_default\u001b[0m\u001b[1;33m(\u001b[0m\u001b[0mself\u001b[0m\u001b[1;33m,\u001b[0m \u001b[0mobj\u001b[0m\u001b[1;33m,\u001b[0m \u001b[0mkey\u001b[0m\u001b[1;33m,\u001b[0m \u001b[0mdefault\u001b[0m\u001b[1;33m)\u001b[0m\u001b[1;33m:\u001b[0m\u001b[1;33m\u001b[0m\u001b[0m\n",
      "\u001b[1;31mNoSuchElementException\u001b[0m: Message: no such element: Unable to locate element: {\"method\":\"link text\",\"selector\":\"다음페이지\"}\n  (Session info: chrome=78.0.3904.108)\n  (Driver info: chromedriver=2.41.578737 (49da6702b16031c40d63e5618de03a32ff6c197e),platform=Windows NT 10.0.18362 x86_64)\n"
     ]
    }
   ],
   "source": [
    "# 내용 가져오기\n",
    "title_list = []\n",
    "url_list = []\n",
    "date_list = []\n",
    "reporter_list = []\n",
    "\n",
    "total_number_raw = driver.find_element_by_css_selector('div.title_desc.all_my').text\n",
    "total_number = int(re.search(r'/ (.*?$)', total_number_raw).group(1)[:-1].replace(',', ''))\n",
    "total_page = math.ceil(total_number/10)\n",
    "\n",
    "for c in range(total_page):\n",
    "    time.sleep(0.3)\n",
    "    print('\\r{}/{}---title({})/url({})/reporter({})/date({})'.format(c+1, total_page,len(title_list), len(url_list), len(reporter_list), len(date_list)), end = '')\n",
    "    new10 = driver.find_element_by_css_selector('ul.type01').find_elements_by_tag_name('li')\n",
    "    \n",
    "    for n in new10:\n",
    "        title_list.append(n.find_element_by_css_selector('a._sp_each_title').get_attribute('title'))\n",
    "        try:\n",
    "            link = n.find_element_by_link_text('네이버뉴스').get_attribute('href')\n",
    "            url_list.append(link)\n",
    "            \n",
    "            \n",
    "        except:\n",
    "            link = n.find_element_by_css_selector('a._sp_each_url._sp_each_title').get_attribute('href')\n",
    "            url_list.append(link)\n",
    "            \n",
    "        \n",
    "        for strings in n.find_element_by_css_selector('dd.txt_inline').text.split():\n",
    "            \n",
    "            for rep in news:\n",
    "                if re.match(rep, strings):\n",
    "                    reporter_list.append(rep)\n",
    "                \n",
    "            if re.search(r'^[0-9]+\\.[0-9]+\\.[0-9]+\\.$', strings):\n",
    "                date_list.append(strings[:-1].replace('.', '-'))\n",
    "                \n",
    "    if len(title_list) != len(reporter_list):\n",
    "        print(c)\n",
    "    driver.find_element_by_link_text('다음페이지').click()"
   ]
  },
  {
   "cell_type": "markdown",
   "metadata": {},
   "source": [
    "### 내용 가져오기 - 댓글 포함"
   ]
  },
  {
   "cell_type": "code",
   "execution_count": null,
   "metadata": {
    "ExecuteTime": {
     "end_time": "2019-02-19T16:18:52.706184Z",
     "start_time": "2019-02-19T15:15:10.451782Z"
    },
    "scrolled": true
   },
   "outputs": [],
   "source": [
    "from selenium.webdriver.common.by import By\n",
    "from selenium.webdriver.support.ui import WebDriverWait\n",
    "from selenium.webdriver.support import expected_conditions as EC\n",
    "\n",
    "# 내용 가져오기\n",
    "title_list = []\n",
    "url_list = []\n",
    "date_list = []\n",
    "reporter_list = []\n",
    "comment_list = []\n",
    "while_error = 1\n",
    "\n",
    "total_number_raw = driver.find_element_by_css_selector('div.title_desc.all_my').text\n",
    "total_number = int(re.search(r'/ (.*?$)', total_number_raw).group(1)[:-1].replace(',', ''))\n",
    "total_page = math.ceil(total_number/10)\n",
    "\n",
    "\n",
    "current_window = driver.current_window_handle\n",
    "for c in range(total_page):\n",
    "    time.sleep(0.3)\n",
    "    print('\\r{}/{}---title({})/url({})/reporter({})/date({})/comment({}))'.format(c+1, total_page,len(title_list), len(url_list), len(reporter_list), len(date_list), len(comment_list)), end = '')\n",
    "    new10 = driver.find_element_by_css_selector('ul.type01').find_elements_by_tag_name('li')\n",
    "    \n",
    "    for n in new10:\n",
    "        \n",
    "        title_list.append(n.find_element_by_css_selector('a._sp_each_title').get_attribute('title'))\n",
    "        try:\n",
    "            link = n.find_element_by_link_text('네이버뉴스').get_attribute('href')\n",
    "            url_list.append(link)\n",
    "            \n",
    "            # 댓글 추가\n",
    "            try:\n",
    "                n.find_element_by_link_text('네이버뉴스').click()\n",
    "                driver.switch_to.window(driver.window_handles[1])\n",
    "                \n",
    "                try:\n",
    "                    element = WebDriverWait(driver, 10).until(\n",
    "                        EC.presence_of_element_located((By.CLASS_NAME, \"lo_txt\"))\n",
    "                    )\n",
    "                except:\n",
    "                    print('댓글창이 안 뜬다...')\n",
    "                    \n",
    "                while True:\n",
    "                    if len(driver.find_element_by_css_selector('span.lo_txt').text) > 0:\n",
    "                        while_error = 1\n",
    "                        break\n",
    "                    else:\n",
    "                        print('\\r아직 안 나왔어{}'.format(while_error), end = '')\n",
    "                        while_error += 1\n",
    "                        if while_error == 1000:\n",
    "                            print('while 1000번 돌았어...')\n",
    "                            while_error = 1\n",
    "                            break                    \n",
    "                    \n",
    "                    try:\n",
    "                        type(int(driver.find_element_by_css_selector('span.lo_txt').text)) == type(int(1))\n",
    "                        break\n",
    "                    except:\n",
    "                        print('\\r숫자가 안 나왔엉', end = '')\n",
    "                        while_error += 1\n",
    "                        if while_error == 1000:\n",
    "                            print('while 1000번 돌았어...')\n",
    "                            break\n",
    "                            \n",
    "                            \n",
    "                            \n",
    "                comment_list.append(driver.find_element_by_css_selector('span.lo_txt').text)\n",
    "                driver.close()\n",
    "                driver.switch_to.window(current_window)\n",
    "            except:\n",
    "                print('댓글실패')\n",
    "                driver.close()\n",
    "                driver.switch_to.window(current_window)\n",
    "                comment_list.append(99999)\n",
    "            \n",
    "        except:\n",
    "            link = n.find_element_by_css_selector('a._sp_each_url._sp_each_title').get_attribute('href')\n",
    "            url_list.append(link)\n",
    "            \n",
    "        \n",
    "        for strings in n.find_element_by_css_selector('dd.txt_inline').text.split():\n",
    "            \n",
    "            for rep in news:\n",
    "                if re.match(rep, strings):\n",
    "                    reporter_list.append(rep)\n",
    "                \n",
    "            if re.search(r'^[0-9]+\\.[0-9]+\\.[0-9]+\\.$', strings):\n",
    "                date_list.append(strings[:-1].replace('.', '-'))\n",
    "                \n",
    "    if len(title_list) != len(reporter_list):\n",
    "        print(c)\n",
    "    try:\n",
    "        driver.find_element_by_link_text('다음페이지').click()\n",
    "    except:\n",
    "        print('\\r끝났습니다.{}/{}'.format(c, len(total_page)))"
   ]
  },
  {
   "cell_type": "markdown",
   "metadata": {},
   "source": [
    "### CSV파일로 저장하기"
   ]
  },
  {
   "cell_type": "code",
   "execution_count": 28,
   "metadata": {
    "ExecuteTime": {
     "end_time": "2019-12-03T06:36:20.170392Z",
     "start_time": "2019-12-03T06:36:20.153399Z"
    }
   },
   "outputs": [
    {
     "name": "stdout",
     "output_type": "stream",
     "text": [
      "<class 'pandas.core.frame.DataFrame'>\n",
      "RangeIndex: 71 entries, 0 to 70\n",
      "Data columns (total 4 columns):\n",
      "date       71 non-null object\n",
      "title      71 non-null object\n",
      "repoter    71 non-null object\n",
      "URL        71 non-null object\n",
      "dtypes: object(4)\n",
      "memory usage: 2.3+ KB\n"
     ]
    }
   ],
   "source": [
    "data = {'date' : date_list, 'title' : title_list, 'repoter' : reporter_list, 'URL' : url_list}\n",
    "df = pd.DataFrame(data)\n",
    "df.info()"
   ]
  },
  {
   "cell_type": "code",
   "execution_count": 29,
   "metadata": {
    "ExecuteTime": {
     "end_time": "2019-12-03T06:36:40.458751Z",
     "start_time": "2019-12-03T06:36:40.445756Z"
    },
    "scrolled": true
   },
   "outputs": [],
   "source": [
    "#df.loc[df['comment'] == '댓글', 'comment'] = 0\n",
    "#df.loc[df['comment'] == 99999, 'comment'] = 0\n",
    "file_name = '{}2018.csv'.format(key_word)\n",
    "df.to_csv(file_name, encoding = 'utf-8', index = False)"
   ]
  },
  {
   "cell_type": "markdown",
   "metadata": {},
   "source": [
    "### Comment와 content 파일 합치기"
   ]
  },
  {
   "cell_type": "code",
   "execution_count": null,
   "metadata": {
    "ExecuteTime": {
     "end_time": "2019-02-19T16:33:20.693867Z",
     "start_time": "2019-02-19T16:33:20.646879Z"
    }
   },
   "outputs": [],
   "source": [
    "df_comment = pd.read_csv('보장성강화_댓글추가_1164개.csv', encoding = 'utf-8', engine = 'python')\n",
    "df_comment.head()"
   ]
  },
  {
   "cell_type": "code",
   "execution_count": null,
   "metadata": {
    "ExecuteTime": {
     "end_time": "2019-02-19T16:34:47.652561Z",
     "start_time": "2019-02-19T16:34:47.467667Z"
    }
   },
   "outputs": [],
   "source": [
    "df_content = pd.read_csv('보장성강화_content포함_댓글제외.csv', encoding = 'utf-8', engine = 'python', names = ['date', 'title', 'reporter', 'URL', 'content'])\n",
    "df_content.head()"
   ]
  },
  {
   "cell_type": "code",
   "execution_count": null,
   "metadata": {
    "ExecuteTime": {
     "end_time": "2019-02-19T16:58:28.848092Z",
     "start_time": "2019-02-19T16:58:28.728160Z"
    }
   },
   "outputs": [],
   "source": [
    "result = pd.merge(df_comment, df_content, on = ['URL', 'date', 'title'], how = 'left')\n",
    "result.drop('repoter', axis = 1, inplace = True)\n",
    "result"
   ]
  },
  {
   "cell_type": "code",
   "execution_count": null,
   "metadata": {
    "ExecuteTime": {
     "end_time": "2019-02-19T17:00:26.322102Z",
     "start_time": "2019-02-19T17:00:24.297245Z"
    }
   },
   "outputs": [],
   "source": [
    "result.to_excel('보장성강화_Naver뉴스_댓글+내용(1164개).xlsx', encoding = 'utf-8')"
   ]
  },
  {
   "cell_type": "markdown",
   "metadata": {},
   "source": [
    "### 중간에 삭제된 뉴스 추출"
   ]
  },
  {
   "cell_type": "code",
   "execution_count": null,
   "metadata": {
    "ExecuteTime": {
     "end_time": "2019-02-19T17:02:04.388694Z",
     "start_time": "2019-02-19T17:02:04.330720Z"
    }
   },
   "outputs": [],
   "source": [
    "df_1 = pd.read_csv('보장성강화_댓글제외.csv', engine = 'python', encoding = 'utf-8')\n",
    "df_1.head()"
   ]
  },
  {
   "cell_type": "code",
   "execution_count": null,
   "metadata": {
    "ExecuteTime": {
     "end_time": "2019-02-19T17:02:41.244211Z",
     "start_time": "2019-02-19T17:02:41.196235Z"
    }
   },
   "outputs": [],
   "source": [
    "df_2 = pd.read_csv('보장성강화_댓글추가_1164개.csv', encoding = 'utf-8', engine = 'python')\n",
    "df_2.head()"
   ]
  },
  {
   "cell_type": "code",
   "execution_count": null,
   "metadata": {
    "ExecuteTime": {
     "end_time": "2019-02-19T17:04:37.944181Z",
     "start_time": "2019-02-19T17:04:37.928190Z"
    }
   },
   "outputs": [],
   "source": [
    "a = df_1.URL.tolist()\n",
    "b = df_2.URL.tolist()\n",
    "c = list(set(a) - set(b))\n",
    "c"
   ]
  },
  {
   "cell_type": "code",
   "execution_count": null,
   "metadata": {
    "ExecuteTime": {
     "end_time": "2019-02-19T17:05:16.107512Z",
     "start_time": "2019-02-19T17:05:16.085525Z"
    }
   },
   "outputs": [],
   "source": [
    "df_1[(df_1['URL'] == c[0]) | (df_1['URL'] == c[1])]"
   ]
  },
  {
   "cell_type": "markdown",
   "metadata": {},
   "source": [
    "# 2. 기사내용 스크랩\n",
    "- 위에서 클롤링한 URL주소를 이용하여 해당 뉴스내용 스크랩\n",
    "- 네이버뉴스로 통하는 기사만 가능\n",
    "- 안되는 언론사 많음"
   ]
  },
  {
   "cell_type": "markdown",
   "metadata": {},
   "source": [
    "### URL를 이용해 스크랩"
   ]
  },
  {
   "cell_type": "code",
   "execution_count": null,
   "metadata": {
    "ExecuteTime": {
     "end_time": "2019-02-15T06:18:14.620573Z",
     "start_time": "2019-02-15T06:01:04.038136Z"
    }
   },
   "outputs": [],
   "source": [
    "content_list = []\n",
    "content_url = []\n",
    "comment_list = []\n",
    "url_error_list = []\n",
    "\n",
    "driver = webdriver.Chrome('chromedriver.exe')\n",
    "for u in url_list:\n",
    "    driver.get(u)\n",
    "    try:\n",
    "        content_list.append(driver.find_element_by_id('articleBodyContents').text.replace('\\n', ' '))\n",
    "        comment_list.append(driver.find_element_by_css_selector('span.lo_txt').text)\n",
    "        content_url.append(u)\n",
    "        print('\\r진행상황 {}/{}'.format(len(content_list), len(url_list)), end = '')\n",
    "    except:\n",
    "        url_error_list.append(u)\n",
    "        print('에러발생{}'.format(len(url_error_list)))"
   ]
  },
  {
   "cell_type": "markdown",
   "metadata": {},
   "source": [
    "### 에러URL 추가적으로 크롤링"
   ]
  },
  {
   "cell_type": "code",
   "execution_count": null,
   "metadata": {},
   "outputs": [],
   "source": [
    "driver = webdriver.Chrome('chromedriver.exe')\n",
    "url_error_list2 = []\n",
    "for u in url_error_list:\n",
    "    driver.get(u)\n",
    "    try:        \n",
    "        content_list.append(driver.find_element_by_id('articleBodyContents').text.replace('\\n', ' '))\n",
    "        comment_list.append(driver.find_element_by_css_selector('span.lo_txt').text)\n",
    "        content_url.append(u)\n",
    "        print('\\r진행상황 {}/{}'.format(len(content_list), len(url_list)), end = '')\n",
    "    except:\n",
    "        url_error_list2.append(u)\n",
    "        print('또 에러발생{}'.format(len(url_error_list2)))"
   ]
  },
  {
   "cell_type": "code",
   "execution_count": null,
   "metadata": {
    "ExecuteTime": {
     "end_time": "2019-02-19T14:21:11.561369Z",
     "start_time": "2019-02-19T14:21:10.204144Z"
    }
   },
   "outputs": [],
   "source": [
    "driver.get('https://news.naver.com/main/read.nhn?mode=LSD&mid=sec&sid1=105&oid=001&aid=0009455538')"
   ]
  },
  {
   "cell_type": "code",
   "execution_count": null,
   "metadata": {
    "ExecuteTime": {
     "end_time": "2019-02-19T14:21:20.787091Z",
     "start_time": "2019-02-19T14:21:20.740117Z"
    }
   },
   "outputs": [],
   "source": [
    "driver.find_element_by_css_selector('span.lo_txt').text"
   ]
  },
  {
   "cell_type": "markdown",
   "metadata": {},
   "source": [
    "### CSV파일로 저장하기"
   ]
  },
  {
   "cell_type": "code",
   "execution_count": null,
   "metadata": {
    "ExecuteTime": {
     "end_time": "2019-02-15T06:30:01.477381Z",
     "start_time": "2019-02-15T06:30:01.463904Z"
    }
   },
   "outputs": [],
   "source": [
    "df_content = pd.DataFrame({'URL' : content_url, 'content' : content_list})\n",
    "df_content.head()"
   ]
  },
  {
   "cell_type": "markdown",
   "metadata": {},
   "source": [
    "# 3. 동영상 링크 스크랩 - 스토리룸\n",
    "- 해당 사이트의 동영상 링크와 해당 제목 스크랩"
   ]
  },
  {
   "cell_type": "markdown",
   "metadata": {},
   "source": [
    "### 사이트 접속"
   ]
  },
  {
   "cell_type": "code",
   "execution_count": null,
   "metadata": {
    "ExecuteTime": {
     "end_time": "2019-02-19T12:29:25.231490Z",
     "start_time": "2019-02-19T12:29:21.803471Z"
    }
   },
   "outputs": [],
   "source": [
    "from selenium import webdriver\n",
    "import pandas as pd\n",
    "import numpy as np\n",
    "import re\n",
    "import math\n",
    "import time\n",
    "\n",
    "URL_link = 'http://medicare1.nhis.or.kr/hongbo/static/html/minisite/sub/bj02.html'\n",
    "driver = webdriver.Chrome('chromedriver.exe')\n",
    "\n",
    "driver.get(URL_link)\n",
    "driver.find_element_by_css_selector('ul.content-desc.story-desc.clearfix')"
   ]
  },
  {
   "cell_type": "markdown",
   "metadata": {},
   "source": [
    "### 카테고리 세분화"
   ]
  },
  {
   "cell_type": "code",
   "execution_count": null,
   "metadata": {
    "ExecuteTime": {
     "end_time": "2019-02-19T13:41:55.342019Z",
     "start_time": "2019-02-19T13:41:54.402558Z"
    }
   },
   "outputs": [],
   "source": [
    "c_list = []\n",
    "for a in driver.find_elements_by_css_selector('ul.content-desc.story-desc.clearfix > li'):\n",
    "    c_list.append(a.get_attribute('class').split()[1])\n",
    "class_name_list = set(c_list)\n",
    "class_name_list"
   ]
  },
  {
   "cell_type": "markdown",
   "metadata": {},
   "source": [
    "### 자료수집"
   ]
  },
  {
   "cell_type": "code",
   "execution_count": null,
   "metadata": {
    "ExecuteTime": {
     "end_time": "2019-02-19T13:43:12.376934Z",
     "start_time": "2019-02-19T13:43:03.592962Z"
    }
   },
   "outputs": [],
   "source": [
    "content_list = driver.find_elements_by_css_selector('ul.content-desc.story-desc.clearfix > li' )\n",
    "\n",
    "title_list = []\n",
    "url_list = []\n",
    "class_list1 = []\n",
    "class_list2 = []\n",
    "\n",
    "for content in content_list:\n",
    "    url_list.append(content.find_element_by_css_selector('div.story-title > a').get_attribute('href'))\n",
    "    title_list.append(content.find_element_by_css_selector('div.story-title > a').text)\n",
    "    class_list1.append(content.get_attribute('class').split()[0])\n",
    "    class_list2.append(content.get_attribute('class').split()[1])\n",
    "print(len(url_list), len(title_list), len(class_list1))"
   ]
  },
  {
   "cell_type": "markdown",
   "metadata": {},
   "source": [
    "### CSV파일로 저장"
   ]
  },
  {
   "cell_type": "code",
   "execution_count": null,
   "metadata": {
    "ExecuteTime": {
     "end_time": "2019-02-19T13:46:11.861704Z",
     "start_time": "2019-02-19T13:46:11.841719Z"
    }
   },
   "outputs": [],
   "source": [
    "data = {'title' : title_list, 'url' : url_list, 'class1' : class_list1, 'class2' : class_list2}\n",
    "df = pd.DataFrame(data)\n",
    "df.to_csv('스토리룸_유형+주제.csv', encoding = 'utf-8')"
   ]
  },
  {
   "cell_type": "markdown",
   "metadata": {},
   "source": [
    "# 동영상 링크 스크램 - 뉴스룸\n",
    "1. 카테고리별 형태가 달라서 각각 따로 처리"
   ]
  },
  {
   "cell_type": "markdown",
   "metadata": {},
   "source": [
    "### 접속준비"
   ]
  },
  {
   "cell_type": "code",
   "execution_count": null,
   "metadata": {
    "ExecuteTime": {
     "end_time": "2019-02-19T14:04:01.448455Z",
     "start_time": "2019-02-19T14:03:57.710597Z"
    }
   },
   "outputs": [],
   "source": [
    "driver = webdriver.Chrome('chromedriver.exe')\n",
    "\n",
    "URL_link = 'http://medicare1.nhis.or.kr/hongbo/static/html/minisite/sub/bj03_{}.html'\n",
    "title_list = []\n",
    "url_list = []\n",
    "class_list = []\n",
    "cate = ['브리핑', '보도자료', '보도해명/설명자료', 'TV,라디오 등 방송인터뷰' ,'팩트체크']"
   ]
  },
  {
   "cell_type": "markdown",
   "metadata": {},
   "source": [
    "### 자료수집 - 브리핑"
   ]
  },
  {
   "cell_type": "code",
   "execution_count": null,
   "metadata": {
    "ExecuteTime": {
     "end_time": "2019-02-19T14:04:02.405910Z",
     "start_time": "2019-02-19T14:04:01.542402Z"
    }
   },
   "outputs": [],
   "source": [
    "driver.get(URL_link.format(1))\n",
    "content_list = driver.find_elements_by_css_selector('ul.content-desc > li')\n",
    "\n",
    "for content in content_list:\n",
    "    title_list.append(content.find_element_by_css_selector('div.story-title > a').text)\n",
    "    url_list.append(content.find_element_by_css_selector('div.story-title > a').get_attribute('href'))\n",
    "    class_list.append(cate[0])\n",
    "len(url_list)"
   ]
  },
  {
   "cell_type": "markdown",
   "metadata": {},
   "source": [
    "### 자료수집 - 보도자료"
   ]
  },
  {
   "cell_type": "code",
   "execution_count": null,
   "metadata": {
    "ExecuteTime": {
     "end_time": "2019-02-19T14:04:03.895058Z",
     "start_time": "2019-02-19T14:04:02.446885Z"
    }
   },
   "outputs": [],
   "source": [
    "driver.get(URL_link.format(2))\n",
    "content_list = driver.find_elements_by_css_selector('ul.content-desc > li.type-news.news-tab2 > ol > li > a')\n",
    "\n",
    "for content in content_list:\n",
    "    title_list.append(content.text[2:])\n",
    "    url_list.append(content.get_attribute('href'))\n",
    "    class_list.append(cate[1])\n",
    "print(len(title_list), len(url_list), len(class_list))"
   ]
  },
  {
   "cell_type": "markdown",
   "metadata": {},
   "source": [
    "### 자료수집 - 보도해명/설명자료"
   ]
  },
  {
   "cell_type": "code",
   "execution_count": null,
   "metadata": {
    "ExecuteTime": {
     "end_time": "2019-02-19T14:04:04.865503Z",
     "start_time": "2019-02-19T14:04:03.934034Z"
    }
   },
   "outputs": [],
   "source": [
    "driver.get(URL_link.format(3))\n",
    "content_list = driver.find_elements_by_css_selector('ul.content-desc > li.type-news.news-tab2 > ol > li > a')\n",
    "\n",
    "for content in content_list:\n",
    "    title_list.append(content.text[2:])\n",
    "    url_list.append(content.get_attribute('href'))\n",
    "    class_list.append(cate[2])\n",
    "print(len(title_list), len(url_list), len(class_list))"
   ]
  },
  {
   "cell_type": "markdown",
   "metadata": {},
   "source": [
    "### 자료수집 - TV,라디오 등 방송인터뷰"
   ]
  },
  {
   "cell_type": "code",
   "execution_count": null,
   "metadata": {
    "ExecuteTime": {
     "end_time": "2019-02-19T14:04:08.076663Z",
     "start_time": "2019-02-19T14:04:04.897486Z"
    }
   },
   "outputs": [],
   "source": [
    "driver.get(URL_link.format(4))\n",
    "content_list = driver.find_elements_by_css_selector('ul.content-desc > li')\n",
    "\n",
    "for content in content_list:\n",
    "    title_list.append(content.find_element_by_css_selector('div.story-title > a').text)\n",
    "    url_list.append(content.find_element_by_css_selector('div.story-title > a').get_attribute('href'))\n",
    "    class_list.append(cate[3])\n",
    "len(url_list)"
   ]
  },
  {
   "cell_type": "markdown",
   "metadata": {},
   "source": [
    "### 자료수집 - 팩트체크"
   ]
  },
  {
   "cell_type": "code",
   "execution_count": null,
   "metadata": {
    "ExecuteTime": {
     "end_time": "2019-02-19T14:04:08.657331Z",
     "start_time": "2019-02-19T14:04:08.139629Z"
    }
   },
   "outputs": [],
   "source": [
    "driver.get(URL_link.format(5))\n",
    "content_list = driver.find_elements_by_css_selector('ul.content-desc.story-desc.list3.clearfix > li')\n",
    "\n",
    "for content in content_list:\n",
    "    title_list.append(content.find_element_by_css_selector('div.story-title > a').text)\n",
    "    url_list.append(content.find_element_by_css_selector('div.story-title > a').get_attribute('href'))\n",
    "    class_list.append(cate[4])\n",
    "len(url_list)"
   ]
  },
  {
   "cell_type": "markdown",
   "metadata": {},
   "source": [
    "### CSV파일로 저장"
   ]
  },
  {
   "cell_type": "code",
   "execution_count": null,
   "metadata": {
    "ExecuteTime": {
     "end_time": "2019-02-19T14:05:19.321910Z",
     "start_time": "2019-02-19T14:05:19.308898Z"
    }
   },
   "outputs": [],
   "source": [
    "data = {'title' : title_list, 'url' : url_list, 'class' : class_list}\n",
    "df = pd.DataFrame(data)\n",
    "df.to_csv('뉴스룸.csv', encoding = 'utf-8')"
   ]
  }
 ],
 "metadata": {
  "kernelspec": {
   "display_name": "Python 3",
   "language": "python",
   "name": "python3"
  },
  "language_info": {
   "codemirror_mode": {
    "name": "ipython",
    "version": 3
   },
   "file_extension": ".py",
   "mimetype": "text/x-python",
   "name": "python",
   "nbconvert_exporter": "python",
   "pygments_lexer": "ipython3",
   "version": "3.6.2"
  },
  "varInspector": {
   "cols": {
    "lenName": 16,
    "lenType": 16,
    "lenVar": 40
   },
   "kernels_config": {
    "python": {
     "delete_cmd_postfix": "",
     "delete_cmd_prefix": "del ",
     "library": "var_list.py",
     "varRefreshCmd": "print(var_dic_list())"
    },
    "r": {
     "delete_cmd_postfix": ") ",
     "delete_cmd_prefix": "rm(",
     "library": "var_list.r",
     "varRefreshCmd": "cat(var_dic_list()) "
    }
   },
   "types_to_exclude": [
    "module",
    "function",
    "builtin_function_or_method",
    "instance",
    "_Feature"
   ],
   "window_display": false
  }
 },
 "nbformat": 4,
 "nbformat_minor": 2
}
