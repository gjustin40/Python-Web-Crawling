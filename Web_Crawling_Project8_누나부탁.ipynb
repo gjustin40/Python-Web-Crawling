{
 "cells": [
  {
   "cell_type": "markdown",
   "metadata": {},
   "source": [
    "# 뉴스기사 정보 스크랩하기(기사내용 포함x)\n",
    "- Naver\n",
    "- 네이버뉴스로 연결되는 링크 스크랩\n",
    "- 원하는 언론사 선택 가능\n",
    "- 날짜 선택 가능(시작과 끝)\n",
    "- Key_word 이용해서 원하는 키워드로 검색 가능(해당 단어가 완전히 포함된 기사)"
   ]
  },
  {
   "cell_type": "markdown",
   "metadata": {},
   "source": [
    "### 1. 검색하기"
   ]
  },
  {
   "cell_type": "code",
   "execution_count": 185,
   "metadata": {
    "ExecuteTime": {
     "end_time": "2019-02-15T05:09:47.917581Z",
     "start_time": "2019-02-15T05:09:25.949686Z"
    }
   },
   "outputs": [],
   "source": [
    "from selenium import webdriver\n",
    "import pandas as pd\n",
    "import numpy as np\n",
    "import re\n",
    "import math\n",
    "import time\n",
    "\n",
    "# Input값\n",
    "key_word = '보장성강화'\n",
    "datestart = '20170801'\n",
    "dateend = '20181231'\n",
    "news = ['KBS', 'MBC', 'SBS', 'JTBC', '연합뉴스', '조선일보', '중앙일보', '동아일보', '한국경제', '매일경제', '의협신문', '데일리팜', '메디파나뉴스']\n",
    "\n",
    "# chrome 드라이버 키고 naver 접속\n",
    "driver = webdriver.Chrome('chromedriver.exe')\n",
    "driver.get('http://naver.com')\n",
    "\n",
    "driver.find_element_by_id('query').send_keys(key_word) # 검색어 입력\n",
    "driver.find_element_by_id('search_btn').click() # 검색 클릭\n",
    "\n",
    "driver.find_element_by_css_selector('div.lnb_menu').find_element_by_link_text('뉴스').click() # 뉴스 카테고리 클릭\n",
    "\n",
    "# 검색옵션 클릭\n",
    "driver.find_element_by_id('_search_option_btn').click()\n",
    "\n",
    "# 기간 클릭\n",
    "driver.find_element_by_link_text('기간').click()\n",
    "\n",
    "# 기간 입력\n",
    "driver.find_element_by_id('news_input_period_begin').click()\n",
    "for i in datestart:\n",
    "    driver.find_element_by_id('news_input_period_begin').send_keys(i)\n",
    "    time.sleep(0.2)\n",
    "\n",
    "driver.find_element_by_id('news_input_period_end').click()\n",
    "for j in dateend:\n",
    "    driver.find_element_by_id('news_input_period_end').send_keys(j)\n",
    "    time.sleep(0.2)\n",
    "\n",
    "# 적용 클릭\n",
    "driver.find_element_by_css_selector('div.item_option.set_calendar').find_element_by_class_name('_btn_submit').click()\n",
    "\n",
    "# 언론사 선택\n",
    "driver.find_element_by_class_name('option_menu').find_element_by_link_text('언론사').click()\n",
    "\n",
    "driver.find_element_by_id('order_cat')\n",
    "for new in news:\n",
    "    driver.find_element_by_xpath('//label[@title=\"{}\"]'.format(new)).click()\n",
    "\n",
    "\n",
    "driver.find_element_by_class_name('view_btn').find_element_by_css_selector('button.impact._submit_btn').click()\n",
    "\n",
    "# 상세검색\n",
    "driver.find_element_by_id('snb').find_element_by_link_text('상세검색').click()\n",
    "\n",
    "driver.find_element_by_id('inpop1').send_keys(key_word)\n",
    "\n",
    "driver.find_element_by_css_selector('button.btn_ft.ty_green._search').click()\n",
    "\n",
    "# 오래된 순으로 정렬\n",
    "driver.find_element_by_link_text('오래된순').click()"
   ]
  },
  {
   "cell_type": "markdown",
   "metadata": {},
   "source": [
    "### 2. 내용 가져오기\n",
    "- 제목\n",
    "- URL\n",
    "- 날짜\n",
    "- 언론사 이름\n",
    "- 댓글 개수"
   ]
  },
  {
   "cell_type": "code",
   "execution_count": 186,
   "metadata": {
    "ExecuteTime": {
     "end_time": "2019-02-15T05:09:48.256452Z",
     "start_time": "2019-02-15T05:09:47.966991Z"
    }
   },
   "outputs": [],
   "source": [
    "# 내용 가져오기\n",
    "title_list = []\n",
    "url_list = []\n",
    "date_list = []\n",
    "reporter_list = []\n",
    "comment_list = []\n",
    "\n",
    "total_number_raw = driver.find_element_by_css_selector('div.title_desc.all_my').text\n",
    "total_number = int(re.search(r'/ (.*?$)', total_number_raw).group(1)[:-1].replace(',', ''))\n",
    "total_page = math.ceil(total_number/10)\n",
    "\n",
    "for c in range(total_page):\n",
    "    time.sleep(0.3)\n",
    "    print('\\r{}/{}---title({})/url({})/reporter({})/date({})'.format(c+1, total_page,len(title_list), len(url_list), len(reporter_list), len(date_list)), end = '')\n",
    "    new10 = driver.find_element_by_css_selector('ul.type01').find_elements_by_tag_name('li')\n",
    "    \n",
    "    for n in new10:\n",
    "        title_list.append(n.find_element_by_css_selector('a._sp_each_title').get_attribute('title'))\n",
    "        try:\n",
    "            url_list.append(n.find_element_by_link_text('네이버뉴스').get_attribute('href'))\n",
    "            \n",
    "        except:\n",
    "            url_list.append(n.find_element_by_css_selector('a._sp_each_url._sp_each_title').get_attribute('href'))\n",
    "        \n",
    "        \n",
    "        for strings in n.find_element_by_css_selector('dd.txt_inline').text.split():\n",
    "            \n",
    "            for rep in news:\n",
    "                if re.match(rep, strings):\n",
    "                    reporter_list.append(rep)\n",
    "                \n",
    "            if re.search(r'^[0-9]+\\.[0-9]+\\.[0-9]+\\.$', strings):\n",
    "                date_list.append(strings[:-1].replace('.', '-'))\n",
    "                \n",
    "    if len(title_list) != len(reporter_list):\n",
    "        print(c)\n",
    "    driver.find_element_by_link_text('다음페이지').click()"
   ]
  },
  {
   "cell_type": "markdown",
   "metadata": {},
   "source": [
    "### 3. CSV파일로 저장하기"
   ]
  },
  {
   "cell_type": "code",
   "execution_count": null,
   "metadata": {
    "ExecuteTime": {
     "end_time": "2019-02-15T05:34:25.692976Z",
     "start_time": "2019-02-15T05:34:25.632087Z"
    }
   },
   "outputs": [],
   "source": [
    "file_name = '보장성강화_댓글제외_매체추가(의협,데일리,메디파나).csv'\n",
    "\n",
    "data = {'date' : date_list, 'title' : title_list, 'repoter' : reporter_list, 'URL' : url_list}\n",
    "df = pd.DataFrame(data)\n",
    "df.to_csv(file_name, encoding = 'utf-8')"
   ]
  },
  {
   "cell_type": "markdown",
   "metadata": {},
   "source": [
    "### 4. CSV파일 불러오기"
   ]
  },
  {
   "cell_type": "code",
   "execution_count": 191,
   "metadata": {
    "ExecuteTime": {
     "end_time": "2019-02-15T05:34:25.692976Z",
     "start_time": "2019-02-15T05:34:25.632087Z"
    }
   },
   "outputs": [],
   "source": [
    "df_9 = pd.read_csv(file_name, encoding = 'utf-8', engine = 'python', names = ['date', 'title', 'report', 'url'])\n",
    "df_9.head()"
   ]
  },
  {
   "cell_type": "markdown",
   "metadata": {},
   "source": [
    "# 기사내용 스크랩\n",
    "- 위에서 클롤링한 URL주소를 이용하여 해당 뉴스내용 스크랩\n",
    "- 네이버뉴스로 통하는 기사만 가능\n",
    "- 안되는 언론사 많음"
   ]
  },
  {
   "cell_type": "markdown",
   "metadata": {},
   "source": [
    "### 1. URL를 이용해 스크랩"
   ]
  },
  {
   "cell_type": "code",
   "execution_count": 226,
   "metadata": {
    "ExecuteTime": {
     "end_time": "2019-02-15T06:18:14.620573Z",
     "start_time": "2019-02-15T06:01:04.038136Z"
    }
   },
   "outputs": [
    {
     "name": "stdout",
     "output_type": "stream",
     "text": [
      "진행상황 939/1166에러발생1\n",
      "진행상황 1165/1166"
     ]
    }
   ],
   "source": [
    "content_list = []\n",
    "content_url = []\n",
    "url_error_list = []\n",
    "\n",
    "driver = webdriver.Chrome('chromedriver.exe')\n",
    "for u in url_list:\n",
    "    driver.get(u)\n",
    "    try:\n",
    "        content_url.append(u)\n",
    "        content_list.append(driver.find_element_by_id('articleBodyContents').text.replace('\\n', ' '))\n",
    "        print('\\r진행상황 {}/{}'.format(len(content_list), len(url_list)), end = '')\n",
    "    except:\n",
    "        url_error_list.append(u)\n",
    "        print('에러발생{}'.format(len(url_error_list)))"
   ]
  },
  {
   "cell_type": "markdown",
   "metadata": {},
   "source": [
    "### 2. CSV파일로 저장하기"
   ]
  },
  {
   "cell_type": "code",
   "execution_count": 246,
   "metadata": {
    "ExecuteTime": {
     "end_time": "2019-02-15T06:30:01.477381Z",
     "start_time": "2019-02-15T06:30:01.463904Z"
    }
   },
   "outputs": [
    {
     "data": {
      "text/html": [
       "<div>\n",
       "<style scoped>\n",
       "    .dataframe tbody tr th:only-of-type {\n",
       "        vertical-align: middle;\n",
       "    }\n",
       "\n",
       "    .dataframe tbody tr th {\n",
       "        vertical-align: top;\n",
       "    }\n",
       "\n",
       "    .dataframe thead th {\n",
       "        text-align: right;\n",
       "    }\n",
       "</style>\n",
       "<table border=\"1\" class=\"dataframe\">\n",
       "  <thead>\n",
       "    <tr style=\"text-align: right;\">\n",
       "      <th></th>\n",
       "      <th>URL</th>\n",
       "      <th>content</th>\n",
       "    </tr>\n",
       "  </thead>\n",
       "  <tbody>\n",
       "    <tr>\n",
       "      <th>0</th>\n",
       "      <td>https://news.naver.com/main/read.nhn?mode=LSD&amp;...</td>\n",
       "      <td>개복수술보다 진료비 4~5배 비싼게 흠…건보 적용여부가 성공 열쇠  임상참여 나군호...</td>\n",
       "    </tr>\n",
       "    <tr>\n",
       "      <th>1</th>\n",
       "      <td>https://news.naver.com/main/read.nhn?mode=LSD&amp;...</td>\n",
       "      <td>문재인 대통령은 오늘(9일) 서울의 한 대학병원을 찾아 치료비 부담을 국가가 나눠지...</td>\n",
       "    </tr>\n",
       "    <tr>\n",
       "      <th>2</th>\n",
       "      <td>https://news.naver.com/main/read.nhn?mode=LSD&amp;...</td>\n",
       "      <td>문 대통령, '울지 마세요'(서울=연합뉴스) 배재만 기자 = 문재인 대통령이 9일 ...</td>\n",
       "    </tr>\n",
       "    <tr>\n",
       "      <th>3</th>\n",
       "      <td>https://news.naver.com/main/read.nhn?mode=LSD&amp;...</td>\n",
       "      <td>문재인 대통령, 건강보험 정책 발표 (PG)[제작 최자윤] 일러스트   재난적 의료...</td>\n",
       "    </tr>\n",
       "    <tr>\n",
       "      <th>4</th>\n",
       "      <td>https://news.naver.com/main/read.nhn?mode=LSD&amp;...</td>\n",
       "      <td>문 대통령, '건강보험 보장은'(서울=연합뉴스) 배재만 기자 = 문재인 대통령이 9...</td>\n",
       "    </tr>\n",
       "  </tbody>\n",
       "</table>\n",
       "</div>"
      ],
      "text/plain": [
       "                                                 URL  \\\n",
       "0  https://news.naver.com/main/read.nhn?mode=LSD&...   \n",
       "1  https://news.naver.com/main/read.nhn?mode=LSD&...   \n",
       "2  https://news.naver.com/main/read.nhn?mode=LSD&...   \n",
       "3  https://news.naver.com/main/read.nhn?mode=LSD&...   \n",
       "4  https://news.naver.com/main/read.nhn?mode=LSD&...   \n",
       "\n",
       "                                             content  \n",
       "0  개복수술보다 진료비 4~5배 비싼게 흠…건보 적용여부가 성공 열쇠  임상참여 나군호...  \n",
       "1  문재인 대통령은 오늘(9일) 서울의 한 대학병원을 찾아 치료비 부담을 국가가 나눠지...  \n",
       "2  문 대통령, '울지 마세요'(서울=연합뉴스) 배재만 기자 = 문재인 대통령이 9일 ...  \n",
       "3  문재인 대통령, 건강보험 정책 발표 (PG)[제작 최자윤] 일러스트   재난적 의료...  \n",
       "4  문 대통령, '건강보험 보장은'(서울=연합뉴스) 배재만 기자 = 문재인 대통령이 9...  "
      ]
     },
     "execution_count": 246,
     "metadata": {},
     "output_type": "execute_result"
    }
   ],
   "source": [
    "df_content = pd.DataFrame({'URL' : content_url, 'content' : content_list})\n",
    "df_content.head()"
   ]
  }
 ],
 "metadata": {
  "kernelspec": {
   "display_name": "Python 3",
   "language": "python",
   "name": "python3"
  },
  "language_info": {
   "codemirror_mode": {
    "name": "ipython",
    "version": 3
   },
   "file_extension": ".py",
   "mimetype": "text/x-python",
   "name": "python",
   "nbconvert_exporter": "python",
   "pygments_lexer": "ipython3",
   "version": "3.6.2"
  },
  "varInspector": {
   "cols": {
    "lenName": 16,
    "lenType": 16,
    "lenVar": 40
   },
   "kernels_config": {
    "python": {
     "delete_cmd_postfix": "",
     "delete_cmd_prefix": "del ",
     "library": "var_list.py",
     "varRefreshCmd": "print(var_dic_list())"
    },
    "r": {
     "delete_cmd_postfix": ") ",
     "delete_cmd_prefix": "rm(",
     "library": "var_list.r",
     "varRefreshCmd": "cat(var_dic_list()) "
    }
   },
   "types_to_exclude": [
    "module",
    "function",
    "builtin_function_or_method",
    "instance",
    "_Feature"
   ],
   "window_display": false
  }
 },
 "nbformat": 4,
 "nbformat_minor": 2
}
