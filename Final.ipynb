{
 "cells": [
  {
   "cell_type": "code",
   "execution_count": 24,
   "metadata": {},
   "outputs": [],
   "source": [
    "from selenium import webdriver\n",
    "from selenium.webdriver.common.desired_capabilities import DesiredCapabilities\n",
    "from selenium.webdriver.support.ui import WebDriverWait\n",
    "from selenium.webdriver.support import expected_conditions as EC\n",
    "from selenium.webdriver.common.keys import Keys\n",
    "from selenium.webdriver.common.by import By\n",
    "from selenium.common.exceptions import TimeoutException\n",
    "\n",
    "import cv2\n",
    "import pickle\n",
    "\n",
    "import dlib\n",
    "import face_recognition as fr\n",
    "import matplotlib.pyplot as plt\n",
    "import re\n",
    "import glob\n",
    "\n",
    "import json\n",
    "from urllib.request import urlopen\n",
    "import time\n",
    "import os"
   ]
  },
  {
   "cell_type": "code",
   "execution_count": 25,
   "metadata": {},
   "outputs": [],
   "source": [
    "def preprocess(name):\n",
    "    name = re.sub('\\(.+\\)', '', name)\n",
    "    name = name.strip()\n",
    "    \n",
    "    return name"
   ]
  },
  {
   "cell_type": "code",
   "execution_count": 28,
   "metadata": {},
   "outputs": [
    {
     "name": "stdout",
     "output_type": "stream",
     "text": [
      "1602 persons returned\n",
      "3 persons got error\n",
      "error list ;  ['동호(前 유키스) - 신동호☆', '마크(NCT) → Mark Lee☆', '유정(라붐) → → 김유정☆']\n"
     ]
    }
   ],
   "source": [
    "driver = webdriver.Chrome()\n",
    "name_list_url = 'https://namu.wiki/w/%EC%97%B0%EC%98%88%EC%9D%B8/%EB%B3%B8%EB%AA%85%20%EB%B0%8F%20%EC%98%88%EB%AA%85'\n",
    "driver.get(name_list_url)\n",
    "\n",
    "name_list, error_list = [], []\n",
    "for i in range(3,18):\n",
    "    class_ = driver.find_elements_by_class_name('wiki-heading-content')[i]\n",
    "    raw_name_list = class_.find_elements_by_css_selector('ul.wiki-list li')\n",
    "    \n",
    "    for raw_name in raw_name_list:\n",
    "        split_name = raw_name.text.split('→')\n",
    "        stage_name = preprocess(split_name[0])\n",
    "        \n",
    "        try:\n",
    "            real_name = re.search('[가-힣]+', split_name[1])[0].strip()\n",
    "        except Exception as e:\n",
    "            error_list.append(raw_name.text)\n",
    "            continue\n",
    "            \n",
    "        name_list.append(stage_name + ' ' + real_name)\n",
    "print(f'{len(name_list)} persons returned')\n",
    "print(f'{len(error_list)} persons got error')\n",
    "\n",
    "print('error list : ', error_list)"
   ]
  },
  {
   "cell_type": "code",
   "execution_count": 29,
   "metadata": {},
   "outputs": [
    {
     "name": "stdout",
     "output_type": "stream",
     "text": [
      "동호 신동호\n",
      "마크 Mark Lee\n",
      "유정 김유정\n"
     ]
    }
   ],
   "source": [
    "stage_name = preprocess(error_list[0].split('-')[0])\n",
    "real_name = re.search('[가-힣]+', error_list[0].split('-')[1])[0]\n",
    "print(stage_name, real_name)\n",
    "name_list.append(stage_name + ' ' + real_name)\n",
    "\n",
    "stage_name = preprocess(error_list[1].split('→')[0])\n",
    "real_name = re.search('[가-힣A-Za-z ]+', error_list[1].split('→')[1])[0].strip()\n",
    "print(stage_name, real_name)\n",
    "name_list.append(stage_name + ' ' + real_name)\n",
    "\n",
    "stage_name = preprocess(error_list[2].split('→')[0])\n",
    "real_name = re.search('[가-힣A-Za-z ]+', error_list[2].split('→')[-1])[0].strip()\n",
    "print(stage_name, real_name)\n",
    "name_list.append(stage_name + ' ' + real_name)"
   ]
  },
  {
   "cell_type": "markdown",
   "metadata": {},
   "source": [
    "# Condition 모음"
   ]
  },
  {
   "cell_type": "code",
   "execution_count": 30,
   "metadata": {},
   "outputs": [],
   "source": [
    "# 썬글라스 착용 여부\n",
    "def get_brightness_around_eye(image):\n",
    "    try:\n",
    "        landmarks = []\n",
    "        for k, v in fr.face_landmarks(image)[0].items():\n",
    "            landmarks.extend(v)\n",
    "\n",
    "        left1, right1 = landmarks[36][0], landmarks[39][0]\n",
    "        top1, bottom1 = landmarks[37][1], landmarks[41][1]\n",
    "\n",
    "        left2, right2 = landmarks[42][0], landmarks[45][0]\n",
    "        top2, bottom2 = landmarks[43][1], landmarks[47][1]\n",
    "        \n",
    "        image[top1:bottom1, left1:right1] = np.nan\n",
    "        image[top2:bottom2, left2:right2] = np.nan\n",
    "        \n",
    "        left_glass = image[top1-10:bottom1+10, left1-5:right1+5]\n",
    "        right_glass = image[top2-10:bottom2+10, left2-5:right2+5]\n",
    "\n",
    "        luminance_left = np.nanmean(0.2126*left_glass[:,:,0] + 0.7152*left_glass[:,:,1] + 0.0722*left_glass[:,:,2])\n",
    "        luminance_right = np.nanmean(0.2126*right_glass[:,:,0] + 0.7152*right_glass[:,:,1] + 0.0722*right_glass[:,:,2])\n",
    "        \n",
    "        #luminance_left2 = np.nanmean(left_glass[:,:,0] + left_glass[:,:,1] + left_glass[:,:,2])\n",
    "        #luminance_right2 = np.nanmean(right_glass[:,:,0] + right_glass[:,:,1] + right_glass[:,:,2])\n",
    "        \n",
    "        return luminance_left, luminance_right\n",
    "    \n",
    "    except:\n",
    "        return None\n",
    "\n",
    "# 마스크 착용 여부\n",
    "def get_brightness_around_mouse(image):\n",
    "    landmarks = []\n",
    "    for k, v in fr.face_landmarks(image)[0].items():\n",
    "        landmarks.extend(v)\n",
    "\n",
    "    left1, right1 = landmarks[6][0], landmarks[11][0]\n",
    "    top1, bottom1 = landmarks[2][1], landmarks[6][1]\n",
    "\n",
    "    mask = image[top1:bottom1, left1:right1]\n",
    "\n",
    "    mask_luminance = np.nanmean(0.2126*mask[:,:,0] + 0.7152*mask[:,:,1] + 0.0722*mask[:,:,2])\n",
    "    return mask_luminance\n",
    "\n",
    "# 얼굴 회전 여부\n",
    "def ratio_of_face_rotate(image):\n",
    "    landmarks = []\n",
    "    for k, v in fr.face_landmarks(image)[0].items():\n",
    "        landmarks.extend(v)\n",
    "\n",
    "    left = np.linalg.norm(np.array(landmarks[30]) - np.array(landmarks[2]))\n",
    "    right = np.linalg.norm(np.array(landmarks[30]) - np.array(landmarks[14]))\n",
    "    ratio = min(left, right) / max(left, right)\n",
    "    \n",
    "    return ratio"
   ]
  },
  {
   "cell_type": "code",
   "execution_count": null,
   "metadata": {},
   "outputs": [],
   "source": [
    "driver = webdriver.Chrome()\n",
    "\n",
    "search_url = \"https://www.google.com/search?q={}&tbm=isch&ved=2ahUKEwjlj4ThuYryAhUTI6YKHfQ_By0Q2-cCegQIABAA&oq=%EA%B9%80%EB%8F%99%EC%9A%B1&gs_lcp=CgNpbWcQA1AAWABglHhoAHAAeACAAQCIAQCSAQCYAQCqAQtnd3Mtd2l6LWltZw&sclient=img&ei=VsIDYeWMMZPGmAX0_5zoAg\"\n",
    "\n",
    "driver.get(search_url.format(name))"
   ]
  },
  {
   "cell_type": "code",
   "execution_count": 82,
   "metadata": {
    "scrolled": true
   },
   "outputs": [],
   "source": [
    "for a in driver.find_elements_by_css_selector('div.islrc img.rg_i.Q4LuWd'):\n",
    "    b = a.get_attribute('src')"
   ]
  },
  {
   "cell_type": "code",
   "execution_count": 118,
   "metadata": {},
   "outputs": [],
   "source": [
    "def save_image_from_url(image_url):\n",
    "    with urlopen(image_url) as f:\n",
    "        with open(f'error/{name}.jpg', 'wb') as file_name:\n",
    "            img = f.read()\n",
    "            file_name.write(img)\n",
    "    img = np.array(Image.open(io.BytesIO(img)))\n",
    "    #img = fr.load_image_file(file_name)\n",
    "            \n",
    "    return img, file_name"
   ]
  },
  {
   "cell_type": "code",
   "execution_count": 116,
   "metadata": {},
   "outputs": [],
   "source": [
    "driver = webdriver.Chrome()"
   ]
  },
  {
   "cell_type": "code",
   "execution_count": 114,
   "metadata": {},
   "outputs": [
    {
     "data": {
      "text/plain": [
       "['적재 정재원',\n",
       " '경원 강경원',\n",
       " '정욱 정정길',\n",
       " 'Jun.K 김민준',\n",
       " 'Crown J 김계훈',\n",
       " 'Tukutz 김정식',\n",
       " '빅죠 벌크',\n",
       " '춘자 홍수연',\n",
       " 'Electronic Boutique 심재현',\n",
       " '반효정 반만희',\n",
       " '신사동 호랭이 이호양',\n",
       " '케빈 백승빈',\n",
       " '터틀맨 임성훈',\n",
       " '정이랑 정명옥',\n",
       " '건우 김건우',\n",
       " 'PEEJAY 박정철',\n",
       " 'ND Lee 이창현',\n",
       " '탁 이기철',\n",
       " '최영원 최영근',\n",
       " '계피 임수진',\n",
       " '프리마비스타 윤승헌',\n",
       " '다빈크 임형빈',\n",
       " '김민정 김순애',\n",
       " '성유빈 이성익',\n",
       " '지현성 박춘현',\n",
       " '김지영 김효식',\n",
       " '도환 길도환',\n",
       " '이숙 이정숙',\n",
       " '신사임당 주언규',\n",
       " '한재석 한상우',\n",
       " '독고진 전성우',\n",
       " '황정리 황태수',\n",
       " '상아리 장혁준',\n",
       " '하명중 하명종',\n",
       " '강예원 김지은',\n",
       " 'ROMEO 박정민',\n",
       " '이민우 이동민',\n",
       " '최무룡 최한련',\n",
       " '안녕하신가영 백가영',\n",
       " '랍티미스트 이혁기',\n",
       " '거룡 문경석',\n",
       " '스페이스 카우보이 박성진',\n",
       " '김인문 김인륜',\n",
       " 'TRIPPY DOG 김정훈',\n",
       " '키진 장경진',\n",
       " '남철 윤성노',\n",
       " '이박사 이용석',\n",
       " '정애리 정경복',\n",
       " '이레 조서영',\n",
       " '이애리수 이음전',\n",
       " '밀라논나 장명숙',\n",
       " '알로직 장성민',\n",
       " 'Razer 임유섭',\n",
       " '김정애 김정순',\n",
       " '지성 박지성',\n",
       " '노아 최유빈',\n",
       " '박승화 박승진',\n",
       " '최연제 김연재',\n",
       " '신세영 정정수',\n",
       " '샘 김 김건지',\n",
       " '개리 강희건',\n",
       " '한그루 민한그루',\n",
       " '김바다 김정남',\n",
       " 'XIA 김준수',\n",
       " '에이든 권예준',\n",
       " '수민 박수민',\n",
       " '토리 김지혜',\n",
       " '장신영 장신자',\n",
       " 'HAON 김하온',\n",
       " '김구 김원기',\n",
       " 'JEROME 오성민',\n",
       " 'MC몽 신동현',\n",
       " 'wan9u 이완구',\n",
       " '미카 이수훈',\n",
       " '제프 이재호',\n",
       " 'LeeZu 이준영',\n",
       " '조수미 조수경',\n",
       " 'M2U 신동휘',\n",
       " '김단율 김동현',\n",
       " '강석 전영근',\n",
       " '황정자 황창순',\n",
       " '제이민 신민정',\n",
       " 'Sean2slow 정우섭',\n",
       " '한복남 한영순',\n",
       " '김시후 김영준',\n",
       " 'wigen 김현중',\n",
       " 'BLSSD 신재훈',\n",
       " '한서진 김지현',\n",
       " '현무 정창화',\n",
       " 'E SENS 강민호',\n",
       " '이지연 이진영',\n",
       " '일리닛 최재연',\n",
       " '태군 김태군',\n",
       " '뎁 김민경',\n",
       " '안석환 안진형',\n",
       " '이동우 김동우',\n",
       " '나연 한나연',\n",
       " 'Young K 강영현',\n",
       " '자니 윤 윤종승',\n",
       " '강하늘 김하늘',\n",
       " 'Jay Lee 이재현',\n",
       " '연희 김연희',\n",
       " '승리 이승현',\n",
       " '조춘 조창성',\n",
       " 'PD대정령 김대현',\n",
       " 'UMC/UW 유승균',\n",
       " '박동빈 박종문',\n",
       " '기린 이대희',\n",
       " 'JOO 정아린',\n",
       " '예지 이예지',\n",
       " '장동휘 장갑순',\n",
       " 'JAY B 임재범',\n",
       " '요조 신수진',\n",
       " '영건 홍연근',\n",
       " '레오 정택운',\n",
       " '김거지 김정균',\n",
       " '페리 페리',\n",
       " '황봉알 황원식',\n",
       " '요아리 강미진',\n",
       " '라마 최진규',\n",
       " '유열 유종열',\n",
       " '이경규 이명규',\n",
       " '신나린 김수경',\n",
       " '장웅 장효웅',\n",
       " '황금심 황금동',\n",
       " '퓨어킴 김별',\n",
       " '수윤 김수윤',\n",
       " '윤진이 김윤진',\n",
       " '이병욱 이병춘',\n",
       " '박서준 박용규',\n",
       " '알렉산더 알렉산더',\n",
       " 'Nauts 남구민',\n",
       " '김경민 김경종',\n",
       " '이빈 이은하',\n",
       " 'Kenzie 김연정',\n",
       " '김태희 김영옥',\n",
       " '서후 김미현',\n",
       " '송영길 송경길',\n",
       " '킬라그램 이준희',\n",
       " '김연우 김학철',\n",
       " 'JiMMie 박지훈',\n",
       " '정부미 양용남',\n",
       " '중대장 김재용',\n",
       " '고은아 방효진',\n",
       " '홍경민 홍성민',\n",
       " '문풍지 문택길',\n",
       " 'Mithra 眞 최진',\n",
       " '정애란 예대임',\n",
       " '지박 박지웅',\n",
       " 'Mokyo 최명환',\n",
       " 'Y 최성윤',\n",
       " '백남봉 박두식',\n",
       " 'Lola Fair 차유미',\n",
       " '홍기훈 오희태',\n",
       " '스컬 조성진',\n",
       " 'NO:EL 장용준',\n",
       " '테오 최태양',\n",
       " '은교 서은교',\n",
       " '최준영 최준명',\n",
       " '나미애 김규순']"
      ]
     },
     "execution_count": 114,
     "metadata": {},
     "output_type": "execute_result"
    }
   ],
   "source": [
    "error_name_list"
   ]
  },
  {
   "cell_type": "code",
   "execution_count": 121,
   "metadata": {},
   "outputs": [
    {
     "data": {
      "text/plain": [
       "'이레 조서영'"
      ]
     },
     "execution_count": 121,
     "metadata": {},
     "output_type": "execute_result"
    }
   ],
   "source": [
    "error_name_list[48:]"
   ]
  },
  {
   "cell_type": "code",
   "execution_count": 122,
   "metadata": {
    "scrolled": true
   },
   "outputs": [
    {
     "name": "stdout",
     "output_type": "stream",
     "text": [
      "이레 조서영 Succeed\n",
      "이애리수 이음전 Succeed\n",
      "밀라논나 장명숙 Succeed\n",
      "알로직 장성민 Succeed\n",
      "Razer 임유섭 Succeed\n",
      "김정애 김정순 Succeed\n",
      "지성 박지성 Succeed\n",
      "노아 최유빈 Succeed\n",
      "박승화 박승진 Succeed\n",
      "최연제 김연재 Succeed\n",
      "신세영 정정수 Succeed\n",
      "샘 김 김건지 Succeed\n",
      "개리 강희건 Succeed\n",
      "한그루 민한그루 Succeed\n",
      "김바다 김정남 Succeed\n",
      "XIA 김준수 Succeed\n",
      "에이든 권예준 Succeed\n",
      "수민 박수민 Succeed\n",
      "토리 김지혜 Succeed\n",
      "장신영 장신자 Succeed\n",
      "HAON 김하온 Succeed\n",
      "김구 김원기 Succeed\n",
      "JEROME 오성민 Succeed\n",
      "MC몽 신동현 Succeed\n",
      "wan9u 이완구 Succeed\n",
      "미카 이수훈 Succeed\n",
      "제프 이재호 Succeed\n",
      "LeeZu 이준영 Succeed\n",
      "조수미 조수경 Succeed\n",
      "M2U 신동휘 Succeed\n",
      "김단율 김동현 Succeed\n",
      "강석 전영근 Succeed\n",
      "황정자 황창순 Succeed\n",
      "제이민 신민정 Succeed\n",
      "Sean2slow 정우섭 Succeed\n",
      "한복남 한영순 Succeed\n",
      "김시후 김영준 Succeed\n",
      "wigen 김현중 Succeed\n",
      "BLSSD 신재훈 Succeed\n",
      "한서진 김지현 Succeed\n",
      "현무 정창화 Succeed\n",
      "E SENS 강민호 Succeed\n",
      "이지연 이진영 Succeed\n",
      "일리닛 최재연 Succeed\n",
      "태군 김태군 Succeed\n",
      "뎁 김민경 Succeed\n",
      "안석환 안진형 Succeed\n",
      "이동우 김동우 Succeed\n",
      "나연 한나연 Succeed\n",
      "Young K 강영현 Succeed\n",
      "자니 윤 윤종승 Succeed\n",
      "강하늘 김하늘 Succeed\n",
      "Jay Lee 이재현 Succeed\n",
      "연희 김연희 Succeed\n",
      "승리 이승현 Succeed\n",
      "조춘 조창성 Succeed\n",
      "PD대정령 김대현 Succeed\n",
      "UMC/UW 유승균 [Errno 2] No such file or directory: 'error/UMC/UW 유승균.jpg'\n",
      "박동빈 박종문 Succeed\n",
      "기린 이대희 Succeed\n",
      "JOO 정아린 Succeed\n",
      "예지 이예지 Succeed\n",
      "장동휘 장갑순 Succeed\n",
      "JAY B 임재범 Succeed\n",
      "요조 신수진 Succeed\n",
      "영건 홍연근 Succeed\n",
      "레오 정택운 Succeed\n",
      "김거지 김정균 Succeed\n",
      "페리 페리 Succeed\n",
      "황봉알 황원식 Succeed\n",
      "요아리 강미진 Succeed\n",
      "라마 최진규 Succeed\n",
      "유열 유종열 Succeed\n",
      "이경규 이명규 Succeed\n",
      "신나린 김수경 Succeed\n",
      "장웅 장효웅 Succeed\n",
      "황금심 황금동 Succeed\n",
      "퓨어킴 김별 Succeed\n",
      "수윤 김수윤 Succeed\n",
      "윤진이 김윤진 Succeed\n",
      "이병욱 이병춘 Succeed\n",
      "박서준 박용규 Succeed\n",
      "알렉산더 알렉산더 Succeed\n",
      "Nauts 남구민 Succeed\n",
      "김경민 김경종 Succeed\n",
      "이빈 이은하 Succeed\n",
      "Kenzie 김연정 Succeed\n",
      "김태희 김영옥 Succeed\n",
      "서후 김미현 Succeed\n",
      "송영길 송경길 Succeed\n",
      "킬라그램 이준희 Succeed\n",
      "김연우 김학철 Succeed\n",
      "JiMMie 박지훈 Succeed\n",
      "정부미 양용남 Succeed\n",
      "중대장 김재용 Succeed\n",
      "고은아 방효진 Succeed\n",
      "홍경민 홍성민 Succeed\n",
      "문풍지 문택길 Succeed\n",
      "Mithra 眞 최진 Succeed\n",
      "정애란 예대임 Succeed\n",
      "지박 박지웅 Succeed\n",
      "Mokyo 최명환 Succeed\n",
      "Y 최성윤 Succeed\n",
      "백남봉 박두식 Succeed\n",
      "Lola Fair 차유미 Succeed\n",
      "홍기훈 오희태 Succeed\n",
      "스컬 조성진 Succeed\n",
      "NO:EL 장용준 Succeed\n",
      "테오 최태양 Succeed\n",
      "은교 서은교 Succeed\n",
      "최준영 최준명 Succeed\n",
      "나미애 김규순 Succeed\n"
     ]
    }
   ],
   "source": [
    "delay=2\n",
    "error_name = []\n",
    "#detector_hog = dlib.get_frontal_face_detector() # 얼굴 탐지기 불러오기\n",
    "\n",
    "for name in error_name_list[48:]:\n",
    "    search_url = \"https://www.google.com/search?q={}&tbm=isch&ved=2ahUKEwjlj4ThuYryAhUTI6YKHfQ_By0Q2-cCegQIABAA&oq=%EA%B9%80%EB%8F%99%EC%9A%B1&gs_lcp=CgNpbWcQA1AAWABglHhoAHAAeACAAQCIAQCSAQCYAQCqAQtnd3Mtd2l6LWltZw&sclient=img&ei=VsIDYeWMMZPGmAX0_5zoAg\"\n",
    "    driver.get(search_url.format(name))\n",
    "    time.sleep(0.2)\n",
    "    try:\n",
    "        driver.find_element_by_tag_name('html').send_keys(Keys.END)\n",
    "        image_url_list = driver.find_elements_by_css_selector('div.islrc img.rg_i.Q4LuWd')[:50]\n",
    "    \n",
    "        is_succeed = 0\n",
    "        for image_url in image_url_list:\n",
    "            \n",
    "            img, file_name = save_image_from_url(image_url.get_attribute('src'))\n",
    "\n",
    "            try:\n",
    "#                 image = fr.load_image_file(file_name.name)\n",
    "#                 if (image.shape[0] < 200) or (image.shape[1] < 200):\n",
    "#                     print(name, 'Too Small')\n",
    "#                     continue\n",
    "                \n",
    "                locations = fr.face_locations(image)\n",
    "                if len(locations) != 1:\n",
    "                    print(name, 'No Face')\n",
    "                    continue\n",
    "                    \n",
    "#                 top, right, bottom, left = locations[0]\n",
    "#                 face_cropped = image[top:bottom, left:right]\n",
    "#                 if (face_cropped.shape[0] < 30) or (face_cropped.shape[1] < 30):\n",
    "#                     print(name, 'Cropped Too Small')\n",
    "#                     continue\n",
    "                \n",
    "                face_embedding = fr.face_encodings(face_cropped)\n",
    "                if len(face_embedding) != 1:\n",
    "                    print(name, 'No Embedding')\n",
    "                    continue\n",
    "                                  \n",
    "                ratio = ratio_of_face_rotate(image)\n",
    "                if ratio < 0.60:\n",
    "                    print(name, 'Rotated')\n",
    "                    continue\n",
    "                    \n",
    "#                 left_eye, right_eye = get_brightness_around_eye(image)\n",
    "#                 if (left_eye < 60) & (right_eye < 60):\n",
    "#                     print(name, 'Maybe Sunglasses')\n",
    "#                     continue\n",
    "                \n",
    "#                 mask = get_brightness_around_mouse(image)\n",
    "#                 if mask > 220:\n",
    "#                     print(name, 'Maybe Mask?')\n",
    "                                \n",
    "                is_succeed = 1\n",
    "                print(name, 'Succeed')\n",
    "                break\n",
    "                                      \n",
    "            except Exception as ex:\n",
    "                print(name, 'failed detection', ex)\n",
    "                continue\n",
    "                \n",
    "        if is_succeed == 0:\n",
    "            os.remove(file_name.name)\n",
    "            error_name.append(name)\n",
    "            print(name, 'collecting Failed')\n",
    "        \n",
    "    except Exception as ex:\n",
    "        print(name, ex)\n",
    "        error_name.append(name)\n",
    "        "
   ]
  },
  {
   "cell_type": "markdown",
   "metadata": {},
   "source": [
    "# 다운로드 확인"
   ]
  },
  {
   "cell_type": "code",
   "execution_count": 108,
   "metadata": {},
   "outputs": [
    {
     "data": {
      "text/plain": [
       "1599"
      ]
     },
     "execution_count": 108,
     "metadata": {},
     "output_type": "execute_result"
    }
   ],
   "source": [
    "len(name_list)"
   ]
  },
  {
   "cell_type": "code",
   "execution_count": 109,
   "metadata": {},
   "outputs": [
    {
     "data": {
      "text/plain": [
       "1035"
      ]
     },
     "execution_count": 109,
     "metadata": {},
     "output_type": "execute_result"
    }
   ],
   "source": [
    "len(glob.glob('celebrity_google/*.jpg'))"
   ]
  },
  {
   "cell_type": "code",
   "execution_count": 111,
   "metadata": {},
   "outputs": [
    {
     "data": {
      "text/plain": [
       "458"
      ]
     },
     "execution_count": 111,
     "metadata": {},
     "output_type": "execute_result"
    }
   ],
   "source": [
    "len(error_name)"
   ]
  }
 ],
 "metadata": {
  "kernelspec": {
   "display_name": "Python 3",
   "language": "python",
   "name": "python3"
  },
  "language_info": {
   "codemirror_mode": {
    "name": "ipython",
    "version": 3
   },
   "file_extension": ".py",
   "mimetype": "text/x-python",
   "name": "python",
   "nbconvert_exporter": "python",
   "pygments_lexer": "ipython3",
   "version": "3.8.5"
  },
  "varInspector": {
   "cols": {
    "lenName": 16,
    "lenType": 16,
    "lenVar": 40
   },
   "kernels_config": {
    "python": {
     "delete_cmd_postfix": "",
     "delete_cmd_prefix": "del ",
     "library": "var_list.py",
     "varRefreshCmd": "print(var_dic_list())"
    },
    "r": {
     "delete_cmd_postfix": ") ",
     "delete_cmd_prefix": "rm(",
     "library": "var_list.r",
     "varRefreshCmd": "cat(var_dic_list()) "
    }
   },
   "types_to_exclude": [
    "module",
    "function",
    "builtin_function_or_method",
    "instance",
    "_Feature"
   ],
   "window_display": false
  }
 },
 "nbformat": 4,
 "nbformat_minor": 4
}
