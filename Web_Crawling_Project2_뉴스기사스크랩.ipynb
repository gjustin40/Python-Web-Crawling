{
 "cells": [
  {
   "cell_type": "code",
   "execution_count": 6,
   "metadata": {},
   "outputs": [],
   "source": [
    "from selenium import webdriver\n",
    "from bs4 import BeautifulSoup as bs\n",
    "import pandas as pd\n",
    "import numpy as np\n",
    "import matplotlib.pyplot as plt\n",
    "\n",
    "%matplotlib inline"
   ]
  },
  {
   "cell_type": "code",
   "execution_count": 40,
   "metadata": {},
   "outputs": [],
   "source": [
    "driver = webdriver.Chrome('chromedriver.exe')\n",
    "\n",
    "driver.get('https://naver.com')\n",
    "\n",
    "driver.find_element_by_id('query').send_keys('동성제약')\n",
    "driver.find_element_by_id('search_btn').click()\n",
    "\n",
    "driver.find_element_by_css_selector('div.lnb_menu').find_element_by_link_text('뉴스').click()\n",
    "\n",
    "driver.find_element_by_id('_search_option_btn').click()\n",
    "\n",
    "driver.find_element_by_css_selector('ul.option_menu').find_element_by_link_text('영역').click()\n",
    "\n",
    "driver.find_element_by_css_selector('.menu.selected').find_element_by_link_text('제목').click()"
   ]
  },
  {
   "cell_type": "code",
   "execution_count": 64,
   "metadata": {},
   "outputs": [
    {
     "data": {
      "text/plain": [
       "[<selenium.webdriver.remote.webelement.WebElement (session=\"4bc0623e66884cc03a0c55d668e208c5\", element=\"0.013954942651315694-2\")>,\n",
       " <selenium.webdriver.remote.webelement.WebElement (session=\"4bc0623e66884cc03a0c55d668e208c5\", element=\"0.013954942651315694-3\")>,\n",
       " <selenium.webdriver.remote.webelement.WebElement (session=\"4bc0623e66884cc03a0c55d668e208c5\", element=\"0.013954942651315694-4\")>,\n",
       " <selenium.webdriver.remote.webelement.WebElement (session=\"4bc0623e66884cc03a0c55d668e208c5\", element=\"0.013954942651315694-5\")>,\n",
       " <selenium.webdriver.remote.webelement.WebElement (session=\"4bc0623e66884cc03a0c55d668e208c5\", element=\"0.013954942651315694-6\")>,\n",
       " <selenium.webdriver.remote.webelement.WebElement (session=\"4bc0623e66884cc03a0c55d668e208c5\", element=\"0.013954942651315694-7\")>,\n",
       " <selenium.webdriver.remote.webelement.WebElement (session=\"4bc0623e66884cc03a0c55d668e208c5\", element=\"0.013954942651315694-8\")>,\n",
       " <selenium.webdriver.remote.webelement.WebElement (session=\"4bc0623e66884cc03a0c55d668e208c5\", element=\"0.013954942651315694-9\")>,\n",
       " <selenium.webdriver.remote.webelement.WebElement (session=\"4bc0623e66884cc03a0c55d668e208c5\", element=\"0.013954942651315694-10\")>,\n",
       " <selenium.webdriver.remote.webelement.WebElement (session=\"4bc0623e66884cc03a0c55d668e208c5\", element=\"0.013954942651315694-11\")>]"
      ]
     },
     "execution_count": 64,
     "metadata": {},
     "output_type": "execute_result"
    }
   ],
   "source": [
    "title = []\n",
    "date = []\n",
    "company = []\n",
    "context = []\n",
    "reporter = []\n",
    "data = {'title' : [], 'date' : [], 'company' : [], 'context' [], 'reporter' : []}\n",
    "for news in driver.find_elements_by_css_selector('div.thumb'):\n",
    "    news.click()\n",
    "    html = news.page_source\n",
    "    soup = bs(html, 'html.parser')\n",
    "    data['title'].append(soup.select('font.head-title'))"
   ]
  },
  {
   "cell_type": "code",
   "execution_count": null,
   "metadata": {},
   "outputs": [],
   "source": [
    "driver.find_elements_by_css_selector('div.thumb')[0].click()"
   ]
  },
  {
   "cell_type": "code",
   "execution_count": 100,
   "metadata": {},
   "outputs": [],
   "source": [
    "data = {'title' : [], 'date' : [], 'context' : [], 'reporter' : []}\n",
    "driver.switch_to.window(driver.window_handles[1])\n",
    "html = driver.page_source\n",
    "soup = bs(html, 'html.parser')\n",
    "data['title'].append(soup.select('font.headline-title')[0].text.strip())\n",
    "data['date'].append(soup.select('li.date')[0].text.strip())\n",
    "data['context'].append(soup.select(''))"
   ]
  },
  {
   "cell_type": "code",
   "execution_count": 101,
   "metadata": {},
   "outputs": [
    {
     "data": {
      "text/plain": [
       "'국민생활건강 파트너 ‘동성제약’, DDP에서 열린 ‘안티에이징&헬스페어’ 통해 염모제, 미백크림, 알러지컷 등 선보여'"
      ]
     },
     "execution_count": 101,
     "metadata": {},
     "output_type": "execute_result"
    }
   ],
   "source": [
    "title"
   ]
  },
  {
   "cell_type": "code",
   "execution_count": 83,
   "metadata": {},
   "outputs": [
    {
     "data": {
      "text/plain": [
       "{'justin': [1, 2]}"
      ]
     },
     "execution_count": 83,
     "metadata": {},
     "output_type": "execute_result"
    }
   ],
   "source": [
    "a = {'justin' : [1]}\n",
    "a['justin'].append(2)\n",
    "a"
   ]
  },
  {
   "cell_type": "code",
   "execution_count": 82,
   "metadata": {},
   "outputs": [
    {
     "data": {
      "text/plain": [
       "{'justin': [1, 2, 3, 3, 3, 3]}"
      ]
     },
     "execution_count": 82,
     "metadata": {},
     "output_type": "execute_result"
    }
   ],
   "source": [
    "a['justin'].append(3)\n",
    "a"
   ]
  },
  {
   "cell_type": "markdown",
   "metadata": {},
   "source": [
    "# 발생한 오류\n",
    "### 1. 인터넷 뉴스 회사마다 html형식이 달라 크롤링에 제약이 생겼다."
   ]
  },
  {
   "cell_type": "markdown",
   "metadata": {},
   "source": [
    "# 새로 배운 것\n",
    "### 1. Multiple class인 element 찾기\n",
    " - css_selector(.class.class)"
   ]
  },
  {
   "cell_type": "code",
   "execution_count": null,
   "metadata": {},
   "outputs": [],
   "source": []
  }
 ],
 "metadata": {
  "kernelspec": {
   "display_name": "Python 3",
   "language": "python",
   "name": "python3"
  },
  "language_info": {
   "codemirror_mode": {
    "name": "ipython",
    "version": 3
   },
   "file_extension": ".py",
   "mimetype": "text/x-python",
   "name": "python",
   "nbconvert_exporter": "python",
   "pygments_lexer": "ipython3",
   "version": "3.6.2"
  },
  "varInspector": {
   "cols": {
    "lenName": 16,
    "lenType": 16,
    "lenVar": 40
   },
   "kernels_config": {
    "python": {
     "delete_cmd_postfix": "",
     "delete_cmd_prefix": "del ",
     "library": "var_list.py",
     "varRefreshCmd": "print(var_dic_list())"
    },
    "r": {
     "delete_cmd_postfix": ") ",
     "delete_cmd_prefix": "rm(",
     "library": "var_list.r",
     "varRefreshCmd": "cat(var_dic_list()) "
    }
   },
   "types_to_exclude": [
    "module",
    "function",
    "builtin_function_or_method",
    "instance",
    "_Feature"
   ],
   "window_display": false
  }
 },
 "nbformat": 4,
 "nbformat_minor": 2
}
