{
 "cells": [
  {
   "cell_type": "code",
   "execution_count": 6,
   "metadata": {},
   "outputs": [],
   "source": [
    "import os\n",
    "os.makedirs('a')"
   ]
  },
  {
   "cell_type": "code",
   "execution_count": 18,
   "metadata": {},
   "outputs": [],
   "source": [
    "def check_dir(filename):\n",
    "    original = filename\n",
    "    file_order = 1\n",
    "    \n",
    "    while True:\n",
    "        if os.path.isdir(filename):\n",
    "            new_name = original + str(file_order)\n",
    "            filename = new_name\n",
    "            file_order += 1\n",
    "        else:\n",
    "            os.makedirs(filename)\n",
    "            break\n",
    "check_dir('a2')"
   ]
  },
  {
   "cell_type": "code",
   "execution_count": 4,
   "metadata": {},
   "outputs": [
    {
     "name": "stdout",
     "output_type": "stream",
     "text": [
      "아래의 음식 사진을 수집합니다.\n",
      "['아메리카노', '카푸치노', '딸기라떼', '녹차라떼']\n",
      "----------------------- 아메리카노  시작------------------\n",
      "페이지 로딩 완료\n",
      "아메리카노 사진 개수 : 487개\n",
      "----------------------- 아메리카노  종료------------------\n",
      "----------------------- 카푸치노  시작------------------\n",
      "페이지 로딩 완료\n",
      "카푸치노 사진 개수 : 488개\n",
      "----------------------- 카푸치노  종료------------------\n",
      "----------------------- 딸기라떼  시작------------------\n",
      "페이지 로딩 완료\n"
     ]
    },
    {
     "ename": "KeyboardInterrupt",
     "evalue": "",
     "output_type": "error",
     "traceback": [
      "\u001b[1;31m---------------------------------------------------------------------------\u001b[0m",
      "\u001b[1;31mKeyboardInterrupt\u001b[0m                         Traceback (most recent call last)",
      "\u001b[1;32m<ipython-input-4-4baee22d32db>\u001b[0m in \u001b[0;36m<module>\u001b[1;34m\u001b[0m\n\u001b[0;32m     45\u001b[0m     \u001b[1;32mwhile\u001b[0m \u001b[1;32mTrue\u001b[0m\u001b[1;33m:\u001b[0m\u001b[1;33m\u001b[0m\u001b[1;33m\u001b[0m\u001b[0m\n\u001b[0;32m     46\u001b[0m         \u001b[0mdriver\u001b[0m\u001b[1;33m.\u001b[0m\u001b[0mfind_element_by_tag_name\u001b[0m\u001b[1;33m(\u001b[0m\u001b[1;34m'html'\u001b[0m\u001b[1;33m)\u001b[0m\u001b[1;33m.\u001b[0m\u001b[0msend_keys\u001b[0m\u001b[1;33m(\u001b[0m\u001b[0mKeys\u001b[0m\u001b[1;33m.\u001b[0m\u001b[0mEND\u001b[0m\u001b[1;33m)\u001b[0m\u001b[1;33m\u001b[0m\u001b[1;33m\u001b[0m\u001b[0m\n\u001b[1;32m---> 47\u001b[1;33m         \u001b[0mtime\u001b[0m\u001b[1;33m.\u001b[0m\u001b[0msleep\u001b[0m\u001b[1;33m(\u001b[0m\u001b[1;36m0.7\u001b[0m\u001b[1;33m)\u001b[0m\u001b[1;33m\u001b[0m\u001b[1;33m\u001b[0m\u001b[0m\n\u001b[0m\u001b[0;32m     48\u001b[0m         \u001b[0mdriver\u001b[0m\u001b[1;33m.\u001b[0m\u001b[0mfind_element_by_class_name\u001b[0m\u001b[1;33m(\u001b[0m\u001b[1;34m'photo_tile'\u001b[0m\u001b[1;33m)\u001b[0m\u001b[1;33m\u001b[0m\u001b[1;33m\u001b[0m\u001b[0m\n\u001b[0;32m     49\u001b[0m         \u001b[0murl_list_for_scroll\u001b[0m \u001b[1;33m=\u001b[0m \u001b[0mdriver\u001b[0m\u001b[1;33m.\u001b[0m\u001b[0mfind_elements_by_class_name\u001b[0m\u001b[1;33m(\u001b[0m\u001b[1;34m'_image'\u001b[0m\u001b[1;33m)\u001b[0m\u001b[1;33m\u001b[0m\u001b[1;33m\u001b[0m\u001b[0m\n",
      "\u001b[1;31mKeyboardInterrupt\u001b[0m: "
     ]
    }
   ],
   "source": [
    "from selenium import webdriver\n",
    "from selenium.webdriver.common.desired_capabilities import DesiredCapabilities\n",
    "from selenium.webdriver.support.ui import WebDriverWait\n",
    "from selenium.webdriver.support import expected_conditions as EC\n",
    "from selenium.webdriver.common.keys import Keys\n",
    "from selenium.webdriver.common.by import By\n",
    "from selenium.common.exceptions import TimeoutException\n",
    "\n",
    "import json\n",
    "from urllib.request import urlopen\n",
    "import time\n",
    "import os\n",
    "\n",
    "caps = DesiredCapabilities.CHROME\n",
    "caps['loggingPrefs'] = {'performance': 'ALL'}\n",
    "options = webdriver.ChromeOptions()\n",
    "options.add_argument('headless')\n",
    "options.add_argument(\"--window-size=1920,1080\")\n",
    "driver = webdriver.Chrome(desired_capabilities=caps,options=options)\n",
    "\n",
    "#driver = webdriver.Chrome('Chromedriver.exe')\n",
    "\n",
    "base_url = 'https://search.naver.com/search.naver?where=image&sm=tab_jum&query='\n",
    "food_list_kr = ['아메리카노', '카푸치노', '딸기라떼', '녹차라떼']\n",
    "food_list_en = ['americano', 'cappucino', 'latte_strawberry', 'latte_greentea']\n",
    "\n",
    "print('아래의 음식 사진을 수집합니다.')\n",
    "print(food_list_kr)\n",
    "\n",
    "image_total = 0\n",
    "os.makedirs('new_data', exist_ok=True)\n",
    "for food_en, food_kr in zip(food_list_en, food_list_kr):\n",
    "    print('-----------------------', food_kr + '  시작------------------')\n",
    "    driver.get(base_url + food_kr)\n",
    "    delay = 10\n",
    "    \n",
    "    try:\n",
    "        myElem = WebDriverWait(driver, delay).until(EC.presence_of_element_located((By.ID, 'main_pack')))\n",
    "        print(\"페이지 로딩 완료\")\n",
    "    except TimeoutException:\n",
    "        print(\"페이지 로딩 실패\")\n",
    "        break\n",
    "        \n",
    "    list_len_for_scroll = 0\n",
    "    while True:\n",
    "        driver.find_element_by_tag_name('html').send_keys(Keys.END)\n",
    "        time.sleep(0.7)\n",
    "        driver.find_element_by_class_name('photo_tile')\n",
    "        url_list_for_scroll = driver.find_elements_by_class_name('_image')\n",
    "        \n",
    "        \n",
    "        if len(url_list_for_scroll) == list_len_for_scroll:\n",
    "            driver.find_element_by_tag_name('html').send_keys(Keys.HOME)\n",
    "            y = 1000\n",
    "            for timer in range(0,50):\n",
    "                driver.execute_script(\"window.scrollTo(0, \"+str(y)+\")\")\n",
    "                y += 1000  \n",
    "                time.sleep(0.1)\n",
    "            break\n",
    "\n",
    "        list_len_for_scroll = len(url_list_for_scroll)\n",
    "        \n",
    "    driver_log = driver.get_log('performance')\n",
    "    image_url_list = []\n",
    "    for i, log in enumerate(driver_log):\n",
    "        if 'request' in json.loads(log['message'])['message']['params']:\n",
    "            url = json.loads(log['message'])['message']['params']['request']['url']\n",
    "            if 'https://search.pstatic.net/common/' in url:\n",
    "                image_url_list.append(url)   \n",
    "    \n",
    "    count = 1\n",
    "    os.makedirs('new_data\\\\' + food_en, exist_ok=True)\n",
    "    for image_url in set(image_url_list):\n",
    "        with urlopen(image_url) as f:\n",
    "            with open('{}\\{}\\{}'.format('new_data', food_en, food_en) + str(count) + '.jpg', 'wb') as file_name:\n",
    "                img = f.read()\n",
    "                file_name.write(img)\n",
    "        count += 1\n",
    "        \n",
    "    print(food_kr + ' 사진 개수 : {}개'.format(len(image_url_list)))\n",
    "    print('-----------------------', food_kr + '  종료------------------')\n",
    "    image_total += len(image_url_list)\n",
    "\n",
    "print('크롤링 끝')\n",
    "print('수집된 이미지의 총 개수는 {}개입니다.'.format(image_total))"
   ]
  }
 ],
 "metadata": {
  "kernelspec": {
   "display_name": "Python 3",
   "language": "python",
   "name": "python3"
  },
  "language_info": {
   "codemirror_mode": {
    "name": "ipython",
    "version": 3
   },
   "file_extension": ".py",
   "mimetype": "text/x-python",
   "name": "python",
   "nbconvert_exporter": "python",
   "pygments_lexer": "ipython3",
   "version": "3.8.5"
  }
 },
 "nbformat": 4,
 "nbformat_minor": 4
}
